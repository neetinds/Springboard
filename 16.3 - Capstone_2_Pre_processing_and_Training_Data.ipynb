{
  "nbformat": 4,
  "nbformat_minor": 0,
  "metadata": {
    "kernelspec": {
      "display_name": "Python 3",
      "language": "python",
      "name": "python3"
    },
    "language_info": {
      "codemirror_mode": {
        "name": "ipython",
        "version": 3
      },
      "file_extension": ".py",
      "mimetype": "text/x-python",
      "name": "python",
      "nbconvert_exporter": "python",
      "pygments_lexer": "ipython3",
      "version": "3.7.4"
    },
    "colab": {
      "name": "16.3 - Capstone 2 - Pre-processing and Training Data.ipynb",
      "provenance": [],
      "include_colab_link": true
    }
  },
  "cells": [
    {
      "cell_type": "markdown",
      "metadata": {
        "id": "view-in-github",
        "colab_type": "text"
      },
      "source": [
        "<a href=\"https://colab.research.google.com/github/neetinds/Springboard/blob/master/16.3%20-%20Capstone_2_Pre_processing_and_Training_Data.ipynb\" target=\"_parent\"><img src=\"https://colab.research.google.com/assets/colab-badge.svg\" alt=\"Open In Colab\"/></a>"
      ]
    },
    {
      "cell_type": "markdown",
      "metadata": {
        "id": "lIdecOSFKa-I"
      },
      "source": [
        "# Completion:\n",
        "- Creating dummy features\n",
        "- Scale standardization\n",
        "- Split data into training and testing subsets"
      ]
    },
    {
      "cell_type": "code",
      "metadata": {
        "id": "Rp6hlciAKa-J"
      },
      "source": [
        "import numpy as np\n",
        "import pandas as pd\n",
        "import seaborn as sns\n",
        "import matplotlib.pyplot as plt\n",
        "%matplotlib inline\n",
        "from sklearn.model_selection import train_test_split\n",
        "import scipy\n",
        "import pandas.util.testing as tm"
      ],
      "execution_count": 2,
      "outputs": []
    },
    {
      "cell_type": "code",
      "metadata": {
        "colab": {
          "base_uri": "https://localhost:8080/"
        },
        "id": "py5KbNWXLA3T",
        "outputId": "42709a81-de2d-4247-8175-a15de025a6c5"
      },
      "source": [
        "from google.colab import drive\n",
        "drive.mount(\"/content/gdrive\", force_remount=True)"
      ],
      "execution_count": 3,
      "outputs": [
        {
          "output_type": "stream",
          "text": [
            "Mounted at /content/gdrive\n"
          ],
          "name": "stdout"
        }
      ]
    },
    {
      "cell_type": "code",
      "metadata": {
        "id": "1LDOc_BxKa-K"
      },
      "source": [
        "filename = \"salary.txt\"\n",
        "df = pd.read_csv(\"/content/gdrive/MyDrive/Springboard-master/16.3 - Capstone Two: Pre-processing & Training Data Development/salary.txt\", delim_whitespace=True)"
      ],
      "execution_count": 4,
      "outputs": []
    },
    {
      "cell_type": "code",
      "metadata": {
        "id": "WQt-DwBNKa-K"
      },
      "source": [
        "sns.set_style(style = 'whitegrid')"
      ],
      "execution_count": 5,
      "outputs": []
    },
    {
      "cell_type": "code",
      "metadata": {
        "colab": {
          "base_uri": "https://localhost:8080/"
        },
        "id": "To3a207SKa-K",
        "outputId": "3b2a075d-114c-434d-bca9-8a3748ef5791"
      },
      "source": [
        "nrow, ncol = df.shape\n",
        "nrow, ncol"
      ],
      "execution_count": 7,
      "outputs": [
        {
          "output_type": "execute_result",
          "data": {
            "text/plain": [
              "(52, 6)"
            ]
          },
          "metadata": {
            "tags": []
          },
          "execution_count": 7
        }
      ]
    },
    {
      "cell_type": "code",
      "metadata": {
        "colab": {
          "base_uri": "https://localhost:8080/",
          "height": 142
        },
        "id": "ro7Rx8bqKa-K",
        "outputId": "f068bbbb-8207-4538-b54c-54133dc7ceb8"
      },
      "source": [
        "df.head(3)"
      ],
      "execution_count": 8,
      "outputs": [
        {
          "output_type": "execute_result",
          "data": {
            "text/html": [
              "<div>\n",
              "<style scoped>\n",
              "    .dataframe tbody tr th:only-of-type {\n",
              "        vertical-align: middle;\n",
              "    }\n",
              "\n",
              "    .dataframe tbody tr th {\n",
              "        vertical-align: top;\n",
              "    }\n",
              "\n",
              "    .dataframe thead th {\n",
              "        text-align: right;\n",
              "    }\n",
              "</style>\n",
              "<table border=\"1\" class=\"dataframe\">\n",
              "  <thead>\n",
              "    <tr style=\"text-align: right;\">\n",
              "      <th></th>\n",
              "      <th>sx</th>\n",
              "      <th>rk</th>\n",
              "      <th>yr</th>\n",
              "      <th>dg</th>\n",
              "      <th>yd</th>\n",
              "      <th>sl</th>\n",
              "    </tr>\n",
              "  </thead>\n",
              "  <tbody>\n",
              "    <tr>\n",
              "      <th>0</th>\n",
              "      <td>male</td>\n",
              "      <td>full</td>\n",
              "      <td>25</td>\n",
              "      <td>doctorate</td>\n",
              "      <td>35</td>\n",
              "      <td>36350</td>\n",
              "    </tr>\n",
              "    <tr>\n",
              "      <th>1</th>\n",
              "      <td>male</td>\n",
              "      <td>full</td>\n",
              "      <td>13</td>\n",
              "      <td>doctorate</td>\n",
              "      <td>22</td>\n",
              "      <td>35350</td>\n",
              "    </tr>\n",
              "    <tr>\n",
              "      <th>2</th>\n",
              "      <td>male</td>\n",
              "      <td>full</td>\n",
              "      <td>10</td>\n",
              "      <td>doctorate</td>\n",
              "      <td>23</td>\n",
              "      <td>28200</td>\n",
              "    </tr>\n",
              "  </tbody>\n",
              "</table>\n",
              "</div>"
            ],
            "text/plain": [
              "     sx    rk  yr         dg  yd     sl\n",
              "0  male  full  25  doctorate  35  36350\n",
              "1  male  full  13  doctorate  22  35350\n",
              "2  male  full  10  doctorate  23  28200"
            ]
          },
          "metadata": {
            "tags": []
          },
          "execution_count": 8
        }
      ]
    },
    {
      "cell_type": "code",
      "metadata": {
        "colab": {
          "base_uri": "https://localhost:8080/",
          "height": 297
        },
        "id": "9P9nVXbYKa-L",
        "outputId": "9e0a3ae9-6948-4b8c-efeb-9743604ef051"
      },
      "source": [
        "df.describe()"
      ],
      "execution_count": 9,
      "outputs": [
        {
          "output_type": "execute_result",
          "data": {
            "text/html": [
              "<div>\n",
              "<style scoped>\n",
              "    .dataframe tbody tr th:only-of-type {\n",
              "        vertical-align: middle;\n",
              "    }\n",
              "\n",
              "    .dataframe tbody tr th {\n",
              "        vertical-align: top;\n",
              "    }\n",
              "\n",
              "    .dataframe thead th {\n",
              "        text-align: right;\n",
              "    }\n",
              "</style>\n",
              "<table border=\"1\" class=\"dataframe\">\n",
              "  <thead>\n",
              "    <tr style=\"text-align: right;\">\n",
              "      <th></th>\n",
              "      <th>yr</th>\n",
              "      <th>yd</th>\n",
              "      <th>sl</th>\n",
              "    </tr>\n",
              "  </thead>\n",
              "  <tbody>\n",
              "    <tr>\n",
              "      <th>count</th>\n",
              "      <td>52.000000</td>\n",
              "      <td>52.000000</td>\n",
              "      <td>52.000000</td>\n",
              "    </tr>\n",
              "    <tr>\n",
              "      <th>mean</th>\n",
              "      <td>7.480769</td>\n",
              "      <td>16.115385</td>\n",
              "      <td>23797.653846</td>\n",
              "    </tr>\n",
              "    <tr>\n",
              "      <th>std</th>\n",
              "      <td>5.507536</td>\n",
              "      <td>10.222340</td>\n",
              "      <td>5917.289154</td>\n",
              "    </tr>\n",
              "    <tr>\n",
              "      <th>min</th>\n",
              "      <td>0.000000</td>\n",
              "      <td>1.000000</td>\n",
              "      <td>15000.000000</td>\n",
              "    </tr>\n",
              "    <tr>\n",
              "      <th>25%</th>\n",
              "      <td>3.000000</td>\n",
              "      <td>6.750000</td>\n",
              "      <td>18246.750000</td>\n",
              "    </tr>\n",
              "    <tr>\n",
              "      <th>50%</th>\n",
              "      <td>7.000000</td>\n",
              "      <td>15.500000</td>\n",
              "      <td>23719.000000</td>\n",
              "    </tr>\n",
              "    <tr>\n",
              "      <th>75%</th>\n",
              "      <td>11.000000</td>\n",
              "      <td>23.250000</td>\n",
              "      <td>27258.500000</td>\n",
              "    </tr>\n",
              "    <tr>\n",
              "      <th>max</th>\n",
              "      <td>25.000000</td>\n",
              "      <td>35.000000</td>\n",
              "      <td>38045.000000</td>\n",
              "    </tr>\n",
              "  </tbody>\n",
              "</table>\n",
              "</div>"
            ],
            "text/plain": [
              "              yr         yd            sl\n",
              "count  52.000000  52.000000     52.000000\n",
              "mean    7.480769  16.115385  23797.653846\n",
              "std     5.507536  10.222340   5917.289154\n",
              "min     0.000000   1.000000  15000.000000\n",
              "25%     3.000000   6.750000  18246.750000\n",
              "50%     7.000000  15.500000  23719.000000\n",
              "75%    11.000000  23.250000  27258.500000\n",
              "max    25.000000  35.000000  38045.000000"
            ]
          },
          "metadata": {
            "tags": []
          },
          "execution_count": 9
        }
      ]
    },
    {
      "cell_type": "code",
      "metadata": {
        "colab": {
          "base_uri": "https://localhost:8080/"
        },
        "id": "hpk_pQ79Ka-L",
        "outputId": "cf063f4b-fcea-4281-8a49-093cd1d3a4cd"
      },
      "source": [
        "df.info()"
      ],
      "execution_count": 10,
      "outputs": [
        {
          "output_type": "stream",
          "text": [
            "<class 'pandas.core.frame.DataFrame'>\n",
            "RangeIndex: 52 entries, 0 to 51\n",
            "Data columns (total 6 columns):\n",
            " #   Column  Non-Null Count  Dtype \n",
            "---  ------  --------------  ----- \n",
            " 0   sx      52 non-null     object\n",
            " 1   rk      52 non-null     object\n",
            " 2   yr      52 non-null     int64 \n",
            " 3   dg      52 non-null     object\n",
            " 4   yd      52 non-null     int64 \n",
            " 5   sl      52 non-null     int64 \n",
            "dtypes: int64(3), object(3)\n",
            "memory usage: 2.6+ KB\n"
          ],
          "name": "stdout"
        }
      ]
    },
    {
      "cell_type": "code",
      "metadata": {
        "id": "nw19ppziKa-L"
      },
      "source": [
        "df['sl']  = df['sl'].astype('int')"
      ],
      "execution_count": 11,
      "outputs": []
    },
    {
      "cell_type": "code",
      "metadata": {
        "colab": {
          "base_uri": "https://localhost:8080/"
        },
        "id": "lQFmWecBKa-L",
        "outputId": "39a554aa-1439-4a88-e6d3-e767c24c5cc6"
      },
      "source": [
        "df.info()"
      ],
      "execution_count": 12,
      "outputs": [
        {
          "output_type": "stream",
          "text": [
            "<class 'pandas.core.frame.DataFrame'>\n",
            "RangeIndex: 52 entries, 0 to 51\n",
            "Data columns (total 6 columns):\n",
            " #   Column  Non-Null Count  Dtype \n",
            "---  ------  --------------  ----- \n",
            " 0   sx      52 non-null     object\n",
            " 1   rk      52 non-null     object\n",
            " 2   yr      52 non-null     int64 \n",
            " 3   dg      52 non-null     object\n",
            " 4   yd      52 non-null     int64 \n",
            " 5   sl      52 non-null     int64 \n",
            "dtypes: int64(3), object(3)\n",
            "memory usage: 2.6+ KB\n"
          ],
          "name": "stdout"
        }
      ]
    },
    {
      "cell_type": "code",
      "metadata": {
        "id": "c82ip45RKa-L"
      },
      "source": [
        "df.rename(columns={'sx': 'Sex', 'rk': 'Rank', 'yr': 'Years', 'dg': 'Degree', 'yd': 'YD', 'sl': 'Salary'}, inplace=True)"
      ],
      "execution_count": 13,
      "outputs": []
    },
    {
      "cell_type": "code",
      "metadata": {
        "colab": {
          "base_uri": "https://localhost:8080/"
        },
        "id": "-u0b9xX1Ka-L",
        "outputId": "749af0a2-9b3e-4170-dfdd-833a07e9ab31"
      },
      "source": [
        "df.info()"
      ],
      "execution_count": 14,
      "outputs": [
        {
          "output_type": "stream",
          "text": [
            "<class 'pandas.core.frame.DataFrame'>\n",
            "RangeIndex: 52 entries, 0 to 51\n",
            "Data columns (total 6 columns):\n",
            " #   Column  Non-Null Count  Dtype \n",
            "---  ------  --------------  ----- \n",
            " 0   Sex     52 non-null     object\n",
            " 1   Rank    52 non-null     object\n",
            " 2   Years   52 non-null     int64 \n",
            " 3   Degree  52 non-null     object\n",
            " 4   YD      52 non-null     int64 \n",
            " 5   Salary  52 non-null     int64 \n",
            "dtypes: int64(3), object(3)\n",
            "memory usage: 2.6+ KB\n"
          ],
          "name": "stdout"
        }
      ]
    },
    {
      "cell_type": "code",
      "metadata": {
        "id": "EGcVOtzHKa-L"
      },
      "source": [
        "dataset = df[[\"Years\", \"Degree\", \"Salary\"]]"
      ],
      "execution_count": 15,
      "outputs": []
    },
    {
      "cell_type": "code",
      "metadata": {
        "colab": {
          "base_uri": "https://localhost:8080/",
          "height": 142
        },
        "id": "Yv3iyRUPKa-L",
        "outputId": "37bd58b3-df74-4add-cd04-e527d2a94569"
      },
      "source": [
        "dataset.head(3)"
      ],
      "execution_count": 16,
      "outputs": [
        {
          "output_type": "execute_result",
          "data": {
            "text/html": [
              "<div>\n",
              "<style scoped>\n",
              "    .dataframe tbody tr th:only-of-type {\n",
              "        vertical-align: middle;\n",
              "    }\n",
              "\n",
              "    .dataframe tbody tr th {\n",
              "        vertical-align: top;\n",
              "    }\n",
              "\n",
              "    .dataframe thead th {\n",
              "        text-align: right;\n",
              "    }\n",
              "</style>\n",
              "<table border=\"1\" class=\"dataframe\">\n",
              "  <thead>\n",
              "    <tr style=\"text-align: right;\">\n",
              "      <th></th>\n",
              "      <th>Years</th>\n",
              "      <th>Degree</th>\n",
              "      <th>Salary</th>\n",
              "    </tr>\n",
              "  </thead>\n",
              "  <tbody>\n",
              "    <tr>\n",
              "      <th>0</th>\n",
              "      <td>25</td>\n",
              "      <td>doctorate</td>\n",
              "      <td>36350</td>\n",
              "    </tr>\n",
              "    <tr>\n",
              "      <th>1</th>\n",
              "      <td>13</td>\n",
              "      <td>doctorate</td>\n",
              "      <td>35350</td>\n",
              "    </tr>\n",
              "    <tr>\n",
              "      <th>2</th>\n",
              "      <td>10</td>\n",
              "      <td>doctorate</td>\n",
              "      <td>28200</td>\n",
              "    </tr>\n",
              "  </tbody>\n",
              "</table>\n",
              "</div>"
            ],
            "text/plain": [
              "   Years     Degree  Salary\n",
              "0     25  doctorate   36350\n",
              "1     13  doctorate   35350\n",
              "2     10  doctorate   28200"
            ]
          },
          "metadata": {
            "tags": []
          },
          "execution_count": 16
        }
      ]
    },
    {
      "cell_type": "markdown",
      "metadata": {
        "id": "spFEkAZ1Ka-M"
      },
      "source": [
        "## Split the dataset into Independent(X) and Dependent(y) Variables"
      ]
    },
    {
      "cell_type": "code",
      "metadata": {
        "id": "mnJitJcnKa-M"
      },
      "source": [
        "x = dataset.iloc[:, 0:1].values\n",
        "y = dataset.iloc[:, -1].values"
      ],
      "execution_count": 17,
      "outputs": []
    },
    {
      "cell_type": "code",
      "metadata": {
        "colab": {
          "base_uri": "https://localhost:8080/"
        },
        "id": "t3Fx5k3sKa-M",
        "outputId": "fd17321d-32c4-46d2-9501-fdeb913355af"
      },
      "source": [
        "x"
      ],
      "execution_count": 18,
      "outputs": [
        {
          "output_type": "execute_result",
          "data": {
            "text/plain": [
              "array([[25],\n",
              "       [13],\n",
              "       [10],\n",
              "       [ 7],\n",
              "       [19],\n",
              "       [16],\n",
              "       [ 0],\n",
              "       [16],\n",
              "       [13],\n",
              "       [13],\n",
              "       [12],\n",
              "       [15],\n",
              "       [ 9],\n",
              "       [ 9],\n",
              "       [ 9],\n",
              "       [ 7],\n",
              "       [13],\n",
              "       [11],\n",
              "       [10],\n",
              "       [ 6],\n",
              "       [16],\n",
              "       [ 8],\n",
              "       [ 7],\n",
              "       [ 8],\n",
              "       [ 9],\n",
              "       [ 5],\n",
              "       [11],\n",
              "       [ 5],\n",
              "       [ 3],\n",
              "       [ 3],\n",
              "       [10],\n",
              "       [11],\n",
              "       [ 9],\n",
              "       [ 4],\n",
              "       [ 6],\n",
              "       [ 1],\n",
              "       [ 8],\n",
              "       [ 4],\n",
              "       [ 4],\n",
              "       [ 4],\n",
              "       [ 3],\n",
              "       [ 3],\n",
              "       [ 0],\n",
              "       [ 3],\n",
              "       [ 2],\n",
              "       [ 2],\n",
              "       [ 2],\n",
              "       [ 2],\n",
              "       [ 1],\n",
              "       [ 1],\n",
              "       [ 1],\n",
              "       [ 0]])"
            ]
          },
          "metadata": {
            "tags": []
          },
          "execution_count": 18
        }
      ]
    },
    {
      "cell_type": "code",
      "metadata": {
        "colab": {
          "base_uri": "https://localhost:8080/"
        },
        "id": "BdHiKk1NKa-M",
        "outputId": "7acd06b0-9162-40f2-d335-e4b9be5fb0cc"
      },
      "source": [
        "y"
      ],
      "execution_count": 19,
      "outputs": [
        {
          "output_type": "execute_result",
          "data": {
            "text/plain": [
              "array([36350, 35350, 28200, 26775, 33696, 28516, 24900, 31909, 31850,\n",
              "       32850, 27025, 24750, 28200, 23712, 25748, 29342, 31114, 24742,\n",
              "       22906, 24450, 19175, 20525, 27959, 38045, 24832, 25400, 24800,\n",
              "       25500, 26182, 23725, 21600, 23300, 23713, 20690, 22450, 20850,\n",
              "       18304, 17095, 16700, 17600, 18075, 18000, 20999, 17250, 16500,\n",
              "       16094, 16150, 15350, 16244, 16686, 15000, 20300])"
            ]
          },
          "metadata": {
            "tags": []
          },
          "execution_count": 19
        }
      ]
    },
    {
      "cell_type": "markdown",
      "metadata": {
        "id": "vxVdntteKa-M"
      },
      "source": [
        "## Divide the complete dataset into training and testing data"
      ]
    },
    {
      "cell_type": "code",
      "metadata": {
        "id": "mSDATrGOKa-M"
      },
      "source": [
        "X_train, X_test, y_train, y_test = train_test_split(x, y, test_size = 0.2, random_state = 0)"
      ],
      "execution_count": 20,
      "outputs": []
    },
    {
      "cell_type": "markdown",
      "metadata": {
        "id": "5Zctb5OmKa-M"
      },
      "source": [
        "## Implement Classifier based on Simple Linear Regression"
      ]
    },
    {
      "cell_type": "code",
      "metadata": {
        "colab": {
          "base_uri": "https://localhost:8080/"
        },
        "id": "wNLYAS0_Ka-M",
        "outputId": "b10f7561-e229-4c13-d0dd-53cc54bc0970"
      },
      "source": [
        "from sklearn.linear_model import LinearRegression\n",
        "model = LinearRegression()\n",
        "model.fit(X_train, y_train)"
      ],
      "execution_count": 21,
      "outputs": [
        {
          "output_type": "execute_result",
          "data": {
            "text/plain": [
              "LinearRegression(copy_X=True, fit_intercept=True, n_jobs=None, normalize=False)"
            ]
          },
          "metadata": {
            "tags": []
          },
          "execution_count": 21
        }
      ]
    },
    {
      "cell_type": "code",
      "metadata": {
        "colab": {
          "base_uri": "https://localhost:8080/"
        },
        "id": "eoeda9aoKa-N",
        "outputId": "554c33bd-703d-4a15-fe1c-5d8bde9f855f"
      },
      "source": [
        "predictions = model.predict(X_test)\n",
        "predictions"
      ],
      "execution_count": 22,
      "outputs": [
        {
          "output_type": "execute_result",
          "data": {
            "text/plain": [
              "array([20520.22025604, 21304.14080179, 29927.266805  , 22871.98189328,\n",
              "       26007.66407626, 26007.66407626, 20520.22025604, 25223.74353052,\n",
              "       26791.58462201, 33062.94898798, 27575.50516776])"
            ]
          },
          "metadata": {
            "tags": []
          },
          "execution_count": 22
        }
      ]
    },
    {
      "cell_type": "code",
      "metadata": {
        "colab": {
          "base_uri": "https://localhost:8080/",
          "height": 336
        },
        "id": "LxQm3Cw8Ka-N",
        "outputId": "aa7db09d-737d-4888-ab53-8d488765281b"
      },
      "source": [
        "sns.distplot(predictions-y_test)"
      ],
      "execution_count": 23,
      "outputs": [
        {
          "output_type": "stream",
          "text": [
            "/usr/local/lib/python3.7/dist-packages/seaborn/distributions.py:2557: FutureWarning: `distplot` is a deprecated function and will be removed in a future version. Please adapt your code to use either `displot` (a figure-level function with similar flexibility) or `histplot` (an axes-level function for histograms).\n",
            "  warnings.warn(msg, FutureWarning)\n"
          ],
          "name": "stderr"
        },
        {
          "output_type": "execute_result",
          "data": {
            "text/plain": [
              "<matplotlib.axes._subplots.AxesSubplot at 0x7f44ca82b090>"
            ]
          },
          "metadata": {
            "tags": []
          },
          "execution_count": 23
        },
        {
          "output_type": "display_data",
          "data": {
            "image/png": "[encoded data removed]",
            "text/plain": [
              "<Figure size 432x288 with 1 Axes>"
            ]
          },
          "metadata": {
            "tags": []
          }
        }
      ]
    },
    {
      "cell_type": "code",
      "metadata": {
        "colab": {
          "base_uri": "https://localhost:8080/",
          "height": 295
        },
        "id": "txdNPf7YKa-N",
        "outputId": "d4495ad6-57ca-4851-8b4c-2790ec853596"
      },
      "source": [
        "plt.scatter(X_train, y_train, color = 'red')\n",
        "plt.plot(X_train, model.predict(X_train), color = 'blue')\n",
        "plt.title('Salary vs Experience (Training set)')\n",
        "plt.xlabel('Years of Experience')\n",
        "plt.ylabel('Salary')\n",
        "plt.show()"
      ],
      "execution_count": 24,
      "outputs": [
        {
          "output_type": "display_data",
          "data": {
            "image/png": "[encoded data removed]",
            "text/plain": [
              "<Figure size 432x288 with 1 Axes>"
            ]
          },
          "metadata": {
            "tags": []
          }
        }
      ]
    },
    {
      "cell_type": "code",
      "metadata": {
        "colab": {
          "base_uri": "https://localhost:8080/",
          "height": 295
        },
        "id": "KsPW3pKHKa-N",
        "outputId": "ea24302f-7d00-4765-a8d5-26394e6fec94"
      },
      "source": [
        "plt.scatter(X_test, y_test, color = 'red')\n",
        "plt.plot(X_test, model.predict(X_test), color = 'blue')\n",
        "plt.title('Salary vs Experience (Test set)')\n",
        "plt.xlabel('Years of Experience')\n",
        "plt.ylabel('Salary')\n",
        "plt.show()"
      ],
      "execution_count": 25,
      "outputs": [
        {
          "output_type": "display_data",
          "data": {
            "image/png": "[encoded data removed]",
            "text/plain": [
              "<Figure size 432x288 with 1 Axes>"
            ]
          },
          "metadata": {
            "tags": []
          }
        }
      ]
    },
    {
      "cell_type": "markdown",
      "metadata": {
        "id": "Hn_MMSehKa-N"
      },
      "source": [
        "## Standardize the magnitude of numeric features using a scaler"
      ]
    },
    {
      "cell_type": "code",
      "metadata": {
        "id": "5UkE0Om5Ka-N"
      },
      "source": [
        "from sklearn.preprocessing import StandardScaler\n",
        "sc_X = StandardScaler()\n",
        "sc_Y = StandardScaler()\n",
        "Xs = sc_X.fit_transform(X_test)\n",
        "Ys = np.squeeze(sc_Y.fit_transform(y_test.reshape(-1, 1)))"
      ],
      "execution_count": 26,
      "outputs": []
    },
    {
      "cell_type": "code",
      "metadata": {
        "colab": {
          "base_uri": "https://localhost:8080/"
        },
        "id": "uzgM8r_YKa-N",
        "outputId": "ff6bfd7d-42cc-459e-95ca-2bb5f048914b"
      },
      "source": [
        "models = LinearRegression()\n",
        "models.fit(Xs, Ys)"
      ],
      "execution_count": 27,
      "outputs": [
        {
          "output_type": "execute_result",
          "data": {
            "text/plain": [
              "LinearRegression(copy_X=True, fit_intercept=True, n_jobs=None, normalize=False)"
            ]
          },
          "metadata": {
            "tags": []
          },
          "execution_count": 27
        }
      ]
    },
    {
      "cell_type": "code",
      "metadata": {
        "colab": {
          "base_uri": "https://localhost:8080/"
        },
        "id": "TkoDERAhKa-N",
        "outputId": "647e55ac-b929-4871-bc52-1301c0066ef2"
      },
      "source": [
        "predictionss = models.predict(Xs)\n",
        "predictionss"
      ],
      "execution_count": 28,
      "outputs": [
        {
          "output_type": "execute_result",
          "data": {
            "text/plain": [
              "array([-0.96331288, -0.80974126,  0.87954655, -0.50259803,  0.11168845,\n",
              "        0.11168845, -0.96331288, -0.04188317,  0.26526007,  1.49383302,\n",
              "        0.41883169])"
            ]
          },
          "metadata": {
            "tags": []
          },
          "execution_count": 28
        }
      ]
    },
    {
      "cell_type": "code",
      "metadata": {
        "colab": {
          "base_uri": "https://localhost:8080/",
          "height": 336
        },
        "id": "upwU9uVFKa-O",
        "outputId": "b4722369-149d-4217-88e4-43d77937d8e6"
      },
      "source": [
        "sns.distplot(predictionss-Ys)"
      ],
      "execution_count": 29,
      "outputs": [
        {
          "output_type": "stream",
          "text": [
            "/usr/local/lib/python3.7/dist-packages/seaborn/distributions.py:2557: FutureWarning: `distplot` is a deprecated function and will be removed in a future version. Please adapt your code to use either `displot` (a figure-level function with similar flexibility) or `histplot` (an axes-level function for histograms).\n",
            "  warnings.warn(msg, FutureWarning)\n"
          ],
          "name": "stderr"
        },
        {
          "output_type": "execute_result",
          "data": {
            "text/plain": [
              "<matplotlib.axes._subplots.AxesSubplot at 0x7f44c9778290>"
            ]
          },
          "metadata": {
            "tags": []
          },
          "execution_count": 29
        },
        {
          "output_type": "display_data",
          "data": {
            "image/png": "[encoded data removed]",
            "text/plain": [
              "<Figure size 432x288 with 1 Axes>"
            ]
          },
          "metadata": {
            "tags": []
          }
        }
      ]
    },
    {
      "cell_type": "code",
      "metadata": {
        "colab": {
          "base_uri": "https://localhost:8080/",
          "height": 295
        },
        "id": "Aja7LTxZKa-O",
        "outputId": "75de9423-ccaa-4250-c9b6-3c58e231bb44"
      },
      "source": [
        "plt.scatter(Xs, Ys, color = 'red')\n",
        "plt.plot(Xs, model.predict(Xs), color = 'blue')\n",
        "plt.title('Salary vs Experience (Training set)')\n",
        "plt.xlabel('Years of Experience')\n",
        "plt.ylabel('Salary')\n",
        "plt.show()"
      ],
      "execution_count": 31,
      "outputs": [
        {
          "output_type": "display_data",
          "data": {
            "image/png": "[encoded data removed]",
            "text/plain": [
              "<Figure size 432x288 with 1 Axes>"
            ]
          },
          "metadata": {
            "tags": []
          }
        }
      ]
    },
    {
      "cell_type": "markdown",
      "metadata": {
        "id": "ufP3ngAXKa-O"
      },
      "source": [
        "## Convert categorical data, sex, into dummy or indicator variables"
      ]
    },
    {
      "cell_type": "code",
      "metadata": {
        "id": "1YQeWleBKa-O"
      },
      "source": [
        "sex_dummies = pd.get_dummies(df.Sex, prefix='Sex') \n",
        "df = pd.concat([df, sex_dummies], axis = 1)"
      ],
      "execution_count": 32,
      "outputs": []
    },
    {
      "cell_type": "code",
      "metadata": {
        "colab": {
          "base_uri": "https://localhost:8080/",
          "height": 1000
        },
        "id": "dS49i2zGKa-O",
        "outputId": "213e785b-8b42-4818-a5e5-69cb8fb06554"
      },
      "source": [
        "df"
      ],
      "execution_count": 33,
      "outputs": [
        {
          "output_type": "execute_result",
          "data": {
            "text/html": [
              "<div>\n",
              "<style scoped>\n",
              "    .dataframe tbody tr th:only-of-type {\n",
              "        vertical-align: middle;\n",
              "    }\n",
              "\n",
              "    .dataframe tbody tr th {\n",
              "        vertical-align: top;\n",
              "    }\n",
              "\n",
              "    .dataframe thead th {\n",
              "        text-align: right;\n",
              "    }\n",
              "</style>\n",
              "<table border=\"1\" class=\"dataframe\">\n",
              "  <thead>\n",
              "    <tr style=\"text-align: right;\">\n",
              "      <th></th>\n",
              "      <th>Sex</th>\n",
              "      <th>Rank</th>\n",
              "      <th>Years</th>\n",
              "      <th>Degree</th>\n",
              "      <th>YD</th>\n",
              "      <th>Salary</th>\n",
              "      <th>Sex_female</th>\n",
              "      <th>Sex_male</th>\n",
              "    </tr>\n",
              "  </thead>\n",
              "  <tbody>\n",
              "    <tr>\n",
              "      <th>0</th>\n",
              "      <td>male</td>\n",
              "      <td>full</td>\n",
              "      <td>25</td>\n",
              "      <td>doctorate</td>\n",
              "      <td>35</td>\n",
              "      <td>36350</td>\n",
              "      <td>0</td>\n",
              "      <td>1</td>\n",
              "    </tr>\n",
              "    <tr>\n",
              "      <th>1</th>\n",
              "      <td>male</td>\n",
              "      <td>full</td>\n",
              "      <td>13</td>\n",
              "      <td>doctorate</td>\n",
              "      <td>22</td>\n",
              "      <td>35350</td>\n",
              "      <td>0</td>\n",
              "      <td>1</td>\n",
              "    </tr>\n",
              "    <tr>\n",
              "      <th>2</th>\n",
              "      <td>male</td>\n",
              "      <td>full</td>\n",
              "      <td>10</td>\n",
              "      <td>doctorate</td>\n",
              "      <td>23</td>\n",
              "      <td>28200</td>\n",
              "      <td>0</td>\n",
              "      <td>1</td>\n",
              "    </tr>\n",
              "    <tr>\n",
              "      <th>3</th>\n",
              "      <td>female</td>\n",
              "      <td>full</td>\n",
              "      <td>7</td>\n",
              "      <td>doctorate</td>\n",
              "      <td>27</td>\n",
              "      <td>26775</td>\n",
              "      <td>1</td>\n",
              "      <td>0</td>\n",
              "    </tr>\n",
              "    <tr>\n",
              "      <th>4</th>\n",
              "      <td>male</td>\n",
              "      <td>full</td>\n",
              "      <td>19</td>\n",
              "      <td>masters</td>\n",
              "      <td>30</td>\n",
              "      <td>33696</td>\n",
              "      <td>0</td>\n",
              "      <td>1</td>\n",
              "    </tr>\n",
              "    <tr>\n",
              "      <th>5</th>\n",
              "      <td>male</td>\n",
              "      <td>full</td>\n",
              "      <td>16</td>\n",
              "      <td>doctorate</td>\n",
              "      <td>21</td>\n",
              "      <td>28516</td>\n",
              "      <td>0</td>\n",
              "      <td>1</td>\n",
              "    </tr>\n",
              "    <tr>\n",
              "      <th>6</th>\n",
              "      <td>female</td>\n",
              "      <td>full</td>\n",
              "      <td>0</td>\n",
              "      <td>masters</td>\n",
              "      <td>32</td>\n",
              "      <td>24900</td>\n",
              "      <td>1</td>\n",
              "      <td>0</td>\n",
              "    </tr>\n",
              "    <tr>\n",
              "      <th>7</th>\n",
              "      <td>male</td>\n",
              "      <td>full</td>\n",
              "      <td>16</td>\n",
              "      <td>doctorate</td>\n",
              "      <td>18</td>\n",
              "      <td>31909</td>\n",
              "      <td>0</td>\n",
              "      <td>1</td>\n",
              "    </tr>\n",
              "    <tr>\n",
              "      <th>8</th>\n",
              "      <td>male</td>\n",
              "      <td>full</td>\n",
              "      <td>13</td>\n",
              "      <td>masters</td>\n",
              "      <td>30</td>\n",
              "      <td>31850</td>\n",
              "      <td>0</td>\n",
              "      <td>1</td>\n",
              "    </tr>\n",
              "    <tr>\n",
              "      <th>9</th>\n",
              "      <td>male</td>\n",
              "      <td>full</td>\n",
              "      <td>13</td>\n",
              "      <td>masters</td>\n",
              "      <td>31</td>\n",
              "      <td>32850</td>\n",
              "      <td>0</td>\n",
              "      <td>1</td>\n",
              "    </tr>\n",
              "    <tr>\n",
              "      <th>10</th>\n",
              "      <td>male</td>\n",
              "      <td>full</td>\n",
              "      <td>12</td>\n",
              "      <td>doctorate</td>\n",
              "      <td>22</td>\n",
              "      <td>27025</td>\n",
              "      <td>0</td>\n",
              "      <td>1</td>\n",
              "    </tr>\n",
              "    <tr>\n",
              "      <th>11</th>\n",
              "      <td>male</td>\n",
              "      <td>associate</td>\n",
              "      <td>15</td>\n",
              "      <td>doctorate</td>\n",
              "      <td>19</td>\n",
              "      <td>24750</td>\n",
              "      <td>0</td>\n",
              "      <td>1</td>\n",
              "    </tr>\n",
              "    <tr>\n",
              "      <th>12</th>\n",
              "      <td>male</td>\n",
              "      <td>full</td>\n",
              "      <td>9</td>\n",
              "      <td>doctorate</td>\n",
              "      <td>17</td>\n",
              "      <td>28200</td>\n",
              "      <td>0</td>\n",
              "      <td>1</td>\n",
              "    </tr>\n",
              "    <tr>\n",
              "      <th>13</th>\n",
              "      <td>male</td>\n",
              "      <td>associate</td>\n",
              "      <td>9</td>\n",
              "      <td>masters</td>\n",
              "      <td>27</td>\n",
              "      <td>23712</td>\n",
              "      <td>0</td>\n",
              "      <td>1</td>\n",
              "    </tr>\n",
              "    <tr>\n",
              "      <th>14</th>\n",
              "      <td>male</td>\n",
              "      <td>full</td>\n",
              "      <td>9</td>\n",
              "      <td>doctorate</td>\n",
              "      <td>24</td>\n",
              "      <td>25748</td>\n",
              "      <td>0</td>\n",
              "      <td>1</td>\n",
              "    </tr>\n",
              "    <tr>\n",
              "      <th>15</th>\n",
              "      <td>male</td>\n",
              "      <td>full</td>\n",
              "      <td>7</td>\n",
              "      <td>doctorate</td>\n",
              "      <td>15</td>\n",
              "      <td>29342</td>\n",
              "      <td>0</td>\n",
              "      <td>1</td>\n",
              "    </tr>\n",
              "    <tr>\n",
              "      <th>16</th>\n",
              "      <td>male</td>\n",
              "      <td>full</td>\n",
              "      <td>13</td>\n",
              "      <td>doctorate</td>\n",
              "      <td>20</td>\n",
              "      <td>31114</td>\n",
              "      <td>0</td>\n",
              "      <td>1</td>\n",
              "    </tr>\n",
              "    <tr>\n",
              "      <th>17</th>\n",
              "      <td>male</td>\n",
              "      <td>associate</td>\n",
              "      <td>11</td>\n",
              "      <td>masters</td>\n",
              "      <td>14</td>\n",
              "      <td>24742</td>\n",
              "      <td>0</td>\n",
              "      <td>1</td>\n",
              "    </tr>\n",
              "    <tr>\n",
              "      <th>18</th>\n",
              "      <td>male</td>\n",
              "      <td>associate</td>\n",
              "      <td>10</td>\n",
              "      <td>masters</td>\n",
              "      <td>15</td>\n",
              "      <td>22906</td>\n",
              "      <td>0</td>\n",
              "      <td>1</td>\n",
              "    </tr>\n",
              "    <tr>\n",
              "      <th>19</th>\n",
              "      <td>male</td>\n",
              "      <td>full</td>\n",
              "      <td>6</td>\n",
              "      <td>masters</td>\n",
              "      <td>21</td>\n",
              "      <td>24450</td>\n",
              "      <td>0</td>\n",
              "      <td>1</td>\n",
              "    </tr>\n",
              "    <tr>\n",
              "      <th>20</th>\n",
              "      <td>male</td>\n",
              "      <td>assistant</td>\n",
              "      <td>16</td>\n",
              "      <td>masters</td>\n",
              "      <td>23</td>\n",
              "      <td>19175</td>\n",
              "      <td>0</td>\n",
              "      <td>1</td>\n",
              "    </tr>\n",
              "    <tr>\n",
              "      <th>21</th>\n",
              "      <td>male</td>\n",
              "      <td>associate</td>\n",
              "      <td>8</td>\n",
              "      <td>masters</td>\n",
              "      <td>31</td>\n",
              "      <td>20525</td>\n",
              "      <td>0</td>\n",
              "      <td>1</td>\n",
              "    </tr>\n",
              "    <tr>\n",
              "      <th>22</th>\n",
              "      <td>male</td>\n",
              "      <td>full</td>\n",
              "      <td>7</td>\n",
              "      <td>doctorate</td>\n",
              "      <td>13</td>\n",
              "      <td>27959</td>\n",
              "      <td>0</td>\n",
              "      <td>1</td>\n",
              "    </tr>\n",
              "    <tr>\n",
              "      <th>23</th>\n",
              "      <td>female</td>\n",
              "      <td>full</td>\n",
              "      <td>8</td>\n",
              "      <td>doctorate</td>\n",
              "      <td>24</td>\n",
              "      <td>38045</td>\n",
              "      <td>1</td>\n",
              "      <td>0</td>\n",
              "    </tr>\n",
              "    <tr>\n",
              "      <th>24</th>\n",
              "      <td>male</td>\n",
              "      <td>associate</td>\n",
              "      <td>9</td>\n",
              "      <td>doctorate</td>\n",
              "      <td>12</td>\n",
              "      <td>24832</td>\n",
              "      <td>0</td>\n",
              "      <td>1</td>\n",
              "    </tr>\n",
              "    <tr>\n",
              "      <th>25</th>\n",
              "      <td>male</td>\n",
              "      <td>full</td>\n",
              "      <td>5</td>\n",
              "      <td>doctorate</td>\n",
              "      <td>18</td>\n",
              "      <td>25400</td>\n",
              "      <td>0</td>\n",
              "      <td>1</td>\n",
              "    </tr>\n",
              "    <tr>\n",
              "      <th>26</th>\n",
              "      <td>male</td>\n",
              "      <td>associate</td>\n",
              "      <td>11</td>\n",
              "      <td>doctorate</td>\n",
              "      <td>14</td>\n",
              "      <td>24800</td>\n",
              "      <td>0</td>\n",
              "      <td>1</td>\n",
              "    </tr>\n",
              "    <tr>\n",
              "      <th>27</th>\n",
              "      <td>female</td>\n",
              "      <td>full</td>\n",
              "      <td>5</td>\n",
              "      <td>doctorate</td>\n",
              "      <td>16</td>\n",
              "      <td>25500</td>\n",
              "      <td>1</td>\n",
              "      <td>0</td>\n",
              "    </tr>\n",
              "    <tr>\n",
              "      <th>28</th>\n",
              "      <td>male</td>\n",
              "      <td>associate</td>\n",
              "      <td>3</td>\n",
              "      <td>masters</td>\n",
              "      <td>7</td>\n",
              "      <td>26182</td>\n",
              "      <td>0</td>\n",
              "      <td>1</td>\n",
              "    </tr>\n",
              "    <tr>\n",
              "      <th>29</th>\n",
              "      <td>male</td>\n",
              "      <td>associate</td>\n",
              "      <td>3</td>\n",
              "      <td>masters</td>\n",
              "      <td>17</td>\n",
              "      <td>23725</td>\n",
              "      <td>0</td>\n",
              "      <td>1</td>\n",
              "    </tr>\n",
              "    <tr>\n",
              "      <th>30</th>\n",
              "      <td>female</td>\n",
              "      <td>assistant</td>\n",
              "      <td>10</td>\n",
              "      <td>masters</td>\n",
              "      <td>15</td>\n",
              "      <td>21600</td>\n",
              "      <td>1</td>\n",
              "      <td>0</td>\n",
              "    </tr>\n",
              "    <tr>\n",
              "      <th>31</th>\n",
              "      <td>male</td>\n",
              "      <td>associate</td>\n",
              "      <td>11</td>\n",
              "      <td>masters</td>\n",
              "      <td>31</td>\n",
              "      <td>23300</td>\n",
              "      <td>0</td>\n",
              "      <td>1</td>\n",
              "    </tr>\n",
              "    <tr>\n",
              "      <th>32</th>\n",
              "      <td>male</td>\n",
              "      <td>assistant</td>\n",
              "      <td>9</td>\n",
              "      <td>masters</td>\n",
              "      <td>14</td>\n",
              "      <td>23713</td>\n",
              "      <td>0</td>\n",
              "      <td>1</td>\n",
              "    </tr>\n",
              "    <tr>\n",
              "      <th>33</th>\n",
              "      <td>female</td>\n",
              "      <td>associate</td>\n",
              "      <td>4</td>\n",
              "      <td>masters</td>\n",
              "      <td>33</td>\n",
              "      <td>20690</td>\n",
              "      <td>1</td>\n",
              "      <td>0</td>\n",
              "    </tr>\n",
              "    <tr>\n",
              "      <th>34</th>\n",
              "      <td>female</td>\n",
              "      <td>associate</td>\n",
              "      <td>6</td>\n",
              "      <td>masters</td>\n",
              "      <td>29</td>\n",
              "      <td>22450</td>\n",
              "      <td>1</td>\n",
              "      <td>0</td>\n",
              "    </tr>\n",
              "    <tr>\n",
              "      <th>35</th>\n",
              "      <td>male</td>\n",
              "      <td>associate</td>\n",
              "      <td>1</td>\n",
              "      <td>doctorate</td>\n",
              "      <td>9</td>\n",
              "      <td>20850</td>\n",
              "      <td>0</td>\n",
              "      <td>1</td>\n",
              "    </tr>\n",
              "    <tr>\n",
              "      <th>36</th>\n",
              "      <td>female</td>\n",
              "      <td>assistant</td>\n",
              "      <td>8</td>\n",
              "      <td>doctorate</td>\n",
              "      <td>14</td>\n",
              "      <td>18304</td>\n",
              "      <td>1</td>\n",
              "      <td>0</td>\n",
              "    </tr>\n",
              "    <tr>\n",
              "      <th>37</th>\n",
              "      <td>male</td>\n",
              "      <td>assistant</td>\n",
              "      <td>4</td>\n",
              "      <td>doctorate</td>\n",
              "      <td>4</td>\n",
              "      <td>17095</td>\n",
              "      <td>0</td>\n",
              "      <td>1</td>\n",
              "    </tr>\n",
              "    <tr>\n",
              "      <th>38</th>\n",
              "      <td>male</td>\n",
              "      <td>assistant</td>\n",
              "      <td>4</td>\n",
              "      <td>doctorate</td>\n",
              "      <td>5</td>\n",
              "      <td>16700</td>\n",
              "      <td>0</td>\n",
              "      <td>1</td>\n",
              "    </tr>\n",
              "    <tr>\n",
              "      <th>39</th>\n",
              "      <td>male</td>\n",
              "      <td>assistant</td>\n",
              "      <td>4</td>\n",
              "      <td>doctorate</td>\n",
              "      <td>4</td>\n",
              "      <td>17600</td>\n",
              "      <td>0</td>\n",
              "      <td>1</td>\n",
              "    </tr>\n",
              "    <tr>\n",
              "      <th>40</th>\n",
              "      <td>male</td>\n",
              "      <td>assistant</td>\n",
              "      <td>3</td>\n",
              "      <td>doctorate</td>\n",
              "      <td>4</td>\n",
              "      <td>18075</td>\n",
              "      <td>0</td>\n",
              "      <td>1</td>\n",
              "    </tr>\n",
              "    <tr>\n",
              "      <th>41</th>\n",
              "      <td>male</td>\n",
              "      <td>assistant</td>\n",
              "      <td>3</td>\n",
              "      <td>masters</td>\n",
              "      <td>11</td>\n",
              "      <td>18000</td>\n",
              "      <td>0</td>\n",
              "      <td>1</td>\n",
              "    </tr>\n",
              "    <tr>\n",
              "      <th>42</th>\n",
              "      <td>male</td>\n",
              "      <td>associate</td>\n",
              "      <td>0</td>\n",
              "      <td>doctorate</td>\n",
              "      <td>7</td>\n",
              "      <td>20999</td>\n",
              "      <td>0</td>\n",
              "      <td>1</td>\n",
              "    </tr>\n",
              "    <tr>\n",
              "      <th>43</th>\n",
              "      <td>female</td>\n",
              "      <td>assistant</td>\n",
              "      <td>3</td>\n",
              "      <td>doctorate</td>\n",
              "      <td>3</td>\n",
              "      <td>17250</td>\n",
              "      <td>1</td>\n",
              "      <td>0</td>\n",
              "    </tr>\n",
              "    <tr>\n",
              "      <th>44</th>\n",
              "      <td>male</td>\n",
              "      <td>assistant</td>\n",
              "      <td>2</td>\n",
              "      <td>doctorate</td>\n",
              "      <td>3</td>\n",
              "      <td>16500</td>\n",
              "      <td>0</td>\n",
              "      <td>1</td>\n",
              "    </tr>\n",
              "    <tr>\n",
              "      <th>45</th>\n",
              "      <td>male</td>\n",
              "      <td>assistant</td>\n",
              "      <td>2</td>\n",
              "      <td>doctorate</td>\n",
              "      <td>1</td>\n",
              "      <td>16094</td>\n",
              "      <td>0</td>\n",
              "      <td>1</td>\n",
              "    </tr>\n",
              "    <tr>\n",
              "      <th>46</th>\n",
              "      <td>female</td>\n",
              "      <td>assistant</td>\n",
              "      <td>2</td>\n",
              "      <td>doctorate</td>\n",
              "      <td>6</td>\n",
              "      <td>16150</td>\n",
              "      <td>1</td>\n",
              "      <td>0</td>\n",
              "    </tr>\n",
              "    <tr>\n",
              "      <th>47</th>\n",
              "      <td>female</td>\n",
              "      <td>assistant</td>\n",
              "      <td>2</td>\n",
              "      <td>doctorate</td>\n",
              "      <td>2</td>\n",
              "      <td>15350</td>\n",
              "      <td>1</td>\n",
              "      <td>0</td>\n",
              "    </tr>\n",
              "    <tr>\n",
              "      <th>48</th>\n",
              "      <td>male</td>\n",
              "      <td>assistant</td>\n",
              "      <td>1</td>\n",
              "      <td>doctorate</td>\n",
              "      <td>1</td>\n",
              "      <td>16244</td>\n",
              "      <td>0</td>\n",
              "      <td>1</td>\n",
              "    </tr>\n",
              "    <tr>\n",
              "      <th>49</th>\n",
              "      <td>female</td>\n",
              "      <td>assistant</td>\n",
              "      <td>1</td>\n",
              "      <td>doctorate</td>\n",
              "      <td>1</td>\n",
              "      <td>16686</td>\n",
              "      <td>1</td>\n",
              "      <td>0</td>\n",
              "    </tr>\n",
              "    <tr>\n",
              "      <th>50</th>\n",
              "      <td>female</td>\n",
              "      <td>assistant</td>\n",
              "      <td>1</td>\n",
              "      <td>doctorate</td>\n",
              "      <td>1</td>\n",
              "      <td>15000</td>\n",
              "      <td>1</td>\n",
              "      <td>0</td>\n",
              "    </tr>\n",
              "    <tr>\n",
              "      <th>51</th>\n",
              "      <td>female</td>\n",
              "      <td>assistant</td>\n",
              "      <td>0</td>\n",
              "      <td>doctorate</td>\n",
              "      <td>2</td>\n",
              "      <td>20300</td>\n",
              "      <td>1</td>\n",
              "      <td>0</td>\n",
              "    </tr>\n",
              "  </tbody>\n",
              "</table>\n",
              "</div>"
            ],
            "text/plain": [
              "       Sex       Rank  Years     Degree  YD  Salary  Sex_female  Sex_male\n",
              "0     male       full     25  doctorate  35   36350           0         1\n",
              "1     male       full     13  doctorate  22   35350           0         1\n",
              "2     male       full     10  doctorate  23   28200           0         1\n",
              "3   female       full      7  doctorate  27   26775           1         0\n",
              "4     male       full     19    masters  30   33696           0         1\n",
              "5     male       full     16  doctorate  21   28516           0         1\n",
              "6   female       full      0    masters  32   24900           1         0\n",
              "7     male       full     16  doctorate  18   31909           0         1\n",
              "8     male       full     13    masters  30   31850           0         1\n",
              "9     male       full     13    masters  31   32850           0         1\n",
              "10    male       full     12  doctorate  22   27025           0         1\n",
              "11    male  associate     15  doctorate  19   24750           0         1\n",
              "12    male       full      9  doctorate  17   28200           0         1\n",
              "13    male  associate      9    masters  27   23712           0         1\n",
              "14    male       full      9  doctorate  24   25748           0         1\n",
              "15    male       full      7  doctorate  15   29342           0         1\n",
              "16    male       full     13  doctorate  20   31114           0         1\n",
              "17    male  associate     11    masters  14   24742           0         1\n",
              "18    male  associate     10    masters  15   22906           0         1\n",
              "19    male       full      6    masters  21   24450           0         1\n",
              "20    male  assistant     16    masters  23   19175           0         1\n",
              "21    male  associate      8    masters  31   20525           0         1\n",
              "22    male       full      7  doctorate  13   27959           0         1\n",
              "23  female       full      8  doctorate  24   38045           1         0\n",
              "24    male  associate      9  doctorate  12   24832           0         1\n",
              "25    male       full      5  doctorate  18   25400           0         1\n",
              "26    male  associate     11  doctorate  14   24800           0         1\n",
              "27  female       full      5  doctorate  16   25500           1         0\n",
              "28    male  associate      3    masters   7   26182           0         1\n",
              "29    male  associate      3    masters  17   23725           0         1\n",
              "30  female  assistant     10    masters  15   21600           1         0\n",
              "31    male  associate     11    masters  31   23300           0         1\n",
              "32    male  assistant      9    masters  14   23713           0         1\n",
              "33  female  associate      4    masters  33   20690           1         0\n",
              "34  female  associate      6    masters  29   22450           1         0\n",
              "35    male  associate      1  doctorate   9   20850           0         1\n",
              "36  female  assistant      8  doctorate  14   18304           1         0\n",
              "37    male  assistant      4  doctorate   4   17095           0         1\n",
              "38    male  assistant      4  doctorate   5   16700           0         1\n",
              "39    male  assistant      4  doctorate   4   17600           0         1\n",
              "40    male  assistant      3  doctorate   4   18075           0         1\n",
              "41    male  assistant      3    masters  11   18000           0         1\n",
              "42    male  associate      0  doctorate   7   20999           0         1\n",
              "43  female  assistant      3  doctorate   3   17250           1         0\n",
              "44    male  assistant      2  doctorate   3   16500           0         1\n",
              "45    male  assistant      2  doctorate   1   16094           0         1\n",
              "46  female  assistant      2  doctorate   6   16150           1         0\n",
              "47  female  assistant      2  doctorate   2   15350           1         0\n",
              "48    male  assistant      1  doctorate   1   16244           0         1\n",
              "49  female  assistant      1  doctorate   1   16686           1         0\n",
              "50  female  assistant      1  doctorate   1   15000           1         0\n",
              "51  female  assistant      0  doctorate   2   20300           1         0"
            ]
          },
          "metadata": {
            "tags": []
          },
          "execution_count": 33
        }
      ]
    },
    {
      "cell_type": "code",
      "metadata": {
        "colab": {
          "base_uri": "https://localhost:8080/",
          "height": 204
        },
        "id": "XKfI3RSbKa-O",
        "outputId": "a233d396-65cc-4aba-cf6a-f9c98bdfc5a3"
      },
      "source": [
        "degree_dummies = pd.get_dummies(df.Degree, prefix='Degree', drop_first=True) \n",
        "df = pd.concat([df, degree_dummies], axis = 1)\n",
        "df.head()"
      ],
      "execution_count": 34,
      "outputs": [
        {
          "output_type": "execute_result",
          "data": {
            "text/html": [
              "<div>\n",
              "<style scoped>\n",
              "    .dataframe tbody tr th:only-of-type {\n",
              "        vertical-align: middle;\n",
              "    }\n",
              "\n",
              "    .dataframe tbody tr th {\n",
              "        vertical-align: top;\n",
              "    }\n",
              "\n",
              "    .dataframe thead th {\n",
              "        text-align: right;\n",
              "    }\n",
              "</style>\n",
              "<table border=\"1\" class=\"dataframe\">\n",
              "  <thead>\n",
              "    <tr style=\"text-align: right;\">\n",
              "      <th></th>\n",
              "      <th>Sex</th>\n",
              "      <th>Rank</th>\n",
              "      <th>Years</th>\n",
              "      <th>Degree</th>\n",
              "      <th>YD</th>\n",
              "      <th>Salary</th>\n",
              "      <th>Sex_female</th>\n",
              "      <th>Sex_male</th>\n",
              "      <th>Degree_masters</th>\n",
              "    </tr>\n",
              "  </thead>\n",
              "  <tbody>\n",
              "    <tr>\n",
              "      <th>0</th>\n",
              "      <td>male</td>\n",
              "      <td>full</td>\n",
              "      <td>25</td>\n",
              "      <td>doctorate</td>\n",
              "      <td>35</td>\n",
              "      <td>36350</td>\n",
              "      <td>0</td>\n",
              "      <td>1</td>\n",
              "      <td>0</td>\n",
              "    </tr>\n",
              "    <tr>\n",
              "      <th>1</th>\n",
              "      <td>male</td>\n",
              "      <td>full</td>\n",
              "      <td>13</td>\n",
              "      <td>doctorate</td>\n",
              "      <td>22</td>\n",
              "      <td>35350</td>\n",
              "      <td>0</td>\n",
              "      <td>1</td>\n",
              "      <td>0</td>\n",
              "    </tr>\n",
              "    <tr>\n",
              "      <th>2</th>\n",
              "      <td>male</td>\n",
              "      <td>full</td>\n",
              "      <td>10</td>\n",
              "      <td>doctorate</td>\n",
              "      <td>23</td>\n",
              "      <td>28200</td>\n",
              "      <td>0</td>\n",
              "      <td>1</td>\n",
              "      <td>0</td>\n",
              "    </tr>\n",
              "    <tr>\n",
              "      <th>3</th>\n",
              "      <td>female</td>\n",
              "      <td>full</td>\n",
              "      <td>7</td>\n",
              "      <td>doctorate</td>\n",
              "      <td>27</td>\n",
              "      <td>26775</td>\n",
              "      <td>1</td>\n",
              "      <td>0</td>\n",
              "      <td>0</td>\n",
              "    </tr>\n",
              "    <tr>\n",
              "      <th>4</th>\n",
              "      <td>male</td>\n",
              "      <td>full</td>\n",
              "      <td>19</td>\n",
              "      <td>masters</td>\n",
              "      <td>30</td>\n",
              "      <td>33696</td>\n",
              "      <td>0</td>\n",
              "      <td>1</td>\n",
              "      <td>1</td>\n",
              "    </tr>\n",
              "  </tbody>\n",
              "</table>\n",
              "</div>"
            ],
            "text/plain": [
              "      Sex  Rank  Years     Degree  ...  Salary  Sex_female  Sex_male  Degree_masters\n",
              "0    male  full     25  doctorate  ...   36350           0         1               0\n",
              "1    male  full     13  doctorate  ...   35350           0         1               0\n",
              "2    male  full     10  doctorate  ...   28200           0         1               0\n",
              "3  female  full      7  doctorate  ...   26775           1         0               0\n",
              "4    male  full     19    masters  ...   33696           0         1               1\n",
              "\n",
              "[5 rows x 9 columns]"
            ]
          },
          "metadata": {
            "tags": []
          },
          "execution_count": 34
        }
      ]
    },
    {
      "cell_type": "code",
      "metadata": {
        "colab": {
          "base_uri": "https://localhost:8080/",
          "height": 224
        },
        "id": "gTtyz0_3Ka-O",
        "outputId": "94144709-e8d1-4ee6-8323-05778376be88"
      },
      "source": [
        "rank_dummies = pd.get_dummies(df.Rank, prefix='Rank') \n",
        "df = pd.concat([df, rank_dummies], axis = 1)\n",
        "df.head()"
      ],
      "execution_count": 35,
      "outputs": [
        {
          "output_type": "execute_result",
          "data": {
            "text/html": [
              "<div>\n",
              "<style scoped>\n",
              "    .dataframe tbody tr th:only-of-type {\n",
              "        vertical-align: middle;\n",
              "    }\n",
              "\n",
              "    .dataframe tbody tr th {\n",
              "        vertical-align: top;\n",
              "    }\n",
              "\n",
              "    .dataframe thead th {\n",
              "        text-align: right;\n",
              "    }\n",
              "</style>\n",
              "<table border=\"1\" class=\"dataframe\">\n",
              "  <thead>\n",
              "    <tr style=\"text-align: right;\">\n",
              "      <th></th>\n",
              "      <th>Sex</th>\n",
              "      <th>Rank</th>\n",
              "      <th>Years</th>\n",
              "      <th>Degree</th>\n",
              "      <th>YD</th>\n",
              "      <th>Salary</th>\n",
              "      <th>Sex_female</th>\n",
              "      <th>Sex_male</th>\n",
              "      <th>Degree_masters</th>\n",
              "      <th>Rank_assistant</th>\n",
              "      <th>Rank_associate</th>\n",
              "      <th>Rank_full</th>\n",
              "    </tr>\n",
              "  </thead>\n",
              "  <tbody>\n",
              "    <tr>\n",
              "      <th>0</th>\n",
              "      <td>male</td>\n",
              "      <td>full</td>\n",
              "      <td>25</td>\n",
              "      <td>doctorate</td>\n",
              "      <td>35</td>\n",
              "      <td>36350</td>\n",
              "      <td>0</td>\n",
              "      <td>1</td>\n",
              "      <td>0</td>\n",
              "      <td>0</td>\n",
              "      <td>0</td>\n",
              "      <td>1</td>\n",
              "    </tr>\n",
              "    <tr>\n",
              "      <th>1</th>\n",
              "      <td>male</td>\n",
              "      <td>full</td>\n",
              "      <td>13</td>\n",
              "      <td>doctorate</td>\n",
              "      <td>22</td>\n",
              "      <td>35350</td>\n",
              "      <td>0</td>\n",
              "      <td>1</td>\n",
              "      <td>0</td>\n",
              "      <td>0</td>\n",
              "      <td>0</td>\n",
              "      <td>1</td>\n",
              "    </tr>\n",
              "    <tr>\n",
              "      <th>2</th>\n",
              "      <td>male</td>\n",
              "      <td>full</td>\n",
              "      <td>10</td>\n",
              "      <td>doctorate</td>\n",
              "      <td>23</td>\n",
              "      <td>28200</td>\n",
              "      <td>0</td>\n",
              "      <td>1</td>\n",
              "      <td>0</td>\n",
              "      <td>0</td>\n",
              "      <td>0</td>\n",
              "      <td>1</td>\n",
              "    </tr>\n",
              "    <tr>\n",
              "      <th>3</th>\n",
              "      <td>female</td>\n",
              "      <td>full</td>\n",
              "      <td>7</td>\n",
              "      <td>doctorate</td>\n",
              "      <td>27</td>\n",
              "      <td>26775</td>\n",
              "      <td>1</td>\n",
              "      <td>0</td>\n",
              "      <td>0</td>\n",
              "      <td>0</td>\n",
              "      <td>0</td>\n",
              "      <td>1</td>\n",
              "    </tr>\n",
              "    <tr>\n",
              "      <th>4</th>\n",
              "      <td>male</td>\n",
              "      <td>full</td>\n",
              "      <td>19</td>\n",
              "      <td>masters</td>\n",
              "      <td>30</td>\n",
              "      <td>33696</td>\n",
              "      <td>0</td>\n",
              "      <td>1</td>\n",
              "      <td>1</td>\n",
              "      <td>0</td>\n",
              "      <td>0</td>\n",
              "      <td>1</td>\n",
              "    </tr>\n",
              "  </tbody>\n",
              "</table>\n",
              "</div>"
            ],
            "text/plain": [
              "      Sex  Rank  Years  ... Rank_assistant  Rank_associate  Rank_full\n",
              "0    male  full     25  ...              0               0          1\n",
              "1    male  full     13  ...              0               0          1\n",
              "2    male  full     10  ...              0               0          1\n",
              "3  female  full      7  ...              0               0          1\n",
              "4    male  full     19  ...              0               0          1\n",
              "\n",
              "[5 rows x 12 columns]"
            ]
          },
          "metadata": {
            "tags": []
          },
          "execution_count": 35
        }
      ]
    },
    {
      "cell_type": "code",
      "metadata": {
        "colab": {
          "base_uri": "https://localhost:8080/",
          "height": 204
        },
        "id": "U0oqC_7BKa-O",
        "outputId": "7902a0ca-edb0-4b56-ea74-4c11797cd5dd"
      },
      "source": [
        "dataset_new = df.select_dtypes(include=['int', 'float'])\n",
        "dataset_new.head()"
      ],
      "execution_count": 36,
      "outputs": [
        {
          "output_type": "execute_result",
          "data": {
            "text/html": [
              "<div>\n",
              "<style scoped>\n",
              "    .dataframe tbody tr th:only-of-type {\n",
              "        vertical-align: middle;\n",
              "    }\n",
              "\n",
              "    .dataframe tbody tr th {\n",
              "        vertical-align: top;\n",
              "    }\n",
              "\n",
              "    .dataframe thead th {\n",
              "        text-align: right;\n",
              "    }\n",
              "</style>\n",
              "<table border=\"1\" class=\"dataframe\">\n",
              "  <thead>\n",
              "    <tr style=\"text-align: right;\">\n",
              "      <th></th>\n",
              "      <th>Years</th>\n",
              "      <th>YD</th>\n",
              "      <th>Salary</th>\n",
              "    </tr>\n",
              "  </thead>\n",
              "  <tbody>\n",
              "    <tr>\n",
              "      <th>0</th>\n",
              "      <td>25</td>\n",
              "      <td>35</td>\n",
              "      <td>36350</td>\n",
              "    </tr>\n",
              "    <tr>\n",
              "      <th>1</th>\n",
              "      <td>13</td>\n",
              "      <td>22</td>\n",
              "      <td>35350</td>\n",
              "    </tr>\n",
              "    <tr>\n",
              "      <th>2</th>\n",
              "      <td>10</td>\n",
              "      <td>23</td>\n",
              "      <td>28200</td>\n",
              "    </tr>\n",
              "    <tr>\n",
              "      <th>3</th>\n",
              "      <td>7</td>\n",
              "      <td>27</td>\n",
              "      <td>26775</td>\n",
              "    </tr>\n",
              "    <tr>\n",
              "      <th>4</th>\n",
              "      <td>19</td>\n",
              "      <td>30</td>\n",
              "      <td>33696</td>\n",
              "    </tr>\n",
              "  </tbody>\n",
              "</table>\n",
              "</div>"
            ],
            "text/plain": [
              "   Years  YD  Salary\n",
              "0     25  35   36350\n",
              "1     13  22   35350\n",
              "2     10  23   28200\n",
              "3      7  27   26775\n",
              "4     19  30   33696"
            ]
          },
          "metadata": {
            "tags": []
          },
          "execution_count": 36
        }
      ]
    },
    {
      "cell_type": "code",
      "metadata": {
        "colab": {
          "base_uri": "https://localhost:8080/",
          "height": 142
        },
        "id": "H64jgJgvKa-P",
        "outputId": "a4132473-fdd9-4764-fff8-33eae338808f"
      },
      "source": [
        "df.head(3)"
      ],
      "execution_count": 37,
      "outputs": [
        {
          "output_type": "execute_result",
          "data": {
            "text/html": [
              "<div>\n",
              "<style scoped>\n",
              "    .dataframe tbody tr th:only-of-type {\n",
              "        vertical-align: middle;\n",
              "    }\n",
              "\n",
              "    .dataframe tbody tr th {\n",
              "        vertical-align: top;\n",
              "    }\n",
              "\n",
              "    .dataframe thead th {\n",
              "        text-align: right;\n",
              "    }\n",
              "</style>\n",
              "<table border=\"1\" class=\"dataframe\">\n",
              "  <thead>\n",
              "    <tr style=\"text-align: right;\">\n",
              "      <th></th>\n",
              "      <th>Sex</th>\n",
              "      <th>Rank</th>\n",
              "      <th>Years</th>\n",
              "      <th>Degree</th>\n",
              "      <th>YD</th>\n",
              "      <th>Salary</th>\n",
              "      <th>Sex_female</th>\n",
              "      <th>Sex_male</th>\n",
              "      <th>Degree_masters</th>\n",
              "      <th>Rank_assistant</th>\n",
              "      <th>Rank_associate</th>\n",
              "      <th>Rank_full</th>\n",
              "    </tr>\n",
              "  </thead>\n",
              "  <tbody>\n",
              "    <tr>\n",
              "      <th>0</th>\n",
              "      <td>male</td>\n",
              "      <td>full</td>\n",
              "      <td>25</td>\n",
              "      <td>doctorate</td>\n",
              "      <td>35</td>\n",
              "      <td>36350</td>\n",
              "      <td>0</td>\n",
              "      <td>1</td>\n",
              "      <td>0</td>\n",
              "      <td>0</td>\n",
              "      <td>0</td>\n",
              "      <td>1</td>\n",
              "    </tr>\n",
              "    <tr>\n",
              "      <th>1</th>\n",
              "      <td>male</td>\n",
              "      <td>full</td>\n",
              "      <td>13</td>\n",
              "      <td>doctorate</td>\n",
              "      <td>22</td>\n",
              "      <td>35350</td>\n",
              "      <td>0</td>\n",
              "      <td>1</td>\n",
              "      <td>0</td>\n",
              "      <td>0</td>\n",
              "      <td>0</td>\n",
              "      <td>1</td>\n",
              "    </tr>\n",
              "    <tr>\n",
              "      <th>2</th>\n",
              "      <td>male</td>\n",
              "      <td>full</td>\n",
              "      <td>10</td>\n",
              "      <td>doctorate</td>\n",
              "      <td>23</td>\n",
              "      <td>28200</td>\n",
              "      <td>0</td>\n",
              "      <td>1</td>\n",
              "      <td>0</td>\n",
              "      <td>0</td>\n",
              "      <td>0</td>\n",
              "      <td>1</td>\n",
              "    </tr>\n",
              "  </tbody>\n",
              "</table>\n",
              "</div>"
            ],
            "text/plain": [
              "    Sex  Rank  Years  ... Rank_assistant  Rank_associate  Rank_full\n",
              "0  male  full     25  ...              0               0          1\n",
              "1  male  full     13  ...              0               0          1\n",
              "2  male  full     10  ...              0               0          1\n",
              "\n",
              "[3 rows x 12 columns]"
            ]
          },
          "metadata": {
            "tags": []
          },
          "execution_count": 37
        }
      ]
    },
    {
      "cell_type": "code",
      "metadata": {
        "id": "NJxylb0uKa-P"
      },
      "source": [
        "df.to_csv(\"salary_dummies.csv\")"
      ],
      "execution_count": 38,
      "outputs": []
    },
    {
      "cell_type": "code",
      "metadata": {
        "colab": {
          "base_uri": "https://localhost:8080/",
          "height": 142
        },
        "id": "8blohva3Ka-P",
        "outputId": "716e2770-d76e-4ad1-c6f3-01e0cc4f6fd4"
      },
      "source": [
        "df.head(3)"
      ],
      "execution_count": 40,
      "outputs": [
        {
          "output_type": "execute_result",
          "data": {
            "text/html": [
              "<div>\n",
              "<style scoped>\n",
              "    .dataframe tbody tr th:only-of-type {\n",
              "        vertical-align: middle;\n",
              "    }\n",
              "\n",
              "    .dataframe tbody tr th {\n",
              "        vertical-align: top;\n",
              "    }\n",
              "\n",
              "    .dataframe thead th {\n",
              "        text-align: right;\n",
              "    }\n",
              "</style>\n",
              "<table border=\"1\" class=\"dataframe\">\n",
              "  <thead>\n",
              "    <tr style=\"text-align: right;\">\n",
              "      <th></th>\n",
              "      <th>Sex</th>\n",
              "      <th>Rank</th>\n",
              "      <th>Years</th>\n",
              "      <th>Degree</th>\n",
              "      <th>YD</th>\n",
              "      <th>Salary</th>\n",
              "      <th>Sex_female</th>\n",
              "      <th>Sex_male</th>\n",
              "      <th>Degree_masters</th>\n",
              "      <th>Rank_assistant</th>\n",
              "      <th>Rank_associate</th>\n",
              "      <th>Rank_full</th>\n",
              "    </tr>\n",
              "  </thead>\n",
              "  <tbody>\n",
              "    <tr>\n",
              "      <th>0</th>\n",
              "      <td>male</td>\n",
              "      <td>full</td>\n",
              "      <td>25</td>\n",
              "      <td>doctorate</td>\n",
              "      <td>35</td>\n",
              "      <td>36350</td>\n",
              "      <td>0</td>\n",
              "      <td>1</td>\n",
              "      <td>0</td>\n",
              "      <td>0</td>\n",
              "      <td>0</td>\n",
              "      <td>1</td>\n",
              "    </tr>\n",
              "    <tr>\n",
              "      <th>1</th>\n",
              "      <td>male</td>\n",
              "      <td>full</td>\n",
              "      <td>13</td>\n",
              "      <td>doctorate</td>\n",
              "      <td>22</td>\n",
              "      <td>35350</td>\n",
              "      <td>0</td>\n",
              "      <td>1</td>\n",
              "      <td>0</td>\n",
              "      <td>0</td>\n",
              "      <td>0</td>\n",
              "      <td>1</td>\n",
              "    </tr>\n",
              "    <tr>\n",
              "      <th>2</th>\n",
              "      <td>male</td>\n",
              "      <td>full</td>\n",
              "      <td>10</td>\n",
              "      <td>doctorate</td>\n",
              "      <td>23</td>\n",
              "      <td>28200</td>\n",
              "      <td>0</td>\n",
              "      <td>1</td>\n",
              "      <td>0</td>\n",
              "      <td>0</td>\n",
              "      <td>0</td>\n",
              "      <td>1</td>\n",
              "    </tr>\n",
              "  </tbody>\n",
              "</table>\n",
              "</div>"
            ],
            "text/plain": [
              "    Sex  Rank  Years  ... Rank_assistant  Rank_associate  Rank_full\n",
              "0  male  full     25  ...              0               0          1\n",
              "1  male  full     13  ...              0               0          1\n",
              "2  male  full     10  ...              0               0          1\n",
              "\n",
              "[3 rows x 12 columns]"
            ]
          },
          "metadata": {
            "tags": []
          },
          "execution_count": 40
        }
      ]
    },
    {
      "cell_type": "code",
      "metadata": {
        "id": "M-58bwUCKa-P"
      },
      "source": [
        "data = df[[\"Years\", \"Salary\", \"Sex_female\", \"Sex_male\", \"Degree_masters\", \"Rank_assistant\", \"Rank_associate\", \"Rank_full\"]]"
      ],
      "execution_count": 41,
      "outputs": []
    },
    {
      "cell_type": "code",
      "metadata": {
        "id": "Za19vLh-Ka-P"
      },
      "source": [
        "# split into inputs and outputs\n",
        "X, y = data.iloc[:, :-1], data.iloc[:, -1]"
      ],
      "execution_count": 42,
      "outputs": []
    },
    {
      "cell_type": "code",
      "metadata": {
        "colab": {
          "base_uri": "https://localhost:8080/"
        },
        "id": "Lqk21mfSKa-P",
        "outputId": "db7e07ef-294e-49f2-ea3c-696c455d896c"
      },
      "source": [
        "print(X.shape, y.shape)"
      ],
      "execution_count": 43,
      "outputs": [
        {
          "output_type": "stream",
          "text": [
            "(52, 7) (52,)\n"
          ],
          "name": "stdout"
        }
      ]
    },
    {
      "cell_type": "code",
      "metadata": {
        "colab": {
          "base_uri": "https://localhost:8080/"
        },
        "id": "xCcNTR2YKa-P",
        "outputId": "fa4186c4-b67b-4279-9495-40d2739f4370"
      },
      "source": [
        "# split a dataset into train and test sets\n",
        "from sklearn.datasets import make_blobs\n",
        "from sklearn.model_selection import train_test_split\n",
        "\n",
        "# split into train test sets\n",
        "X_train, X_test, y_train, y_test = train_test_split(X, y, test_size=0.33, random_state=1)\n",
        "print(X_train.shape, X_test.shape, y_train.shape, y_test.shape)"
      ],
      "execution_count": 44,
      "outputs": [
        {
          "output_type": "stream",
          "text": [
            "(34, 7) (18, 7) (34,) (18,)\n"
          ],
          "name": "stdout"
        }
      ]
    },
    {
      "cell_type": "code",
      "metadata": {
        "colab": {
          "base_uri": "https://localhost:8080/"
        },
        "id": "8GSfOgrkKa-P",
        "outputId": "f93c14ba-fb4d-4841-9743-416c2b0c90c9"
      },
      "source": [
        "from sklearn.ensemble import RandomForestRegressor\n",
        "# fit the model\n",
        "model = RandomForestRegressor(random_state=1)\n",
        "model.fit(X_train, y_train)"
      ],
      "execution_count": 45,
      "outputs": [
        {
          "output_type": "execute_result",
          "data": {
            "text/plain": [
              "RandomForestRegressor(bootstrap=True, ccp_alpha=0.0, criterion='mse',\n",
              "                      max_depth=None, max_features='auto', max_leaf_nodes=None,\n",
              "                      max_samples=None, min_impurity_decrease=0.0,\n",
              "                      min_impurity_split=None, min_samples_leaf=1,\n",
              "                      min_samples_split=2, min_weight_fraction_leaf=0.0,\n",
              "                      n_estimators=100, n_jobs=None, oob_score=False,\n",
              "                      random_state=1, verbose=0, warm_start=False)"
            ]
          },
          "metadata": {
            "tags": []
          },
          "execution_count": 45
        }
      ]
    },
    {
      "cell_type": "code",
      "metadata": {
        "id": "iugb1t7XKa-P"
      },
      "source": [
        "# make predictions\n",
        "yhat = model.predict(X_test)\n"
      ],
      "execution_count": 46,
      "outputs": []
    },
    {
      "cell_type": "code",
      "metadata": {
        "colab": {
          "base_uri": "https://localhost:8080/",
          "height": 351
        },
        "id": "fd71FM0NKa-Q",
        "outputId": "b3a0e33f-5d37-4851-9146-7e92e801de7f"
      },
      "source": [
        "sns.distplot(yhat-y_test)"
      ],
      "execution_count": 47,
      "outputs": [
        {
          "output_type": "stream",
          "text": [
            "/usr/local/lib/python3.7/dist-packages/seaborn/distributions.py:2557: FutureWarning: `distplot` is a deprecated function and will be removed in a future version. Please adapt your code to use either `displot` (a figure-level function with similar flexibility) or `histplot` (an axes-level function for histograms).\n",
            "  warnings.warn(msg, FutureWarning)\n"
          ],
          "name": "stderr"
        },
        {
          "output_type": "execute_result",
          "data": {
            "text/plain": [
              "<matplotlib.axes._subplots.AxesSubplot at 0x7f44c6def550>"
            ]
          },
          "metadata": {
            "tags": []
          },
          "execution_count": 47
        },
        {
          "output_type": "display_data",
          "data": {
            "image/png": "[encoded data removed]",
            "text/plain": [
              "<Figure size 432x288 with 1 Axes>"
            ]
          },
          "metadata": {
            "tags": []
          }
        }
      ]
    }
  ]
}