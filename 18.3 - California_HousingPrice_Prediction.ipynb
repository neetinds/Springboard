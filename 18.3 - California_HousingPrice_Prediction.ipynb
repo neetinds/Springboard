{
  "nbformat": 4,
  "nbformat_minor": 0,
  "metadata": {
    "colab": {
      "name": "California_HousingPrice_Prediction.ipynb",
      "provenance": [],
      "collapsed_sections": [],
      "include_colab_link": true
    },
    "kernelspec": {
      "display_name": "Python 3",
      "language": "python",
      "name": "python3"
    },
    "language_info": {
      "codemirror_mode": {
        "name": "ipython",
        "version": 3
      },
      "file_extension": ".py",
      "mimetype": "text/x-python",
      "name": "python",
      "nbconvert_exporter": "python",
      "pygments_lexer": "ipython3",
      "version": "3.6.4"
    }
  },
  "cells": [
    {
      "cell_type": "markdown",
      "metadata": {
        "id": "view-in-github",
        "colab_type": "text"
      },
      "source": [
        "<a href=\"https://colab.research.google.com/github/neetinds/Springboard/blob/master/18.3%20-%20California_HousingPrice_Prediction.ipynb\" target=\"_parent\"><img src=\"https://colab.research.google.com/assets/colab-badge.svg\" alt=\"Open In Colab\"/></a>"
      ]
    },
    {
      "cell_type": "code",
      "metadata": {
        "id": "wDEicED-sMyw"
      },
      "source": [
        "#Import required libraries\n",
        "import pandas as pd\n",
        "import numpy as np\n",
        "import matplotlib.pyplot as plt\n",
        "import seaborn as sns \n",
        "%matplotlib inline"
      ],
      "execution_count": 3,
      "outputs": []
    },
    {
      "cell_type": "code",
      "metadata": {
        "colab": {
          "base_uri": "https://localhost:8080/"
        },
        "id": "M7kjXIiCsX9b",
        "outputId": "2c686ee8-0b81-44eb-9a68-47c0879af8a8"
      },
      "source": [
        "from google.colab import drive\n",
        "drive.mount(\"/content/gdrive\", force_remount=True)"
      ],
      "execution_count": 5,
      "outputs": [
        {
          "output_type": "stream",
          "text": [
            "Mounted at /content/gdrive\n"
          ],
          "name": "stdout"
        }
      ]
    },
    {
      "cell_type": "markdown",
      "metadata": {
        "id": "amkzr49ksMyy"
      },
      "source": [
        "# Acquire Housing dataset"
      ]
    },
    {
      "cell_type": "code",
      "metadata": {
        "id": "Ovnzh-DLsMyz"
      },
      "source": [
        "#Read housing dataset\n",
        "df_housing_dataset = pd.read_csv('/content/gdrive/MyDrive/Springboard-master/18.3 - California Housing Price Prediction/housing.csv')"
      ],
      "execution_count": 6,
      "outputs": []
    },
    {
      "cell_type": "code",
      "metadata": {
        "colab": {
          "base_uri": "https://localhost:8080/",
          "height": 204
        },
        "id": "W5mOODvmsMyz",
        "outputId": "781de369-364f-4f2d-90a6-84a194627211"
      },
      "source": [
        "df_housing_dataset.head()"
      ],
      "execution_count": 7,
      "outputs": [
        {
          "output_type": "execute_result",
          "data": {
            "text/html": [
              "<div>\n",
              "<style scoped>\n",
              "    .dataframe tbody tr th:only-of-type {\n",
              "        vertical-align: middle;\n",
              "    }\n",
              "\n",
              "    .dataframe tbody tr th {\n",
              "        vertical-align: top;\n",
              "    }\n",
              "\n",
              "    .dataframe thead th {\n",
              "        text-align: right;\n",
              "    }\n",
              "</style>\n",
              "<table border=\"1\" class=\"dataframe\">\n",
              "  <thead>\n",
              "    <tr style=\"text-align: right;\">\n",
              "      <th></th>\n",
              "      <th>longitude</th>\n",
              "      <th>latitude</th>\n",
              "      <th>housing_median_age</th>\n",
              "      <th>total_rooms</th>\n",
              "      <th>total_bedrooms</th>\n",
              "      <th>population</th>\n",
              "      <th>households</th>\n",
              "      <th>median_income</th>\n",
              "      <th>ocean_proximity</th>\n",
              "      <th>median_house_value</th>\n",
              "    </tr>\n",
              "  </thead>\n",
              "  <tbody>\n",
              "    <tr>\n",
              "      <th>0</th>\n",
              "      <td>-122.23</td>\n",
              "      <td>37.88</td>\n",
              "      <td>41</td>\n",
              "      <td>880</td>\n",
              "      <td>129.0</td>\n",
              "      <td>322</td>\n",
              "      <td>126</td>\n",
              "      <td>8.3252</td>\n",
              "      <td>NEAR BAY</td>\n",
              "      <td>452600</td>\n",
              "    </tr>\n",
              "    <tr>\n",
              "      <th>1</th>\n",
              "      <td>-122.22</td>\n",
              "      <td>37.86</td>\n",
              "      <td>21</td>\n",
              "      <td>7099</td>\n",
              "      <td>1106.0</td>\n",
              "      <td>2401</td>\n",
              "      <td>1138</td>\n",
              "      <td>8.3014</td>\n",
              "      <td>NEAR BAY</td>\n",
              "      <td>358500</td>\n",
              "    </tr>\n",
              "    <tr>\n",
              "      <th>2</th>\n",
              "      <td>-122.24</td>\n",
              "      <td>37.85</td>\n",
              "      <td>52</td>\n",
              "      <td>1467</td>\n",
              "      <td>190.0</td>\n",
              "      <td>496</td>\n",
              "      <td>177</td>\n",
              "      <td>7.2574</td>\n",
              "      <td>NEAR BAY</td>\n",
              "      <td>352100</td>\n",
              "    </tr>\n",
              "    <tr>\n",
              "      <th>3</th>\n",
              "      <td>-122.25</td>\n",
              "      <td>37.85</td>\n",
              "      <td>52</td>\n",
              "      <td>1274</td>\n",
              "      <td>235.0</td>\n",
              "      <td>558</td>\n",
              "      <td>219</td>\n",
              "      <td>5.6431</td>\n",
              "      <td>NEAR BAY</td>\n",
              "      <td>341300</td>\n",
              "    </tr>\n",
              "    <tr>\n",
              "      <th>4</th>\n",
              "      <td>-122.25</td>\n",
              "      <td>37.85</td>\n",
              "      <td>52</td>\n",
              "      <td>1627</td>\n",
              "      <td>280.0</td>\n",
              "      <td>565</td>\n",
              "      <td>259</td>\n",
              "      <td>3.8462</td>\n",
              "      <td>NEAR BAY</td>\n",
              "      <td>342200</td>\n",
              "    </tr>\n",
              "  </tbody>\n",
              "</table>\n",
              "</div>"
            ],
            "text/plain": [
              "   longitude  latitude  ...  ocean_proximity  median_house_value\n",
              "0    -122.23     37.88  ...         NEAR BAY              452600\n",
              "1    -122.22     37.86  ...         NEAR BAY              358500\n",
              "2    -122.24     37.85  ...         NEAR BAY              352100\n",
              "3    -122.25     37.85  ...         NEAR BAY              341300\n",
              "4    -122.25     37.85  ...         NEAR BAY              342200\n",
              "\n",
              "[5 rows x 10 columns]"
            ]
          },
          "metadata": {
            "tags": []
          },
          "execution_count": 7
        }
      ]
    },
    {
      "cell_type": "code",
      "metadata": {
        "colab": {
          "base_uri": "https://localhost:8080/"
        },
        "id": "svsalNwHsMy0",
        "outputId": "9372e196-b2ba-4723-febb-e783b40034df"
      },
      "source": [
        "df_housing_dataset.columns"
      ],
      "execution_count": 8,
      "outputs": [
        {
          "output_type": "execute_result",
          "data": {
            "text/plain": [
              "Index(['longitude', 'latitude', 'housing_median_age', 'total_rooms',\n",
              "       'total_bedrooms', 'population', 'households', 'median_income',\n",
              "       'ocean_proximity', 'median_house_value'],\n",
              "      dtype='object')"
            ]
          },
          "metadata": {
            "tags": []
          },
          "execution_count": 8
        }
      ]
    },
    {
      "cell_type": "code",
      "metadata": {
        "colab": {
          "base_uri": "https://localhost:8080/"
        },
        "id": "8w8FkNEEsMy0",
        "outputId": "e0477d44-bf7f-4f57-a4f2-e442f46b7a47"
      },
      "source": [
        "#Check shape of entire dataset\n",
        "df_housing_dataset.shape"
      ],
      "execution_count": 9,
      "outputs": [
        {
          "output_type": "execute_result",
          "data": {
            "text/plain": [
              "(20640, 10)"
            ]
          },
          "metadata": {
            "tags": []
          },
          "execution_count": 9
        }
      ]
    },
    {
      "cell_type": "code",
      "metadata": {
        "colab": {
          "base_uri": "https://localhost:8080/",
          "height": 297
        },
        "id": "iMZKIo27sMy1",
        "outputId": "4e42da7d-3edb-4932-9e8a-e4becda3cd91"
      },
      "source": [
        "df_housing_dataset.describe()"
      ],
      "execution_count": 10,
      "outputs": [
        {
          "output_type": "execute_result",
          "data": {
            "text/html": [
              "<div>\n",
              "<style scoped>\n",
              "    .dataframe tbody tr th:only-of-type {\n",
              "        vertical-align: middle;\n",
              "    }\n",
              "\n",
              "    .dataframe tbody tr th {\n",
              "        vertical-align: top;\n",
              "    }\n",
              "\n",
              "    .dataframe thead th {\n",
              "        text-align: right;\n",
              "    }\n",
              "</style>\n",
              "<table border=\"1\" class=\"dataframe\">\n",
              "  <thead>\n",
              "    <tr style=\"text-align: right;\">\n",
              "      <th></th>\n",
              "      <th>longitude</th>\n",
              "      <th>latitude</th>\n",
              "      <th>housing_median_age</th>\n",
              "      <th>total_rooms</th>\n",
              "      <th>total_bedrooms</th>\n",
              "      <th>population</th>\n",
              "      <th>households</th>\n",
              "      <th>median_income</th>\n",
              "      <th>median_house_value</th>\n",
              "    </tr>\n",
              "  </thead>\n",
              "  <tbody>\n",
              "    <tr>\n",
              "      <th>count</th>\n",
              "      <td>20640.000000</td>\n",
              "      <td>20640.000000</td>\n",
              "      <td>20640.000000</td>\n",
              "      <td>20640.000000</td>\n",
              "      <td>20433.000000</td>\n",
              "      <td>20640.000000</td>\n",
              "      <td>20640.000000</td>\n",
              "      <td>20640.000000</td>\n",
              "      <td>20640.000000</td>\n",
              "    </tr>\n",
              "    <tr>\n",
              "      <th>mean</th>\n",
              "      <td>-119.569704</td>\n",
              "      <td>35.631861</td>\n",
              "      <td>28.639486</td>\n",
              "      <td>2635.763081</td>\n",
              "      <td>537.870553</td>\n",
              "      <td>1425.476744</td>\n",
              "      <td>499.539680</td>\n",
              "      <td>3.870671</td>\n",
              "      <td>206855.816909</td>\n",
              "    </tr>\n",
              "    <tr>\n",
              "      <th>std</th>\n",
              "      <td>2.003532</td>\n",
              "      <td>2.135952</td>\n",
              "      <td>12.585558</td>\n",
              "      <td>2181.615252</td>\n",
              "      <td>421.385070</td>\n",
              "      <td>1132.462122</td>\n",
              "      <td>382.329753</td>\n",
              "      <td>1.899822</td>\n",
              "      <td>115395.615874</td>\n",
              "    </tr>\n",
              "    <tr>\n",
              "      <th>min</th>\n",
              "      <td>-124.350000</td>\n",
              "      <td>32.540000</td>\n",
              "      <td>1.000000</td>\n",
              "      <td>2.000000</td>\n",
              "      <td>1.000000</td>\n",
              "      <td>3.000000</td>\n",
              "      <td>1.000000</td>\n",
              "      <td>0.499900</td>\n",
              "      <td>14999.000000</td>\n",
              "    </tr>\n",
              "    <tr>\n",
              "      <th>25%</th>\n",
              "      <td>-121.800000</td>\n",
              "      <td>33.930000</td>\n",
              "      <td>18.000000</td>\n",
              "      <td>1447.750000</td>\n",
              "      <td>296.000000</td>\n",
              "      <td>787.000000</td>\n",
              "      <td>280.000000</td>\n",
              "      <td>2.563400</td>\n",
              "      <td>119600.000000</td>\n",
              "    </tr>\n",
              "    <tr>\n",
              "      <th>50%</th>\n",
              "      <td>-118.490000</td>\n",
              "      <td>34.260000</td>\n",
              "      <td>29.000000</td>\n",
              "      <td>2127.000000</td>\n",
              "      <td>435.000000</td>\n",
              "      <td>1166.000000</td>\n",
              "      <td>409.000000</td>\n",
              "      <td>3.534800</td>\n",
              "      <td>179700.000000</td>\n",
              "    </tr>\n",
              "    <tr>\n",
              "      <th>75%</th>\n",
              "      <td>-118.010000</td>\n",
              "      <td>37.710000</td>\n",
              "      <td>37.000000</td>\n",
              "      <td>3148.000000</td>\n",
              "      <td>647.000000</td>\n",
              "      <td>1725.000000</td>\n",
              "      <td>605.000000</td>\n",
              "      <td>4.743250</td>\n",
              "      <td>264725.000000</td>\n",
              "    </tr>\n",
              "    <tr>\n",
              "      <th>max</th>\n",
              "      <td>-114.310000</td>\n",
              "      <td>41.950000</td>\n",
              "      <td>52.000000</td>\n",
              "      <td>39320.000000</td>\n",
              "      <td>6445.000000</td>\n",
              "      <td>35682.000000</td>\n",
              "      <td>6082.000000</td>\n",
              "      <td>15.000100</td>\n",
              "      <td>500001.000000</td>\n",
              "    </tr>\n",
              "  </tbody>\n",
              "</table>\n",
              "</div>"
            ],
            "text/plain": [
              "          longitude      latitude  ...  median_income  median_house_value\n",
              "count  20640.000000  20640.000000  ...   20640.000000        20640.000000\n",
              "mean    -119.569704     35.631861  ...       3.870671       206855.816909\n",
              "std        2.003532      2.135952  ...       1.899822       115395.615874\n",
              "min     -124.350000     32.540000  ...       0.499900        14999.000000\n",
              "25%     -121.800000     33.930000  ...       2.563400       119600.000000\n",
              "50%     -118.490000     34.260000  ...       3.534800       179700.000000\n",
              "75%     -118.010000     37.710000  ...       4.743250       264725.000000\n",
              "max     -114.310000     41.950000  ...      15.000100       500001.000000\n",
              "\n",
              "[8 rows x 9 columns]"
            ]
          },
          "metadata": {
            "tags": []
          },
          "execution_count": 10
        }
      ]
    },
    {
      "cell_type": "markdown",
      "metadata": {
        "id": "z3nIVWNpsMy1"
      },
      "source": [
        "# Visualize data to understand the relationship among variables"
      ]
    },
    {
      "cell_type": "code",
      "metadata": {
        "id": "T8DtjugZsMy1"
      },
      "source": [
        "corr = df_housing_dataset.corr()"
      ],
      "execution_count": 11,
      "outputs": []
    },
    {
      "cell_type": "code",
      "metadata": {
        "colab": {
          "base_uri": "https://localhost:8080/",
          "height": 328
        },
        "id": "C89TAgeBsMy1",
        "outputId": "394310c0-1983-4d45-af6c-fdb9eb66bec8"
      },
      "source": [
        "df_housing_dataset.corr()"
      ],
      "execution_count": 12,
      "outputs": [
        {
          "output_type": "execute_result",
          "data": {
            "text/html": [
              "<div>\n",
              "<style scoped>\n",
              "    .dataframe tbody tr th:only-of-type {\n",
              "        vertical-align: middle;\n",
              "    }\n",
              "\n",
              "    .dataframe tbody tr th {\n",
              "        vertical-align: top;\n",
              "    }\n",
              "\n",
              "    .dataframe thead th {\n",
              "        text-align: right;\n",
              "    }\n",
              "</style>\n",
              "<table border=\"1\" class=\"dataframe\">\n",
              "  <thead>\n",
              "    <tr style=\"text-align: right;\">\n",
              "      <th></th>\n",
              "      <th>longitude</th>\n",
              "      <th>latitude</th>\n",
              "      <th>housing_median_age</th>\n",
              "      <th>total_rooms</th>\n",
              "      <th>total_bedrooms</th>\n",
              "      <th>population</th>\n",
              "      <th>households</th>\n",
              "      <th>median_income</th>\n",
              "      <th>median_house_value</th>\n",
              "    </tr>\n",
              "  </thead>\n",
              "  <tbody>\n",
              "    <tr>\n",
              "      <th>longitude</th>\n",
              "      <td>1.000000</td>\n",
              "      <td>-0.924664</td>\n",
              "      <td>-0.108197</td>\n",
              "      <td>0.044568</td>\n",
              "      <td>0.069608</td>\n",
              "      <td>0.099773</td>\n",
              "      <td>0.055310</td>\n",
              "      <td>-0.015176</td>\n",
              "      <td>-0.045967</td>\n",
              "    </tr>\n",
              "    <tr>\n",
              "      <th>latitude</th>\n",
              "      <td>-0.924664</td>\n",
              "      <td>1.000000</td>\n",
              "      <td>0.011173</td>\n",
              "      <td>-0.036100</td>\n",
              "      <td>-0.066983</td>\n",
              "      <td>-0.108785</td>\n",
              "      <td>-0.071035</td>\n",
              "      <td>-0.079809</td>\n",
              "      <td>-0.144160</td>\n",
              "    </tr>\n",
              "    <tr>\n",
              "      <th>housing_median_age</th>\n",
              "      <td>-0.108197</td>\n",
              "      <td>0.011173</td>\n",
              "      <td>1.000000</td>\n",
              "      <td>-0.361262</td>\n",
              "      <td>-0.320451</td>\n",
              "      <td>-0.296244</td>\n",
              "      <td>-0.302916</td>\n",
              "      <td>-0.119034</td>\n",
              "      <td>0.105623</td>\n",
              "    </tr>\n",
              "    <tr>\n",
              "      <th>total_rooms</th>\n",
              "      <td>0.044568</td>\n",
              "      <td>-0.036100</td>\n",
              "      <td>-0.361262</td>\n",
              "      <td>1.000000</td>\n",
              "      <td>0.930380</td>\n",
              "      <td>0.857126</td>\n",
              "      <td>0.918484</td>\n",
              "      <td>0.198050</td>\n",
              "      <td>0.134153</td>\n",
              "    </tr>\n",
              "    <tr>\n",
              "      <th>total_bedrooms</th>\n",
              "      <td>0.069608</td>\n",
              "      <td>-0.066983</td>\n",
              "      <td>-0.320451</td>\n",
              "      <td>0.930380</td>\n",
              "      <td>1.000000</td>\n",
              "      <td>0.877747</td>\n",
              "      <td>0.979728</td>\n",
              "      <td>-0.007723</td>\n",
              "      <td>0.049686</td>\n",
              "    </tr>\n",
              "    <tr>\n",
              "      <th>population</th>\n",
              "      <td>0.099773</td>\n",
              "      <td>-0.108785</td>\n",
              "      <td>-0.296244</td>\n",
              "      <td>0.857126</td>\n",
              "      <td>0.877747</td>\n",
              "      <td>1.000000</td>\n",
              "      <td>0.907222</td>\n",
              "      <td>0.004834</td>\n",
              "      <td>-0.024650</td>\n",
              "    </tr>\n",
              "    <tr>\n",
              "      <th>households</th>\n",
              "      <td>0.055310</td>\n",
              "      <td>-0.071035</td>\n",
              "      <td>-0.302916</td>\n",
              "      <td>0.918484</td>\n",
              "      <td>0.979728</td>\n",
              "      <td>0.907222</td>\n",
              "      <td>1.000000</td>\n",
              "      <td>0.013033</td>\n",
              "      <td>0.065843</td>\n",
              "    </tr>\n",
              "    <tr>\n",
              "      <th>median_income</th>\n",
              "      <td>-0.015176</td>\n",
              "      <td>-0.079809</td>\n",
              "      <td>-0.119034</td>\n",
              "      <td>0.198050</td>\n",
              "      <td>-0.007723</td>\n",
              "      <td>0.004834</td>\n",
              "      <td>0.013033</td>\n",
              "      <td>1.000000</td>\n",
              "      <td>0.688075</td>\n",
              "    </tr>\n",
              "    <tr>\n",
              "      <th>median_house_value</th>\n",
              "      <td>-0.045967</td>\n",
              "      <td>-0.144160</td>\n",
              "      <td>0.105623</td>\n",
              "      <td>0.134153</td>\n",
              "      <td>0.049686</td>\n",
              "      <td>-0.024650</td>\n",
              "      <td>0.065843</td>\n",
              "      <td>0.688075</td>\n",
              "      <td>1.000000</td>\n",
              "    </tr>\n",
              "  </tbody>\n",
              "</table>\n",
              "</div>"
            ],
            "text/plain": [
              "                    longitude  latitude  ...  median_income  median_house_value\n",
              "longitude            1.000000 -0.924664  ...      -0.015176           -0.045967\n",
              "latitude            -0.924664  1.000000  ...      -0.079809           -0.144160\n",
              "housing_median_age  -0.108197  0.011173  ...      -0.119034            0.105623\n",
              "total_rooms          0.044568 -0.036100  ...       0.198050            0.134153\n",
              "total_bedrooms       0.069608 -0.066983  ...      -0.007723            0.049686\n",
              "population           0.099773 -0.108785  ...       0.004834           -0.024650\n",
              "households           0.055310 -0.071035  ...       0.013033            0.065843\n",
              "median_income       -0.015176 -0.079809  ...       1.000000            0.688075\n",
              "median_house_value  -0.045967 -0.144160  ...       0.688075            1.000000\n",
              "\n",
              "[9 rows x 9 columns]"
            ]
          },
          "metadata": {
            "tags": []
          },
          "execution_count": 12
        }
      ]
    },
    {
      "cell_type": "code",
      "metadata": {
        "colab": {
          "base_uri": "https://localhost:8080/",
          "height": 474
        },
        "id": "yNFX2FBfsMy2",
        "outputId": "48754504-0d58-4573-b2e1-3518223efcf3"
      },
      "source": [
        "#Seaborn heatmap to view correlations between features in dataset\n",
        "#Median income has a positive correlation against median house value\n",
        "plt.figure(figsize=(8,6))\n",
        "pltheatmap =sns.heatmap(corr)"
      ],
      "execution_count": 13,
      "outputs": [
        {
          "output_type": "display_data",
          "data": {
            "image/png": "[encoded data removed]",
            "text/plain": [
              "<Figure size 576x432 with 2 Axes>"
            ]
          },
          "metadata": {
            "tags": [],
            "needs_background": "light"
          }
        }
      ]
    },
    {
      "cell_type": "code",
      "metadata": {
        "colab": {
          "base_uri": "https://localhost:8080/",
          "height": 442
        },
        "id": "MUsrUpR5sMy2",
        "outputId": "2a38e64f-1f18-4630-d034-1594921a731c"
      },
      "source": [
        "#Scatter plot of median income with median house value\n",
        "plt.figure(figsize=(10,7))\n",
        "plt.scatter(df_housing_dataset['median_income'],df_housing_dataset['median_house_value'])\n",
        "plt.title='Scatter plot to correlate median income vs median house value'\n",
        "plt.xlabel('Median Income')\n",
        "plt.ylabel('Medain House Value')\n",
        "plt.show()"
      ],
      "execution_count": 14,
      "outputs": [
        {
          "output_type": "display_data",
          "data": {
            "image/png": "[encoded data removed]",
            "text/plain": [
              "<Figure size 720x504 with 1 Axes>"
            ]
          },
          "metadata": {
            "tags": [],
            "needs_background": "light"
          }
        }
      ]
    },
    {
      "cell_type": "code",
      "metadata": {
        "colab": {
          "base_uri": "https://localhost:8080/"
        },
        "id": "4NklIuImsMy2",
        "outputId": "85d2a6fe-686c-4c0a-b08f-2edf0a5a05b0"
      },
      "source": [
        "df_housing_dataset.ocean_proximity.unique()"
      ],
      "execution_count": 15,
      "outputs": [
        {
          "output_type": "execute_result",
          "data": {
            "text/plain": [
              "array(['NEAR BAY', '<1H OCEAN', 'INLAND', 'NEAR OCEAN', 'ISLAND'],\n",
              "      dtype=object)"
            ]
          },
          "metadata": {
            "tags": []
          },
          "execution_count": 15
        }
      ]
    },
    {
      "cell_type": "code",
      "metadata": {
        "colab": {
          "base_uri": "https://localhost:8080/"
        },
        "id": "HmPlY8HysMy2",
        "outputId": "9051291d-1171-4176-beef-4ff442a4bb33"
      },
      "source": [
        "df_housing_dataset.ocean_proximity.isnull().sum()"
      ],
      "execution_count": 16,
      "outputs": [
        {
          "output_type": "execute_result",
          "data": {
            "text/plain": [
              "0"
            ]
          },
          "metadata": {
            "tags": []
          },
          "execution_count": 16
        }
      ]
    },
    {
      "cell_type": "code",
      "metadata": {
        "colab": {
          "base_uri": "https://localhost:8080/"
        },
        "id": "Gz7Pz_d-sMy3",
        "outputId": "579a3008-3b9e-4cae-ff4b-6198989029d3"
      },
      "source": [
        "#Slice dataset and store independent and dependent variables\n",
        "X = df_housing_dataset.iloc[:,:-1].values\n",
        "y = df_housing_dataset.iloc[:,9].values\n",
        "print (X,y)"
      ],
      "execution_count": 17,
      "outputs": [
        {
          "output_type": "stream",
          "text": [
            "[[-122.23 37.88 41 ... 126 8.3252 'NEAR BAY']\n",
            " [-122.22 37.86 21 ... 1138 8.3014 'NEAR BAY']\n",
            " [-122.24 37.85 52 ... 177 7.2574 'NEAR BAY']\n",
            " ...\n",
            " [-121.22 39.43 17 ... 433 1.7 'INLAND']\n",
            " [-121.32 39.43 18 ... 349 1.8672 'INLAND']\n",
            " [-121.24 39.37 16 ... 530 2.3886 'INLAND']] [452600 358500 352100 ...  92300  84700  89400]\n"
          ],
          "name": "stdout"
        }
      ]
    },
    {
      "cell_type": "code",
      "metadata": {
        "id": "DE4l6oRCsMy3"
      },
      "source": [
        "#Label Encode ocean proximity column\n",
        "from sklearn.preprocessing import LabelEncoder\n",
        "ocean_proximity_labelencoder = LabelEncoder()\n",
        "X[:,8] =  ocean_proximity_labelencoder.fit_transform(X[:,8])"
      ],
      "execution_count": 18,
      "outputs": []
    },
    {
      "cell_type": "code",
      "metadata": {
        "colab": {
          "base_uri": "https://localhost:8080/"
        },
        "id": "L2-YyAj5sMy3",
        "outputId": "ddda0e1f-954f-4683-a3e0-9f740beccd12"
      },
      "source": [
        "X[:,8]"
      ],
      "execution_count": 19,
      "outputs": [
        {
          "output_type": "execute_result",
          "data": {
            "text/plain": [
              "array([3, 3, 3, ..., 1, 1, 1], dtype=object)"
            ]
          },
          "metadata": {
            "tags": []
          },
          "execution_count": 19
        }
      ]
    },
    {
      "cell_type": "code",
      "metadata": {
        "colab": {
          "base_uri": "https://localhost:8080/"
        },
        "id": "MVL6ND5usMy3",
        "outputId": "e8c6aa36-5106-4adf-8985-4c1c36370aa4"
      },
      "source": [
        "#Correlation between Ocean proximity and Median house value\n",
        "corr1 = np.corrcoef(X[:,8].astype('float64'),y.astype('float64'))\n",
        "print(corr1)"
      ],
      "execution_count": 20,
      "outputs": [
        {
          "output_type": "stream",
          "text": [
            "[[1.         0.08175023]\n",
            " [0.08175023 1.        ]]\n"
          ],
          "name": "stdout"
        }
      ]
    },
    {
      "cell_type": "code",
      "metadata": {
        "colab": {
          "base_uri": "https://localhost:8080/",
          "height": 636
        },
        "id": "ggptDENLsMy4",
        "outputId": "21668a64-d344-4654-f6df-43b91bf8450d"
      },
      "source": [
        "#Seaborn pairplot of median income vs median house value with hue as OCean Proximity\n",
        "#hue=\"ocean_proximity\"\n",
        "sns.pairplot(df_housing_dataset, size=4 , \n",
        "             vars=[\"median_income\",\"median_house_value\"], hue=\"ocean_proximity\")"
      ],
      "execution_count": 21,
      "outputs": [
        {
          "output_type": "stream",
          "text": [
            "/usr/local/lib/python3.7/dist-packages/seaborn/axisgrid.py:1969: UserWarning: The `size` parameter has been renamed to `height`; please update your code.\n",
            "  warnings.warn(msg, UserWarning)\n"
          ],
          "name": "stderr"
        },
        {
          "output_type": "execute_result",
          "data": {
            "text/plain": [
              "<seaborn.axisgrid.PairGrid at 0x7f4d3641c250>"
            ]
          },
          "metadata": {
            "tags": []
          },
          "execution_count": 21
        },
        {
          "output_type": "display_data",
          "data": {
            "image/png": "[encoded data removed]",
            "text/plain": [
              "<Figure size 677.875x576 with 6 Axes>"
            ]
          },
          "metadata": {
            "tags": [],
            "needs_background": "light"
          }
        }
      ]
    },
    {
      "cell_type": "markdown",
      "metadata": {
        "id": "sMvSaAYvsMy4"
      },
      "source": [
        "# Handle missing values"
      ]
    },
    {
      "cell_type": "code",
      "metadata": {
        "colab": {
          "base_uri": "https://localhost:8080/"
        },
        "id": "2UjmJ1LQsMy4",
        "outputId": "6e4e3fba-de59-46a7-b3dd-f3832add7f71"
      },
      "source": [
        "df_housing_dataset.isnull().sum()"
      ],
      "execution_count": 22,
      "outputs": [
        {
          "output_type": "execute_result",
          "data": {
            "text/plain": [
              "longitude               0\n",
              "latitude                0\n",
              "housing_median_age      0\n",
              "total_rooms             0\n",
              "total_bedrooms        207\n",
              "population              0\n",
              "households              0\n",
              "median_income           0\n",
              "ocean_proximity         0\n",
              "median_house_value      0\n",
              "dtype: int64"
            ]
          },
          "metadata": {
            "tags": []
          },
          "execution_count": 22
        }
      ]
    },
    {
      "cell_type": "code",
      "metadata": {
        "id": "9i1qNwdAsMy4"
      },
      "source": [
        "df_X = pd.DataFrame(X)"
      ],
      "execution_count": 23,
      "outputs": []
    },
    {
      "cell_type": "code",
      "metadata": {
        "colab": {
          "base_uri": "https://localhost:8080/"
        },
        "id": "-ZeE8H1ZsMy4",
        "outputId": "a3683c5a-871e-4549-8dae-4e70e703a7a9"
      },
      "source": [
        "df_X.isnull().sum()"
      ],
      "execution_count": 24,
      "outputs": [
        {
          "output_type": "execute_result",
          "data": {
            "text/plain": [
              "0      0\n",
              "1      0\n",
              "2      0\n",
              "3      0\n",
              "4    207\n",
              "5      0\n",
              "6      0\n",
              "7      0\n",
              "8      0\n",
              "dtype: int64"
            ]
          },
          "metadata": {
            "tags": []
          },
          "execution_count": 24
        }
      ]
    },
    {
      "cell_type": "code",
      "metadata": {
        "id": "rc8kFzZjsMy4"
      },
      "source": [
        "#==============================================================================\n",
        "# Handle the missing values, we can see that in dataset there are some missing\n",
        "# values, we will use strategy to impute mean of column values in these places\n",
        "#==============================================================================\n",
        "from sklearn.impute import SimpleImputer\n",
        "missingValueImputer = SimpleImputer(missing_values=np.nan, strategy='mean')\n",
        "\n",
        "#from sklearn.preprocessing import Imputer\n",
        "# First create an Imputer\n",
        "#missingValueImputer = Imputer (missing_values = 'NaN', strategy = 'mean', axis = 0)\n",
        "# Set which columns imputer should perform\n",
        "missingValueImputer = missingValueImputer.fit (X[:,4:5])\n",
        "# update values of X with new values\n",
        "X[:,4:5] = missingValueImputer.transform(X[:,4:5])"
      ],
      "execution_count": 31,
      "outputs": []
    },
    {
      "cell_type": "code",
      "metadata": {
        "colab": {
          "base_uri": "https://localhost:8080/"
        },
        "id": "DUQHsVDlsMy5",
        "outputId": "003a1634-4d52-4b78-b6a1-f3860a7f3324"
      },
      "source": [
        "#Notice missing values in total bedrooms column have been imputed with mean of total bedrooms\n",
        "df_X = pd.DataFrame(X)\n",
        "df_X.isnull().sum()"
      ],
      "execution_count": 32,
      "outputs": [
        {
          "output_type": "execute_result",
          "data": {
            "text/plain": [
              "0    0\n",
              "1    0\n",
              "2    0\n",
              "3    0\n",
              "4    0\n",
              "5    0\n",
              "6    0\n",
              "7    0\n",
              "8    0\n",
              "dtype: int64"
            ]
          },
          "metadata": {
            "tags": []
          },
          "execution_count": 32
        }
      ]
    },
    {
      "cell_type": "markdown",
      "metadata": {
        "id": "zNxUIrXWsMy5"
      },
      "source": [
        "# Principal Component Analysis"
      ]
    },
    {
      "cell_type": "code",
      "metadata": {
        "colab": {
          "base_uri": "https://localhost:8080/"
        },
        "id": "cIfPfIh-sMy5",
        "outputId": "102b4375-271f-460b-8c01-1e3edfc05001"
      },
      "source": [
        "X.shape"
      ],
      "execution_count": 33,
      "outputs": [
        {
          "output_type": "execute_result",
          "data": {
            "text/plain": [
              "(20640, 9)"
            ]
          },
          "metadata": {
            "tags": []
          },
          "execution_count": 33
        }
      ]
    },
    {
      "cell_type": "code",
      "metadata": {
        "colab": {
          "base_uri": "https://localhost:8080/"
        },
        "id": "FKraK5IQsMy5",
        "outputId": "9d1ceffe-0a54-480e-a345-26ca106bb5c3"
      },
      "source": [
        "#Feature Scaling\n",
        "from sklearn.preprocessing import StandardScaler\n",
        "stdsclr = StandardScaler()\n",
        "X_std = stdsclr.fit_transform(X)\n",
        "print('Array:', X_std)\n",
        "print('Datatype:', X_std.dtype)"
      ],
      "execution_count": 34,
      "outputs": [
        {
          "output_type": "stream",
          "text": [
            "Array: [[-1.32783522  1.05254828  0.98214266 ... -0.97703285  2.34476576\n",
            "   1.2910888 ]\n",
            " [-1.32284391  1.04318455 -0.60701891 ...  1.66996103  2.33223796\n",
            "   1.2910888 ]\n",
            " [-1.33282653  1.03850269  1.85618152 ... -0.84363692  1.7826994\n",
            "   1.2910888 ]\n",
            " ...\n",
            " [-0.8237132   1.77823747 -0.92485123 ... -0.17404163 -1.14259331\n",
            "  -0.11673923]\n",
            " [-0.87362627  1.77823747 -0.84539315 ... -0.39375258 -1.05458292\n",
            "  -0.11673923]\n",
            " [-0.83369581  1.75014627 -1.00430931 ...  0.07967221 -0.78012947\n",
            "  -0.11673923]]\n",
            "Datatype: float64\n"
          ],
          "name": "stdout"
        }
      ]
    },
    {
      "cell_type": "code",
      "metadata": {
        "id": "5DsPP1H1sMy5"
      },
      "source": [
        "#PCA\n",
        "#from sklearn.decomposition import PCA\n",
        "from sklearn.decomposition import PCA\n",
        "PCA = PCA(n_components = 6)\n",
        "\n",
        "principal_components = PCA.fit_transform(np.nan_to_num(X_std.astype(np.float32)))"
      ],
      "execution_count": 35,
      "outputs": []
    },
    {
      "cell_type": "code",
      "metadata": {
        "colab": {
          "base_uri": "https://localhost:8080/"
        },
        "id": "_eGa0SrUsMy6",
        "outputId": "69ce1912-14f6-42c5-b932-c719c811f9a5"
      },
      "source": [
        "principal_components"
      ],
      "execution_count": 36,
      "outputs": [
        {
          "output_type": "execute_result",
          "data": {
            "text/plain": [
              "array([[-2.157205  ,  1.7022551 ,  1.8547902 ,  1.70382   ,  0.70465815,\n",
              "         0.14044653],\n",
              "       [ 2.8726313 ,  2.3047156 ,  1.9782218 ,  1.4563941 ,  0.22587822,\n",
              "        -0.38226983],\n",
              "       [-2.0351934 ,  1.7918687 ,  0.9710006 ,  1.8944466 ,  1.262508  ,\n",
              "         0.04699718],\n",
              "       ...,\n",
              "       [-0.45516002,  1.6384034 , -0.31194416, -1.5194823 , -0.8195122 ,\n",
              "        -0.24827652],\n",
              "       [-0.8670745 ,  1.6194118 , -0.20800507, -1.4886584 , -0.7902067 ,\n",
              "        -0.2842094 ],\n",
              "       [ 0.13316679,  1.6848016 , -0.05225432, -1.3684319 , -0.6874925 ,\n",
              "        -0.1704582 ]], dtype=float32)"
            ]
          },
          "metadata": {
            "tags": []
          },
          "execution_count": 36
        }
      ]
    },
    {
      "cell_type": "code",
      "metadata": {
        "colab": {
          "base_uri": "https://localhost:8080/"
        },
        "id": "1jPvkbdpsMy6",
        "outputId": "962544b7-520b-4062-f9ac-15a805d69723"
      },
      "source": [
        "#Cal the cumulative proportion of var explained by each component\n",
        "PCA.explained_variance_ratio_"
      ],
      "execution_count": 37,
      "outputs": [
        {
          "output_type": "execute_result",
          "data": {
            "text/plain": [
              "array([0.43398127, 0.22466934, 0.11957179, 0.10398562, 0.08531697,\n",
              "       0.01648695], dtype=float32)"
            ]
          },
          "metadata": {
            "tags": []
          },
          "execution_count": 37
        }
      ]
    },
    {
      "cell_type": "code",
      "metadata": {
        "colab": {
          "base_uri": "https://localhost:8080/"
        },
        "id": "jZOd8ObhsMy6",
        "outputId": "8744e7dc-a23e-4e5a-b4f8-636f3e57a6a6"
      },
      "source": [
        "df_X = pd.DataFrame(X)\n",
        "print(df_X.columns)"
      ],
      "execution_count": 38,
      "outputs": [
        {
          "output_type": "stream",
          "text": [
            "RangeIndex(start=0, stop=9, step=1)\n"
          ],
          "name": "stdout"
        }
      ]
    },
    {
      "cell_type": "code",
      "metadata": {
        "colab": {
          "base_uri": "https://localhost:8080/",
          "height": 204
        },
        "id": "IWU2QH_4sMy6",
        "outputId": "8b9a3d22-7363-4507-a83d-690798afdf43"
      },
      "source": [
        "df_housing_dataset.head()"
      ],
      "execution_count": 39,
      "outputs": [
        {
          "output_type": "execute_result",
          "data": {
            "text/html": [
              "<div>\n",
              "<style scoped>\n",
              "    .dataframe tbody tr th:only-of-type {\n",
              "        vertical-align: middle;\n",
              "    }\n",
              "\n",
              "    .dataframe tbody tr th {\n",
              "        vertical-align: top;\n",
              "    }\n",
              "\n",
              "    .dataframe thead th {\n",
              "        text-align: right;\n",
              "    }\n",
              "</style>\n",
              "<table border=\"1\" class=\"dataframe\">\n",
              "  <thead>\n",
              "    <tr style=\"text-align: right;\">\n",
              "      <th></th>\n",
              "      <th>longitude</th>\n",
              "      <th>latitude</th>\n",
              "      <th>housing_median_age</th>\n",
              "      <th>total_rooms</th>\n",
              "      <th>total_bedrooms</th>\n",
              "      <th>population</th>\n",
              "      <th>households</th>\n",
              "      <th>median_income</th>\n",
              "      <th>ocean_proximity</th>\n",
              "      <th>median_house_value</th>\n",
              "    </tr>\n",
              "  </thead>\n",
              "  <tbody>\n",
              "    <tr>\n",
              "      <th>0</th>\n",
              "      <td>-122.23</td>\n",
              "      <td>37.88</td>\n",
              "      <td>41</td>\n",
              "      <td>880</td>\n",
              "      <td>129.0</td>\n",
              "      <td>322</td>\n",
              "      <td>126</td>\n",
              "      <td>8.3252</td>\n",
              "      <td>NEAR BAY</td>\n",
              "      <td>452600</td>\n",
              "    </tr>\n",
              "    <tr>\n",
              "      <th>1</th>\n",
              "      <td>-122.22</td>\n",
              "      <td>37.86</td>\n",
              "      <td>21</td>\n",
              "      <td>7099</td>\n",
              "      <td>1106.0</td>\n",
              "      <td>2401</td>\n",
              "      <td>1138</td>\n",
              "      <td>8.3014</td>\n",
              "      <td>NEAR BAY</td>\n",
              "      <td>358500</td>\n",
              "    </tr>\n",
              "    <tr>\n",
              "      <th>2</th>\n",
              "      <td>-122.24</td>\n",
              "      <td>37.85</td>\n",
              "      <td>52</td>\n",
              "      <td>1467</td>\n",
              "      <td>190.0</td>\n",
              "      <td>496</td>\n",
              "      <td>177</td>\n",
              "      <td>7.2574</td>\n",
              "      <td>NEAR BAY</td>\n",
              "      <td>352100</td>\n",
              "    </tr>\n",
              "    <tr>\n",
              "      <th>3</th>\n",
              "      <td>-122.25</td>\n",
              "      <td>37.85</td>\n",
              "      <td>52</td>\n",
              "      <td>1274</td>\n",
              "      <td>235.0</td>\n",
              "      <td>558</td>\n",
              "      <td>219</td>\n",
              "      <td>5.6431</td>\n",
              "      <td>NEAR BAY</td>\n",
              "      <td>341300</td>\n",
              "    </tr>\n",
              "    <tr>\n",
              "      <th>4</th>\n",
              "      <td>-122.25</td>\n",
              "      <td>37.85</td>\n",
              "      <td>52</td>\n",
              "      <td>1627</td>\n",
              "      <td>280.0</td>\n",
              "      <td>565</td>\n",
              "      <td>259</td>\n",
              "      <td>3.8462</td>\n",
              "      <td>NEAR BAY</td>\n",
              "      <td>342200</td>\n",
              "    </tr>\n",
              "  </tbody>\n",
              "</table>\n",
              "</div>"
            ],
            "text/plain": [
              "   longitude  latitude  ...  ocean_proximity  median_house_value\n",
              "0    -122.23     37.88  ...         NEAR BAY              452600\n",
              "1    -122.22     37.86  ...         NEAR BAY              358500\n",
              "2    -122.24     37.85  ...         NEAR BAY              352100\n",
              "3    -122.25     37.85  ...         NEAR BAY              341300\n",
              "4    -122.25     37.85  ...         NEAR BAY              342200\n",
              "\n",
              "[5 rows x 10 columns]"
            ]
          },
          "metadata": {
            "tags": []
          },
          "execution_count": 39
        }
      ]
    },
    {
      "cell_type": "code",
      "metadata": {
        "colab": {
          "base_uri": "https://localhost:8080/"
        },
        "id": "RGPsxTnPsMy6",
        "outputId": "0582a8a0-7b5d-4e24-f758-abd31b00c01d"
      },
      "source": [
        "# Dump components relations with features: This gives us the picture of how features are related to components\n",
        "print(pd.DataFrame(PCA.components_,columns=df_X.columns,index = ['PC-1','PC-2','PC-3','PC-4','PC-5','PC-6']))"
      ],
      "execution_count": 40,
      "outputs": [
        {
          "output_type": "stream",
          "text": [
            "             0         1         2  ...         6         7         8\n",
            "PC-1  0.081447 -0.077766 -0.219732  ...  0.490642  0.045539 -0.041798\n",
            "PC-2 -0.670071  0.655264  0.033190  ...  0.074866 -0.032873  0.317125\n",
            "PC-3 -0.089343  0.065995 -0.428609  ... -0.113064  0.856745 -0.148637\n",
            "PC-4  0.110276 -0.277884  0.419474  ...  0.041822  0.377070  0.763564\n",
            "PC-5 -0.140913  0.061118  0.762079  ...  0.078822  0.290294 -0.535140\n",
            "PC-6 -0.113469 -0.073867 -0.042409  ... -0.123977  0.052332  0.039624\n",
            "\n",
            "[6 rows x 9 columns]\n"
          ],
          "name": "stdout"
        }
      ]
    },
    {
      "cell_type": "code",
      "metadata": {
        "colab": {
          "base_uri": "https://localhost:8080/"
        },
        "id": "IrNZVq8lsMy7",
        "outputId": "67154630-f052-4b96-e4ad-93ec9878b7af"
      },
      "source": [
        "principal_components.shape"
      ],
      "execution_count": 41,
      "outputs": [
        {
          "output_type": "execute_result",
          "data": {
            "text/plain": [
              "(20640, 6)"
            ]
          },
          "metadata": {
            "tags": []
          },
          "execution_count": 41
        }
      ]
    },
    {
      "cell_type": "markdown",
      "metadata": {
        "id": "9OO987xPsMy7"
      },
      "source": [
        "# Machine Learning Model Selection and Training"
      ]
    },
    {
      "cell_type": "code",
      "metadata": {
        "colab": {
          "base_uri": "https://localhost:8080/"
        },
        "id": "etWIpx6KsMy7",
        "outputId": "3cdd290a-587e-4853-9798-7f5bbfd3f956"
      },
      "source": [
        "#Let's check our target label\n",
        "y"
      ],
      "execution_count": 42,
      "outputs": [
        {
          "output_type": "execute_result",
          "data": {
            "text/plain": [
              "array([452600, 358500, 352100, ...,  92300,  84700,  89400])"
            ]
          },
          "metadata": {
            "tags": []
          },
          "execution_count": 42
        }
      ]
    },
    {
      "cell_type": "code",
      "metadata": {
        "id": "GSJ6PrDzsMy7"
      },
      "source": [
        "#Split Dataset for model training and testing [80/20 split]\n",
        "#from sklearn.cross_validation import train_test_split\n",
        "from sklearn.model_selection import train_test_split\n",
        "X_train,X_test,y_train,y_test = train_test_split(principal_components,y, test_size=0.1,random_state=1)"
      ],
      "execution_count": 43,
      "outputs": []
    },
    {
      "cell_type": "code",
      "metadata": {
        "colab": {
          "base_uri": "https://localhost:8080/"
        },
        "id": "cl-gqJlUsMy7",
        "outputId": "31a574a0-f851-4784-bdd2-3b7f723cd2cf"
      },
      "source": [
        "X_train.shape"
      ],
      "execution_count": 44,
      "outputs": [
        {
          "output_type": "execute_result",
          "data": {
            "text/plain": [
              "(18576, 6)"
            ]
          },
          "metadata": {
            "tags": []
          },
          "execution_count": 44
        }
      ]
    },
    {
      "cell_type": "markdown",
      "metadata": {
        "id": "JlDXxn1JsMy7"
      },
      "source": [
        "# Linear Regression ML Model"
      ]
    },
    {
      "cell_type": "code",
      "metadata": {
        "colab": {
          "base_uri": "https://localhost:8080/"
        },
        "id": "7D4EONfesMy7",
        "outputId": "4eda5f20-0e23-4e7f-e25f-2d5283d6c52e"
      },
      "source": [
        "#Linear Regression Model\n",
        "from sklearn.linear_model import LinearRegression\n",
        "linReg = LinearRegression()\n",
        "linReg.fit(X_train,y_train)"
      ],
      "execution_count": 45,
      "outputs": [
        {
          "output_type": "execute_result",
          "data": {
            "text/plain": [
              "LinearRegression(copy_X=True, fit_intercept=True, n_jobs=None, normalize=False)"
            ]
          },
          "metadata": {
            "tags": []
          },
          "execution_count": 45
        }
      ]
    },
    {
      "cell_type": "code",
      "metadata": {
        "colab": {
          "base_uri": "https://localhost:8080/"
        },
        "id": "taxoBGDEsMy8",
        "outputId": "f56877b3-27f6-446c-d385-a4cc06f9d496"
      },
      "source": [
        "linReg.predict(X_test)"
      ],
      "execution_count": 46,
      "outputs": [
        {
          "output_type": "execute_result",
          "data": {
            "text/plain": [
              "array([216366.45, 141489.31, 236970.62, ..., 407407.16, 208935.92,\n",
              "       199176.1 ], dtype=float32)"
            ]
          },
          "metadata": {
            "tags": []
          },
          "execution_count": 46
        }
      ]
    },
    {
      "cell_type": "code",
      "metadata": {
        "colab": {
          "base_uri": "https://localhost:8080/"
        },
        "id": "9e_ytWzmsMy8",
        "outputId": "a5b3783a-9ce2-465a-9d73-e940025668de"
      },
      "source": [
        "#Quick check accuracy of the model\n",
        "score = linReg.score(X_train,y_train)\n",
        "print(score)"
      ],
      "execution_count": 47,
      "outputs": [
        {
          "output_type": "stream",
          "text": [
            "0.541548743039721\n"
          ],
          "name": "stdout"
        }
      ]
    },
    {
      "cell_type": "code",
      "metadata": {
        "colab": {
          "base_uri": "https://localhost:8080/"
        },
        "id": "eP3qDBBtsMy8",
        "outputId": "e81a3b64-95ce-48af-e011-faa3b3f27467"
      },
      "source": [
        "#Quick check accuracy of the model\n",
        "score = linReg.score(X_test,y_test)\n",
        "print(score)"
      ],
      "execution_count": 48,
      "outputs": [
        {
          "output_type": "stream",
          "text": [
            "0.5350363359741281\n"
          ],
          "name": "stdout"
        }
      ]
    },
    {
      "cell_type": "code",
      "metadata": {
        "id": "JMy12YpPsMy8"
      },
      "source": [
        "linreg_predictions = linReg.predict(X_test)"
      ],
      "execution_count": 49,
      "outputs": []
    },
    {
      "cell_type": "code",
      "metadata": {
        "colab": {
          "base_uri": "https://localhost:8080/"
        },
        "id": "FrRmOhQZsMy8",
        "outputId": "d58d9973-fe01-4918-df92-e4b690c99677"
      },
      "source": [
        "from sklearn.metrics import mean_squared_error\n",
        "np.sqrt(mean_squared_error(y_test,linreg_predictions))\n",
        "#RMSE below"
      ],
      "execution_count": null,
      "outputs": [
        {
          "output_type": "execute_result",
          "data": {
            "text/plain": [
              "79078.20503809868"
            ]
          },
          "metadata": {
            "tags": []
          },
          "execution_count": 83
        }
      ]
    },
    {
      "cell_type": "markdown",
      "metadata": {
        "id": "qz3jzvW1sMy8"
      },
      "source": [
        "# Decision Tree ML model"
      ]
    },
    {
      "cell_type": "code",
      "metadata": {
        "colab": {
          "base_uri": "https://localhost:8080/"
        },
        "id": "6DZVa5zKsMy9",
        "outputId": "8c332c63-9eff-4402-a8cf-c1b87a2918a5"
      },
      "source": [
        "#Train with DT model\n",
        "from sklearn.tree import DecisionTreeRegressor\n",
        "DTRegressor = DecisionTreeRegressor(max_depth=9, min_samples_split=5)\n",
        "DTRegressor.fit(X_train,y_train)"
      ],
      "execution_count": 50,
      "outputs": [
        {
          "output_type": "execute_result",
          "data": {
            "text/plain": [
              "DecisionTreeRegressor(ccp_alpha=0.0, criterion='mse', max_depth=9,\n",
              "                      max_features=None, max_leaf_nodes=None,\n",
              "                      min_impurity_decrease=0.0, min_impurity_split=None,\n",
              "                      min_samples_leaf=1, min_samples_split=5,\n",
              "                      min_weight_fraction_leaf=0.0, presort='deprecated',\n",
              "                      random_state=None, splitter='best')"
            ]
          },
          "metadata": {
            "tags": []
          },
          "execution_count": 50
        }
      ]
    },
    {
      "cell_type": "code",
      "metadata": {
        "colab": {
          "base_uri": "https://localhost:8080/"
        },
        "id": "2uXOuXLDsMy9",
        "outputId": "36cdb560-563b-4c96-d5ac-5d744cf20738"
      },
      "source": [
        "#Quick check accuracy of the model\n",
        "score = DTRegressor.score(X_train,y_train)\n",
        "print(score)"
      ],
      "execution_count": 51,
      "outputs": [
        {
          "output_type": "stream",
          "text": [
            "0.7538788920368392\n"
          ],
          "name": "stdout"
        }
      ]
    },
    {
      "cell_type": "code",
      "metadata": {
        "colab": {
          "base_uri": "https://localhost:8080/"
        },
        "id": "iWwxCP1rsMy9",
        "outputId": "abb5823a-9ed1-4f39-9387-6baf62935f24"
      },
      "source": [
        "#Quick check accuracy of the model\n",
        "score = DTRegressor.score(X_test,y_test)\n",
        "print(score)"
      ],
      "execution_count": 52,
      "outputs": [
        {
          "output_type": "stream",
          "text": [
            "0.6315890711693903\n"
          ],
          "name": "stdout"
        }
      ]
    },
    {
      "cell_type": "code",
      "metadata": {
        "id": "_Pb-OHp2sMy9"
      },
      "source": [
        "DTR_predictions = DTRegressor.predict(X_test)"
      ],
      "execution_count": 53,
      "outputs": []
    },
    {
      "cell_type": "code",
      "metadata": {
        "colab": {
          "base_uri": "https://localhost:8080/"
        },
        "id": "c5efI2c7sMy9",
        "outputId": "6e87b33c-93a0-483b-ab00-c9d0105e5023"
      },
      "source": [
        "from sklearn.metrics import mean_squared_error\n",
        "np.sqrt(mean_squared_error(y_test,DTR_predictions))\n",
        "#RMSE below"
      ],
      "execution_count": 54,
      "outputs": [
        {
          "output_type": "execute_result",
          "data": {
            "text/plain": [
              "70385.73266534702"
            ]
          },
          "metadata": {
            "tags": []
          },
          "execution_count": 54
        }
      ]
    },
    {
      "cell_type": "markdown",
      "metadata": {
        "id": "VUYm4y_0sMy9"
      },
      "source": [
        "# Random Forest ML Model - Model prediction accuracy is good compared to LR and DT models"
      ]
    },
    {
      "cell_type": "code",
      "metadata": {
        "id": "2nAV1H3UsMy-"
      },
      "source": [
        "#Declare hyper parameters to tune RF model\n",
        "hyperparameters = { 'randomforestregressor__max_features' : ['auto', 'sqrt', 'log2'],\n",
        "                  'randomforestregressor__max_depth': [None, 5, 3, 1],\n",
        "                  'randomforestregressor__min_samples_split': [2, 5],\n",
        "                  'randomforestregressor__min_samples_leaf': [10, 5]}"
      ],
      "execution_count": 55,
      "outputs": []
    },
    {
      "cell_type": "code",
      "metadata": {
        "id": "K4Ms1TX-sMy-"
      },
      "source": [
        "#Make a Random forest pipeline\n",
        "from sklearn.ensemble import RandomForestRegressor\n",
        "from sklearn.pipeline import make_pipeline\n",
        "pipeline = make_pipeline(RandomForestRegressor(n_estimators=50))"
      ],
      "execution_count": 56,
      "outputs": []
    },
    {
      "cell_type": "code",
      "metadata": {
        "id": "_dAjabn6sMy-"
      },
      "source": [
        "#Cross Validation to find best parameters\n",
        "from sklearn.model_selection import RandomizedSearchCV, GridSearchCV, train_test_split\n",
        "clf = GridSearchCV(pipeline, hyperparameters, cv=10)\n"
      ],
      "execution_count": 57,
      "outputs": []
    },
    {
      "cell_type": "code",
      "metadata": {
        "colab": {
          "base_uri": "https://localhost:8080/"
        },
        "id": "CQImlZkKBRC0",
        "outputId": "8ddd0b04-d96c-4081-b3c3-622789f2eaeb"
      },
      "source": [
        "# Fit and tune model\n",
        "clf.fit(X_train, y_train)"
      ],
      "execution_count": 58,
      "outputs": [
        {
          "output_type": "execute_result",
          "data": {
            "text/plain": [
              "GridSearchCV(cv=10, error_score=nan,\n",
              "             estimator=Pipeline(memory=None,\n",
              "                                steps=[('randomforestregressor',\n",
              "                                        RandomForestRegressor(bootstrap=True,\n",
              "                                                              ccp_alpha=0.0,\n",
              "                                                              criterion='mse',\n",
              "                                                              max_depth=None,\n",
              "                                                              max_features='auto',\n",
              "                                                              max_leaf_nodes=None,\n",
              "                                                              max_samples=None,\n",
              "                                                              min_impurity_decrease=0.0,\n",
              "                                                              min_impurity_split=None,\n",
              "                                                              min_samples_leaf=1,\n",
              "                                                              min_samples_split=2,\n",
              "                                                              min_weight_fraction_leaf...\n",
              "                                                              warm_start=False))],\n",
              "                                verbose=False),\n",
              "             iid='deprecated', n_jobs=None,\n",
              "             param_grid={'randomforestregressor__max_depth': [None, 5, 3, 1],\n",
              "                         'randomforestregressor__max_features': ['auto', 'sqrt',\n",
              "                                                                 'log2'],\n",
              "                         'randomforestregressor__min_samples_leaf': [10, 5],\n",
              "                         'randomforestregressor__min_samples_split': [2, 5]},\n",
              "             pre_dispatch='2*n_jobs', refit=True, return_train_score=False,\n",
              "             scoring=None, verbose=0)"
            ]
          },
          "metadata": {
            "tags": []
          },
          "execution_count": 58
        }
      ]
    },
    {
      "cell_type": "code",
      "metadata": {
        "colab": {
          "base_uri": "https://localhost:8080/"
        },
        "id": "nupDgrJIsMy-",
        "outputId": "9886db6b-ebd2-49c4-9d04-0a420157dcf7"
      },
      "source": [
        "clf.best_params_"
      ],
      "execution_count": 60,
      "outputs": [
        {
          "output_type": "execute_result",
          "data": {
            "text/plain": [
              "{'randomforestregressor__max_depth': None,\n",
              " 'randomforestregressor__max_features': 'auto',\n",
              " 'randomforestregressor__min_samples_leaf': 5,\n",
              " 'randomforestregressor__min_samples_split': 5}"
            ]
          },
          "metadata": {
            "tags": []
          },
          "execution_count": 60
        }
      ]
    },
    {
      "cell_type": "code",
      "metadata": {
        "id": "yRA7ZGFksMy-",
        "colab": {
          "base_uri": "https://localhost:8080/"
        },
        "outputId": "51104e29-b4a0-4536-80e0-839562d38673"
      },
      "source": [
        "clf.best_score_"
      ],
      "execution_count": 61,
      "outputs": [
        {
          "output_type": "execute_result",
          "data": {
            "text/plain": [
              "0.7434205863022637"
            ]
          },
          "metadata": {
            "tags": []
          },
          "execution_count": 61
        }
      ]
    },
    {
      "cell_type": "code",
      "metadata": {
        "id": "TTeGZppVsMy-",
        "colab": {
          "base_uri": "https://localhost:8080/"
        },
        "outputId": "1bc76d8f-31af-42ee-984a-d2e1f59aa3da"
      },
      "source": [
        "clf.best_estimator_"
      ],
      "execution_count": 62,
      "outputs": [
        {
          "output_type": "execute_result",
          "data": {
            "text/plain": [
              "Pipeline(memory=None,\n",
              "         steps=[('randomforestregressor',\n",
              "                 RandomForestRegressor(bootstrap=True, ccp_alpha=0.0,\n",
              "                                       criterion='mse', max_depth=None,\n",
              "                                       max_features='auto', max_leaf_nodes=None,\n",
              "                                       max_samples=None,\n",
              "                                       min_impurity_decrease=0.0,\n",
              "                                       min_impurity_split=None,\n",
              "                                       min_samples_leaf=5, min_samples_split=5,\n",
              "                                       min_weight_fraction_leaf=0.0,\n",
              "                                       n_estimators=50, n_jobs=None,\n",
              "                                       oob_score=False, random_state=None,\n",
              "                                       verbose=0, warm_start=False))],\n",
              "         verbose=False)"
            ]
          },
          "metadata": {
            "tags": []
          },
          "execution_count": 62
        }
      ]
    },
    {
      "cell_type": "code",
      "metadata": {
        "id": "KpDJPLWisMy_",
        "colab": {
          "base_uri": "https://localhost:8080/"
        },
        "outputId": "bb6ff0cb-c658-4ad5-c7f6-95afa57bd24f"
      },
      "source": [
        "#Quick check accuracy of the model after CV\n",
        "score = clf.score(X_train,y_train)\n",
        "print(score)"
      ],
      "execution_count": 63,
      "outputs": [
        {
          "output_type": "stream",
          "text": [
            "0.8785676217581673\n"
          ],
          "name": "stdout"
        }
      ]
    },
    {
      "cell_type": "code",
      "metadata": {
        "id": "P4jXYG0CsMy_",
        "colab": {
          "base_uri": "https://localhost:8080/"
        },
        "outputId": "89392f53-ed8a-4f81-d61c-d27108937224"
      },
      "source": [
        "#Quick check accuracy of the model\n",
        "score = clf.score(X_test,y_test)\n",
        "print(score)"
      ],
      "execution_count": 64,
      "outputs": [
        {
          "output_type": "stream",
          "text": [
            "0.7391845179814752\n"
          ],
          "name": "stdout"
        }
      ]
    },
    {
      "cell_type": "code",
      "metadata": {
        "id": "DlAATfyLsMy_",
        "colab": {
          "base_uri": "https://localhost:8080/"
        },
        "outputId": "2b191a20-7487-4208-f15a-7f3576955b1e"
      },
      "source": [
        "X_test"
      ],
      "execution_count": 65,
      "outputs": [
        {
          "output_type": "execute_result",
          "data": {
            "text/plain": [
              "array([[ 0.16535653, -1.0640981 , -0.649095  , -0.10464208,  0.8615815 ,\n",
              "        -0.5227487 ],\n",
              "       [-0.6298124 ,  0.38872236, -1.0229844 , -0.3774178 ,  0.2636407 ,\n",
              "        -0.16050445],\n",
              "       [-0.94940645,  1.9811714 , -0.50598264,  1.1130514 ,  0.58667994,\n",
              "         0.4323708 ],\n",
              "       ...,\n",
              "       [ 9.943532  , -0.33379817, -0.03628929,  0.5420256 , -0.30348524,\n",
              "        -4.7720094 ],\n",
              "       [-1.8716722 , -1.5379366 , -0.01383329, -0.23525523,  0.41688454,\n",
              "        -0.09706558],\n",
              "       [-1.538447  ,  1.2624468 ,  0.47594973, -0.6197618 ,  0.1091387 ,\n",
              "        -0.04103313]], dtype=float32)"
            ]
          },
          "metadata": {
            "tags": []
          },
          "execution_count": 65
        }
      ]
    },
    {
      "cell_type": "code",
      "metadata": {
        "id": "ROTCYoxTsMy_"
      },
      "source": [
        "RF_predictions = clf.predict(X_test)"
      ],
      "execution_count": 66,
      "outputs": []
    },
    {
      "cell_type": "code",
      "metadata": {
        "id": "kYczBi9_sMy_",
        "colab": {
          "base_uri": "https://localhost:8080/"
        },
        "outputId": "dcbe7943-4a94-4709-8a52-9a32a6daa79e"
      },
      "source": [
        "from sklearn.metrics import mean_squared_error\n",
        "np.sqrt(mean_squared_error(y_test,RF_predictions))\n",
        "#RMSE below for the 10% test set [unseen data]"
      ],
      "execution_count": 67,
      "outputs": [
        {
          "output_type": "execute_result",
          "data": {
            "text/plain": [
              "59222.27231944419"
            ]
          },
          "metadata": {
            "tags": []
          },
          "execution_count": 67
        }
      ]
    },
    {
      "cell_type": "markdown",
      "metadata": {
        "id": "5ZQfadLlsMzA"
      },
      "source": [
        "# ML Model Training with only Median income feature to predict housing value"
      ]
    },
    {
      "cell_type": "code",
      "metadata": {
        "id": "nz7d7jOTsMzA",
        "colab": {
          "base_uri": "https://localhost:8080/"
        },
        "outputId": "29302878-013c-4aa7-9b2d-7895324b6140"
      },
      "source": [
        "#Let's train the model only with median income and check how model behaves\n",
        "X"
      ],
      "execution_count": 68,
      "outputs": [
        {
          "output_type": "execute_result",
          "data": {
            "text/plain": [
              "array([[-122.23, 37.88, 41, ..., 126, 8.3252, 3],\n",
              "       [-122.22, 37.86, 21, ..., 1138, 8.3014, 3],\n",
              "       [-122.24, 37.85, 52, ..., 177, 7.2574, 3],\n",
              "       ...,\n",
              "       [-121.22, 39.43, 17, ..., 433, 1.7, 1],\n",
              "       [-121.32, 39.43, 18, ..., 349, 1.8672, 1],\n",
              "       [-121.24, 39.37, 16, ..., 530, 2.3886, 1]], dtype=object)"
            ]
          },
          "metadata": {
            "tags": []
          },
          "execution_count": 68
        }
      ]
    },
    {
      "cell_type": "code",
      "metadata": {
        "id": "lAapSM9IsMzA",
        "colab": {
          "base_uri": "https://localhost:8080/",
          "height": 204
        },
        "outputId": "052b9c94-88cd-498e-94fc-140aff99a42a"
      },
      "source": [
        "df_X_final = pd.DataFrame(X)\n",
        "df_X_final.head()"
      ],
      "execution_count": 69,
      "outputs": [
        {
          "output_type": "execute_result",
          "data": {
            "text/html": [
              "<div>\n",
              "<style scoped>\n",
              "    .dataframe tbody tr th:only-of-type {\n",
              "        vertical-align: middle;\n",
              "    }\n",
              "\n",
              "    .dataframe tbody tr th {\n",
              "        vertical-align: top;\n",
              "    }\n",
              "\n",
              "    .dataframe thead th {\n",
              "        text-align: right;\n",
              "    }\n",
              "</style>\n",
              "<table border=\"1\" class=\"dataframe\">\n",
              "  <thead>\n",
              "    <tr style=\"text-align: right;\">\n",
              "      <th></th>\n",
              "      <th>0</th>\n",
              "      <th>1</th>\n",
              "      <th>2</th>\n",
              "      <th>3</th>\n",
              "      <th>4</th>\n",
              "      <th>5</th>\n",
              "      <th>6</th>\n",
              "      <th>7</th>\n",
              "      <th>8</th>\n",
              "    </tr>\n",
              "  </thead>\n",
              "  <tbody>\n",
              "    <tr>\n",
              "      <th>0</th>\n",
              "      <td>-122.23</td>\n",
              "      <td>37.88</td>\n",
              "      <td>41</td>\n",
              "      <td>880</td>\n",
              "      <td>129</td>\n",
              "      <td>322</td>\n",
              "      <td>126</td>\n",
              "      <td>8.3252</td>\n",
              "      <td>3</td>\n",
              "    </tr>\n",
              "    <tr>\n",
              "      <th>1</th>\n",
              "      <td>-122.22</td>\n",
              "      <td>37.86</td>\n",
              "      <td>21</td>\n",
              "      <td>7099</td>\n",
              "      <td>1106</td>\n",
              "      <td>2401</td>\n",
              "      <td>1138</td>\n",
              "      <td>8.3014</td>\n",
              "      <td>3</td>\n",
              "    </tr>\n",
              "    <tr>\n",
              "      <th>2</th>\n",
              "      <td>-122.24</td>\n",
              "      <td>37.85</td>\n",
              "      <td>52</td>\n",
              "      <td>1467</td>\n",
              "      <td>190</td>\n",
              "      <td>496</td>\n",
              "      <td>177</td>\n",
              "      <td>7.2574</td>\n",
              "      <td>3</td>\n",
              "    </tr>\n",
              "    <tr>\n",
              "      <th>3</th>\n",
              "      <td>-122.25</td>\n",
              "      <td>37.85</td>\n",
              "      <td>52</td>\n",
              "      <td>1274</td>\n",
              "      <td>235</td>\n",
              "      <td>558</td>\n",
              "      <td>219</td>\n",
              "      <td>5.6431</td>\n",
              "      <td>3</td>\n",
              "    </tr>\n",
              "    <tr>\n",
              "      <th>4</th>\n",
              "      <td>-122.25</td>\n",
              "      <td>37.85</td>\n",
              "      <td>52</td>\n",
              "      <td>1627</td>\n",
              "      <td>280</td>\n",
              "      <td>565</td>\n",
              "      <td>259</td>\n",
              "      <td>3.8462</td>\n",
              "      <td>3</td>\n",
              "    </tr>\n",
              "  </tbody>\n",
              "</table>\n",
              "</div>"
            ],
            "text/plain": [
              "        0      1   2     3     4     5     6       7  8\n",
              "0 -122.23  37.88  41   880   129   322   126  8.3252  3\n",
              "1 -122.22  37.86  21  7099  1106  2401  1138  8.3014  3\n",
              "2 -122.24  37.85  52  1467   190   496   177  7.2574  3\n",
              "3 -122.25  37.85  52  1274   235   558   219  5.6431  3\n",
              "4 -122.25  37.85  52  1627   280   565   259  3.8462  3"
            ]
          },
          "metadata": {
            "tags": []
          },
          "execution_count": 69
        }
      ]
    },
    {
      "cell_type": "code",
      "metadata": {
        "id": "nPMS4OnGsMzA"
      },
      "source": [
        "X = np.delete(X,[0,1,2,3,4,5,6,8],axis=1)"
      ],
      "execution_count": 70,
      "outputs": []
    },
    {
      "cell_type": "code",
      "metadata": {
        "id": "8UuhrVuNsMzA",
        "colab": {
          "base_uri": "https://localhost:8080/"
        },
        "outputId": "4ff3a9fa-11e9-43ec-c0eb-011e6598c9ab"
      },
      "source": [
        "X"
      ],
      "execution_count": 71,
      "outputs": [
        {
          "output_type": "execute_result",
          "data": {
            "text/plain": [
              "array([[8.3252],\n",
              "       [8.3014],\n",
              "       [7.2574],\n",
              "       ...,\n",
              "       [1.7],\n",
              "       [1.8672],\n",
              "       [2.3886]], dtype=object)"
            ]
          },
          "metadata": {
            "tags": []
          },
          "execution_count": 71
        }
      ]
    },
    {
      "cell_type": "code",
      "metadata": {
        "id": "QxwG1c1PsMzA"
      },
      "source": [
        "#Split Dataset for model training and testing [80/20 split]\n",
        "from sklearn.model_selection import train_test_split\n",
        "X_train,X_test,y_train,y_test = train_test_split(X,y, test_size=1/4,random_state=0)\n",
        "\n",
        "#from sklearn.cross_validation import train_test_split\n",
        "#X_train,X_test,y_train,y_test = train_test_split(X,y, test_size=1/4,random_state=0)"
      ],
      "execution_count": 74,
      "outputs": []
    },
    {
      "cell_type": "code",
      "metadata": {
        "id": "O3jBdIZjsMzB",
        "colab": {
          "base_uri": "https://localhost:8080/"
        },
        "outputId": "4ebd2af7-4165-4399-a7fd-81cc5c8c9d9b"
      },
      "source": [
        "X_train.shape"
      ],
      "execution_count": 75,
      "outputs": [
        {
          "output_type": "execute_result",
          "data": {
            "text/plain": [
              "(15480, 1)"
            ]
          },
          "metadata": {
            "tags": []
          },
          "execution_count": 75
        }
      ]
    },
    {
      "cell_type": "code",
      "metadata": {
        "id": "mgCzNl8msMzB"
      },
      "source": [
        "#Feature Scaling\n",
        "from sklearn.preprocessing import StandardScaler\n",
        "stdsclr = StandardScaler()\n",
        "X_train_std = stdsclr.fit_transform(X_train)"
      ],
      "execution_count": 76,
      "outputs": []
    },
    {
      "cell_type": "code",
      "metadata": {
        "id": "9t3g4tsGsMzB"
      },
      "source": [
        "#Feature Scaling\n",
        "X_test_std = stdsclr.fit_transform(X_test)"
      ],
      "execution_count": 77,
      "outputs": []
    },
    {
      "cell_type": "code",
      "metadata": {
        "id": "OmxEt9XhsMzB",
        "colab": {
          "base_uri": "https://localhost:8080/"
        },
        "outputId": "19619477-a6a5-477e-efb5-d0809c590d31"
      },
      "source": [
        "#Linear Regression Model\n",
        "from sklearn.linear_model import LinearRegression\n",
        "linReg1 = LinearRegression()\n",
        "linReg1.fit(X_train_std,y_train)"
      ],
      "execution_count": 78,
      "outputs": [
        {
          "output_type": "execute_result",
          "data": {
            "text/plain": [
              "LinearRegression(copy_X=True, fit_intercept=True, n_jobs=None, normalize=False)"
            ]
          },
          "metadata": {
            "tags": []
          },
          "execution_count": 78
        }
      ]
    },
    {
      "cell_type": "code",
      "metadata": {
        "id": "IwyaLkMtsMzB",
        "colab": {
          "base_uri": "https://localhost:8080/"
        },
        "outputId": "cd80c87b-f7b3-4919-9472-62f49e6f123e"
      },
      "source": [
        "#Quick check accuracy of the model\n",
        "score = linReg1.score(X_train_std,y_train)\n",
        "print(score)"
      ],
      "execution_count": 79,
      "outputs": [
        {
          "output_type": "stream",
          "text": [
            "0.48061930819884535\n"
          ],
          "name": "stdout"
        }
      ]
    },
    {
      "cell_type": "code",
      "metadata": {
        "id": "NL8pJu1ksMzB",
        "colab": {
          "base_uri": "https://localhost:8080/"
        },
        "outputId": "4f92c08c-7289-4fbd-f56c-dfea9414fec5"
      },
      "source": [
        "#Quick check accuracy of the model\n",
        "score = linReg1.score(X_test_std,y_test)\n",
        "print(score)"
      ],
      "execution_count": 80,
      "outputs": [
        {
          "output_type": "stream",
          "text": [
            "0.45147717106069024\n"
          ],
          "name": "stdout"
        }
      ]
    },
    {
      "cell_type": "code",
      "metadata": {
        "id": "GvQxx27ksMzC",
        "colab": {
          "base_uri": "https://localhost:8080/",
          "height": 290
        },
        "outputId": "29250a32-2f6f-488c-9fd2-351023050265"
      },
      "source": [
        "#==============================================================================\n",
        "# Visualize the linear regressor algo outcome\n",
        "#==============================================================================\n",
        "# Visualising the Regression results\n",
        "plt.scatter(X_test, y_test, color = 'red')\n",
        "plt.plot(X_test, linReg1.predict(X_test), color = 'blue')\n",
        "#plt.title('Median House Price Prediction')\n",
        "plt.xlabel('Median Income')\n",
        "plt.ylabel('Median House Price')\n",
        "plt.show()"
      ],
      "execution_count": 81,
      "outputs": [
        {
          "output_type": "display_data",
          "data": {
            "image/png": "[encoded data removed]",
            "text/plain": [
              "<Figure size 432x288 with 1 Axes>"
            ]
          },
          "metadata": {
            "tags": [],
            "needs_background": "light"
          }
        }
      ]
    },
    {
      "cell_type": "code",
      "metadata": {
        "id": "-PI0yORQsMzC"
      },
      "source": [
        "# Fitting the Polynomial Regression algorithm to the Training set\n",
        "\n",
        "from sklearn.preprocessing import PolynomialFeatures\n",
        "polyagent = PolynomialFeatures(degree=5)\n",
        "X_Poly = polyagent.fit_transform(X_train)"
      ],
      "execution_count": 82,
      "outputs": []
    },
    {
      "cell_type": "code",
      "metadata": {
        "id": "KgIdhmzHsMzC",
        "colab": {
          "base_uri": "https://localhost:8080/"
        },
        "outputId": "ad216888-34cf-4830-c624-be14869f4bab"
      },
      "source": [
        "linReg1.fit (X_Poly, y_train ) "
      ],
      "execution_count": 83,
      "outputs": [
        {
          "output_type": "execute_result",
          "data": {
            "text/plain": [
              "LinearRegression(copy_X=True, fit_intercept=True, n_jobs=None, normalize=False)"
            ]
          },
          "metadata": {
            "tags": []
          },
          "execution_count": 83
        }
      ]
    },
    {
      "cell_type": "code",
      "metadata": {
        "id": "fdP4Fx_NsMzC"
      },
      "source": [
        "X_Poly_test = polyagent.fit_transform(X_test)"
      ],
      "execution_count": 84,
      "outputs": []
    },
    {
      "cell_type": "code",
      "metadata": {
        "id": "MFDYkY1usMzC",
        "colab": {
          "base_uri": "https://localhost:8080/"
        },
        "outputId": "2e786038-2021-46d0-ee59-be6aee54f933"
      },
      "source": [
        "score = linReg1.score(X_Poly,y_train)\n",
        "print(score)"
      ],
      "execution_count": 85,
      "outputs": [
        {
          "output_type": "stream",
          "text": [
            "0.49275884336146475\n"
          ],
          "name": "stdout"
        }
      ]
    },
    {
      "cell_type": "code",
      "metadata": {
        "id": "U1LvoIF2sMzC",
        "colab": {
          "base_uri": "https://localhost:8080/"
        },
        "outputId": "7ef2a525-d2a0-4678-b6bb-a2c2866516a1"
      },
      "source": [
        "score = linReg1.score(X_Poly_test,y_test)\n",
        "print(score)"
      ],
      "execution_count": 86,
      "outputs": [
        {
          "output_type": "stream",
          "text": [
            "0.46653755542285047\n"
          ],
          "name": "stdout"
        }
      ]
    },
    {
      "cell_type": "code",
      "metadata": {
        "id": "PdbYqShZsMzD",
        "colab": {
          "base_uri": "https://localhost:8080/",
          "height": 279
        },
        "outputId": "389a36ee-4bd9-42d2-cc15-5a038a3d679f"
      },
      "source": [
        "\n",
        "# Visualize the poly regressor algo outcome\n",
        "# Visualising the Regression results\n",
        "#plt.scatter(X_Poly_test, y_test, color = 'red')\n",
        "plt.plot(X_Poly_test, linReg1.predict(X_Poly_test), color = 'blue')\n",
        "#plt.title('Median House Price Prediction')\n",
        "plt.xlabel('Median Income')\n",
        "plt.ylabel('Median House Price')\n",
        "plt.show()"
      ],
      "execution_count": 87,
      "outputs": [
        {
          "output_type": "display_data",
          "data": {
            "image/png": "[encoded data removed]",
            "text/plain": [
              "<Figure size 432x288 with 1 Axes>"
            ]
          },
          "metadata": {
            "tags": [],
            "needs_background": "light"
          }
        }
      ]
    },
    {
      "cell_type": "code",
      "metadata": {
        "id": "Ee8iioJZsMzD",
        "colab": {
          "base_uri": "https://localhost:8080/"
        },
        "outputId": "6d0d500a-25fd-41dc-ef44-8bc6ff36beca"
      },
      "source": [
        "#Let's fit DT Reg\n",
        "\n",
        "from sklearn.tree import DecisionTreeRegressor \n",
        "DTRegressor = DecisionTreeRegressor(max_depth=3)\n",
        "DTRegressor.fit(X_train,y_train)"
      ],
      "execution_count": 88,
      "outputs": [
        {
          "output_type": "execute_result",
          "data": {
            "text/plain": [
              "DecisionTreeRegressor(ccp_alpha=0.0, criterion='mse', max_depth=3,\n",
              "                      max_features=None, max_leaf_nodes=None,\n",
              "                      min_impurity_decrease=0.0, min_impurity_split=None,\n",
              "                      min_samples_leaf=1, min_samples_split=2,\n",
              "                      min_weight_fraction_leaf=0.0, presort='deprecated',\n",
              "                      random_state=None, splitter='best')"
            ]
          },
          "metadata": {
            "tags": []
          },
          "execution_count": 88
        }
      ]
    },
    {
      "cell_type": "code",
      "metadata": {
        "id": "dmX3fHY_sMzD",
        "colab": {
          "base_uri": "https://localhost:8080/"
        },
        "outputId": "77780918-d348-4c91-a5db-1f570cc9b96d"
      },
      "source": [
        "#Quick check accuracy of the model on train\n",
        "score = DTRegressor.score(X_train,y_train)\n",
        "print(score)"
      ],
      "execution_count": 89,
      "outputs": [
        {
          "output_type": "stream",
          "text": [
            "0.48925102276025023\n"
          ],
          "name": "stdout"
        }
      ]
    },
    {
      "cell_type": "code",
      "metadata": {
        "id": "DvBPtwx8sMzD",
        "colab": {
          "base_uri": "https://localhost:8080/",
          "height": 279
        },
        "outputId": "9dc7ed53-2e3a-48db-ea0e-3940496f272b"
      },
      "source": [
        "\n",
        "# Visualize the DT regressor algo outcome\n",
        "\n",
        "# Visualising the Regression results\n",
        "plt.scatter(X_test, y_test, color = 'red')\n",
        "plt.plot(X_test, DTRegressor.predict(X_test), color = 'blue')\n",
        "#plt.title('Median House Price Prediction')\n",
        "plt.xlabel('Median Income')\n",
        "plt.ylabel('Median House Price')\n",
        "plt.show()"
      ],
      "execution_count": 90,
      "outputs": [
        {
          "output_type": "display_data",
          "data": {
            "image/png": "[encoded data removed]",
            "text/plain": [
              "<Figure size 432x288 with 1 Axes>"
            ]
          },
          "metadata": {
            "tags": [],
            "needs_background": "light"
          }
        }
      ]
    },
    {
      "cell_type": "code",
      "metadata": {
        "id": "7o0JYf0BsMzD"
      },
      "source": [
        ""
      ],
      "execution_count": 90,
      "outputs": []
    }
  ]
}