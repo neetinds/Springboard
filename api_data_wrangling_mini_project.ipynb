{
 "cells": [
  {
   "cell_type": "markdown",
   "metadata": {},
   "source": [
    "This exercise will require you to pull some data from the Qunadl API. Qaundl is currently the most widely used aggregator of financial market data."
   ]
  },
  {
   "cell_type": "markdown",
   "metadata": {},
   "source": [
    "As a first step, you will need to register a free account on the http://www.quandl.com website."
   ]
  },
  {
   "cell_type": "markdown",
   "metadata": {},
   "source": [
    "After you register, you will be provided with a unique API key, that you should store:"
   ]
  },
  {
   "cell_type": "code",
   "execution_count": 1,
   "metadata": {
    "collapsed": true
   },
   "outputs": [],
   "source": [
    "# Store the API key as a string - according to PEP8, constants are always named in all upper case\n",
    "API_KEY = 'zVz5A3mCsmguaqmw2oys'"
   ]
  },
  {
   "cell_type": "markdown",
   "metadata": {},
   "source": [
    "Qaundl has a large number of data sources, but, unfortunately, most of them require a Premium subscription. Still, there are also a good number of free datasets."
   ]
  },
  {
   "cell_type": "markdown",
   "metadata": {},
   "source": [
    "For this mini project, we will focus on equities data from the Frankfurt Stock Exhange (FSE), which is available for free. We'll try and analyze the stock prices of a company called Carl Zeiss Meditec, which manufactures tools for eye examinations, as well as medical lasers for laser eye surgery: https://www.zeiss.com/meditec/int/home.html. The company is listed under the stock ticker AFX_X."
   ]
  },
  {
   "cell_type": "markdown",
   "metadata": {},
   "source": [
    "You can find the detailed Quandl API instructions here: https://docs.quandl.com/docs/time-series"
   ]
  },
  {
   "cell_type": "markdown",
   "metadata": {},
   "source": [
    "While there is a dedicated Python package for connecting to the Quandl API, we would prefer that you use the *requests* package, which can be easily downloaded using *pip* or *conda*. You can find the documentation for the package here: http://docs.python-requests.org/en/master/ "
   ]
  },
  {
   "cell_type": "markdown",
   "metadata": {},
   "source": [
    "Finally, apart from the *requests* package, you are encouraged to not use any third party Python packages, such as *pandas*, and instead focus on what's available in the Python Standard Library (the *collections* module might come in handy: https://pymotw.com/3/collections/ ).\n",
    "Also, since you won't have access to DataFrames, you are encouraged to us Python's native data structures - preferably dictionaries, though some questions can also be answered using lists.\n",
    "You can read more on these data structures here: https://docs.python.org/3/tutorial/datastructures.html"
   ]
  },
  {
   "cell_type": "markdown",
   "metadata": {},
   "source": [
    "Keep in mind that the JSON responses you will be getting from the API map almost one-to-one to Python's dictionaries. Unfortunately, they can be very nested, so make sure you read up on indexing dictionaries in the documentation provided above."
   ]
  },
  {
   "cell_type": "code",
   "execution_count": 2,
   "metadata": {
    "collapsed": false
   },
   "outputs": [],
   "source": [
    "# First, import the relevant modules\n",
    "# First, import the relevant modules\n",
    "\n",
    "import requests\n",
    "import json\n",
    "import collections\n",
    "import urllib.request as request"
   ]
  },
  {
   "cell_type": "code",
   "execution_count": 3,
   "metadata": {
    "collapsed": false
   },
   "outputs": [
    {
     "name": "stdout",
     "output_type": "stream",
     "text": [
      "{'dataset': {'database_code': 'XFRA', 'limit': None, 'end_date': '2018-11-30', 'id': 46107954, 'data': [['2018-11-30', 44.4, 44.4, 44.4, 44.4, 0.0, None, None]], 'refreshed_at': '2019-07-16T01:15:25.644Z', 'premium': True, 'dataset_code': 'PK5_UADJ', 'database_id': 15302, 'start_date': '2018-11-30', 'oldest_available_date': '2007-01-02', 'transform': None, 'column_index': None, 'order': None, 'frequency': 'daily', 'description': ' <b>Ticker</b>: PK5 <br> <br> <b>Exchange</b>: XFRA <br> <br> Columns: <br> <br> Open,High,Low,Close,Volume are unadjusted and shown in EUR currency. <br> <br> Adjustment Factor shows the factor by which prices are adjusted on days which adjustments take place <br> <br> Adjustment Type is a number representing the type of adjustment. Refer to documentation for more information on these codes.', 'type': 'Time Series', 'name': 'Basilea Pharmaceutica AG (PK5) Unadjusted Stock Prices', 'newest_available_date': '2018-11-30', 'column_names': ['Date', 'Open', 'High', 'Low', 'Close', 'Volume', 'Adjustment Factor', 'Adjustment Type'], 'collapse': None}}\n"
     ]
    }
   ],
   "source": [
    "# Now, call the Quandl API and pull out a small sample of the data (only one day) to get a glimpse\n",
    "# into the JSON structure that will be returned\n",
    "\n",
    "\n",
    "with request.urlopen('https://www.quandl.com/api/v3/datasets/XFRA/PK5_UADJ.json?start_date=2018-11-30&end_date=2018-11-30&api_key=zVz5A3mCsmguaqmw2oys') as response:\n",
    "     source = response.read()\n",
    "        \n",
    "data = json.loads(source.decode('utf-8'))\n",
    "\n",
    "print(data)\n",
    "\n"
   ]
  },
  {
   "cell_type": "code",
   "execution_count": 127,
   "metadata": {
    "collapsed": false
   },
   "outputs": [
    {
     "name": "stdout",
     "output_type": "stream",
     "text": [
      "Keys = ['dataset']\n",
      "Values = [{'database_code': 'XFRA', 'limit': None, 'end_date': '2017-12-31', 'id': 46107954, 'data': [['2017-12-29', 64.555, 64.874, 63.962, 63.962, 150.0, None, None], ['2017-12-28', 64.47, 64.47, 64.379, 64.379, 0.0, None, None], ['2017-12-27', 63.405, 63.405, 63.405, 63.405, 0.0, None, None], ['2017-12-26', 64.465, 64.465, 64.465, 64.465, 0.0, None, None], ['2017-12-25', 64.465, 64.465, 64.465, 64.465, 0.0, None, None], ['2017-12-22', 64.465, 64.465, 64.465, 64.465, 0.0, None, None], ['2017-12-21', 63.726, 64.317, 63.726, 64.317, 50.0, None, None], ['2017-12-20', 64.516, 64.516, 64.516, 64.516, 0.0, None, None], ['2017-12-19', 65.472, 65.472, 65.0, 65.0, 30.0, None, None], ['2017-12-18', 65.143, 65.143, 65.143, 65.143, 0.0, None, None], ['2017-12-15', 65.094, 65.094, 65.094, 65.094, 0.0, None, None], ['2017-12-14', 65.118, 65.118, 65.118, 65.118, 0.0, None, None], ['2017-12-13', 65.444, 65.444, 65.156, 65.156, 120.0, None, None], ['2017-12-12', 65.354, 65.354, 65.354, 65.354, 0.0, None, None], ['2017-12-11', 65.693, 65.693, 65.693, 65.693, 0.0, None, None], ['2017-12-08', 64.782, 64.884, 64.782, 64.876, 144.0, None, None], ['2017-12-07', 64.415, 64.877, 64.415, 64.877, 0.0, None, None], ['2017-12-06', 64.446, 64.446, 64.446, 64.446, 0.0, None, None], ['2017-12-05', 64.943, 64.943, 64.943, 64.943, 0.0, None, None], ['2017-12-04', 65.904, 65.904, 65.904, 65.904, 165.0, None, None], ['2017-12-01', 67.0, 67.0, 66.49, 66.49, 325.0, None, None], ['2017-11-30', 63.45, 64.062, 62.67, 64.062, 186.0, None, None], ['2017-11-29', 64.778, 64.778, 64.778, 64.778, 0.0, None, None], ['2017-11-28', 64.458, 64.48, 64.458, 64.477, 0.0, None, None], ['2017-11-27', 64.85, 64.85, 64.85, 64.85, 0.0, None, None], ['2017-11-24', 65.576, 65.576, 65.576, 65.576, 0.0, None, None], ['2017-11-23', 65.142, 65.145, 65.142, 65.142, 0.0, None, None], ['2017-11-22', 65.64, 65.64, 65.64, 65.64, 0.0, None, None], ['2017-11-21', 65.318, 65.318, 65.318, 65.318, 0.0, None, None], ['2017-11-20', 65.081, 65.081, 65.081, 65.081, 0.0, None, None], ['2017-11-17', 64.989, 64.989, 64.749, 64.779, 0.0, None, None], ['2017-11-16', 64.482, 64.675, 64.482, 64.675, 0.0, None, None], ['2017-11-15', 63.973, 63.973, 63.973, 63.973, 0.0, None, None], ['2017-11-14', 65.838, 65.838, 65.838, 65.838, 0.0, None, None], ['2017-11-13', 66.425, 66.425, 65.635, 65.635, 650.0, None, None], ['2017-11-10', 66.989, 66.989, 66.026, 66.026, 0.0, None, None], ['2017-11-09', 67.784, 67.784, 66.741, 66.741, 25.0, None, None], ['2017-11-08', 67.969, 67.969, 67.365, 67.365, 0.0, None, None], ['2017-11-07', 68.411, 68.411, 68.411, 68.411, 0.0, None, None], ['2017-11-06', 68.283, 68.283, 68.283, 68.283, 0.0, None, None], ['2017-11-03', 68.023, 68.669, 68.023, 68.666, 0.0, None, None], ['2017-11-02', 69.629, 69.629, 68.37, 68.37, 150.0, None, None], ['2017-11-01', 69.879, 69.879, 69.576, 69.576, 120.0, None, None], ['2017-10-31', 70.474, 70.474, 70.474, 70.474, 0.0, None, None], ['2017-10-30', 70.474, 70.474, 70.474, 70.474, 0.0, None, None], ['2017-10-27', 68.751, 68.751, 68.751, 68.751, 0.0, None, None], ['2017-10-26', 68.233, 68.233, 68.233, 68.233, 0.0, None, None], ['2017-10-25', 69.049, 69.049, 68.315, 68.474, 300.0, None, None], ['2017-10-24', 69.546, 69.546, 69.546, 69.546, 0.0, None, None], ['2017-10-23', 67.7, 67.7, 67.7, 67.7, 80.0, None, None], ['2017-10-20', 67.021, 67.021, 67.021, 67.021, 0.0, None, None], ['2017-10-19', 68.033, 68.033, 66.84, 66.84, 200.0, None, None], ['2017-10-18', 68.31, 68.449, 68.079, 68.079, 1000.0, None, None], ['2017-10-17', 68.661, 68.661, 68.45, 68.45, 50.0, None, None], ['2017-10-16', 68.604, 68.604, 68.604, 68.604, 0.0, None, None], ['2017-10-13', 68.366, 68.366, 68.366, 68.366, 0.0, None, None], ['2017-10-12', 68.725, 68.725, 68.336, 68.336, 70.0, None, None], ['2017-10-11', 68.514, 68.605, 68.514, 68.605, 0.0, None, None], ['2017-10-10', 68.855, 68.855, 68.855, 68.855, 0.0, None, None], ['2017-10-09', 69.444, 69.522, 69.444, 69.522, 14.0, None, None], ['2017-10-06', 70.021, 70.021, 70.021, 70.021, 0.0, None, None], ['2017-10-05', 70.411, 70.411, 70.411, 70.411, 0.0, None, None], ['2017-10-04', 70.461, 70.461, 70.461, 70.461, 0.0, None, None], ['2017-10-03', 69.544, 69.544, 69.544, 69.544, 0.0, None, None], ['2017-10-02', 69.169, 69.544, 69.169, 69.544, 124.0, None, None], ['2017-09-29', 68.473, 68.473, 68.473, 68.473, 0.0, None, None], ['2017-09-28', 70.165, 70.165, 70.165, 70.165, 100.0, None, None], ['2017-09-27', 68.407, 68.407, 68.407, 68.407, 0.0, None, None], ['2017-09-26', 69.8, 69.8, 68.378, 68.378, 353.0, None, None], ['2017-09-25', 68.923, 68.923, 68.923, 68.923, 0.0, None, None], ['2017-09-22', 68.816, 68.816, 68.816, 68.816, 0.0, None, None], ['2017-09-21', 68.915, 68.915, 68.624, 68.868, 0.0, None, None], ['2017-09-20', 69.138, 69.138, 69.138, 69.138, 0.0, None, None], ['2017-09-19', 68.709, 68.709, 68.709, 68.709, 0.0, None, None], ['2017-09-18', 69.25, 69.25, 69.005, 69.005, 250.0, None, None], ['2017-09-15', 68.987, 69.049, 68.987, 69.049, 0.0, None, None], ['2017-09-14', 69.35, 69.934, 69.35, 69.934, 0.0, None, None], ['2017-09-13', 69.098, 69.437, 69.098, 69.412, 0.0, None, None], ['2017-09-12', 71.697, 71.697, 71.697, 71.697, 100.0, None, None], ['2017-09-11', 71.103, 71.103, 71.103, 71.103, 0.0, None, None], ['2017-09-08', 71.545, 71.545, 71.545, 71.545, 50.0, None, None], ['2017-09-07', 70.386, 70.386, 70.386, 70.386, 0.0, None, None], ['2017-09-06', 70.712, 70.712, 70.712, 70.712, 0.0, None, None], ['2017-09-05', 70.491, 70.491, 70.491, 70.491, 0.0, None, None], ['2017-09-04', 70.297, 70.491, 70.297, 70.491, 200.0, None, None], ['2017-09-01', 71.28, 71.28, 71.28, 71.28, 0.0, None, None], ['2017-08-31', 69.711, 69.711, 69.711, 69.711, 0.0, None, None], ['2017-08-30', 68.823, 68.823, 68.823, 68.823, 0.0, None, None], ['2017-08-29', 68.786, 68.786, 68.786, 68.786, 0.0, None, None], ['2017-08-28', 69.361, 69.361, 69.182, 69.182, 0.0, None, None], ['2017-08-25', 69.435, 70.502, 69.435, 70.502, 15.0, None, None], ['2017-08-24', 69.06, 69.06, 68.688, 68.745, 0.0, None, None], ['2017-08-23', 68.215, 68.215, 68.215, 68.215, 0.0, None, None], ['2017-08-22', 68.215, 68.215, 68.215, 68.215, 0.0, None, None], ['2017-08-21', 67.917, 67.917, 67.726, 67.726, 0.0, None, None], ['2017-08-18', 67.877, 68.125, 67.827, 68.08, 74.0, None, None], ['2017-08-17', 68.729, 69.13, 68.729, 69.13, 72.0, None, None], ['2017-08-16', 69.176, 69.176, 68.923, 68.923, 70.0, None, None], ['2017-08-15', 70.038, 70.038, 68.729, 68.729, 50.0, None, None], ['2017-08-14', 69.428, 69.575, 69.428, 69.575, 26.0, None, None], ['2017-08-11', 71.859, 71.859, 69.282, 69.316, 349.0, None, None], ['2017-08-10', 74.809, 74.809, 72.087, 72.235, 520.0, None, None], ['2017-08-09', 74.361, 74.361, 74.361, 74.361, 0.0, None, None], ['2017-08-08', 74.566, 75.391, 74.566, 75.391, 30.0, None, None], ['2017-08-07', 74.445, 74.445, 73.856, 74.221, 320.0, None, None], ['2017-08-04', 73.454, 74.525, 73.454, 74.525, 0.0, None, None], ['2017-08-03', 74.64, 74.64, 74.568, 74.568, 700.0, None, None], ['2017-08-02', 74.385, 75.05, 74.385, 74.955, 166.0, None, None], ['2017-08-01', 76.028, 76.028, 76.028, 76.028, 0.0, None, None], ['2017-07-31', 75.325, 75.325, 75.325, 75.325, 0.0, None, None], ['2017-07-28', 73.595, 73.595, 73.432, 73.432, 40.0, None, None], ['2017-07-27', 75.002, 75.002, 75.002, 75.002, 0.0, None, None], ['2017-07-26', 74.953, 74.953, 74.953, 74.953, 0.0, None, None], ['2017-07-25', 75.955, 75.955, 75.564, 75.564, 0.0, None, None], ['2017-07-24', 76.492, 76.492, 75.721, 75.725, 0.0, None, None], ['2017-07-21', 76.743, 76.743, 76.586, 76.586, 30.0, None, None], ['2017-07-20', 74.909, 74.909, 74.909, 74.909, 300.0, None, None], ['2017-07-19', 74.522, 74.522, 74.522, 74.522, 0.0, None, None], ['2017-07-18', 74.53, 74.53, 73.849, 73.849, 100.0, None, None], ['2017-07-17', 74.381, 74.381, 74.381, 74.381, 0.0, None, None], ['2017-07-14', 73.873, 74.361, 73.873, 74.361, 40.0, None, None], ['2017-07-13', 74.158, 74.994, 74.158, 74.994, 7.0, None, None], ['2017-07-12', 72.67, 72.724, 72.67, 72.724, 30.0, None, None], ['2017-07-11', 72.868, 72.868, 72.868, 72.868, 0.0, None, None], ['2017-07-10', 73.819, 73.819, 73.819, 73.819, 0.0, None, None], ['2017-07-07', 72.86, 72.86, 72.86, 72.86, 0.0, None, None], ['2017-07-06', 74.446, 74.446, 74.446, 74.446, 0.0, None, None], ['2017-07-05', 73.27, 73.27, 73.27, 73.27, 0.0, None, None], ['2017-07-04', 74.466, 74.466, 74.466, 74.466, 0.0, None, None], ['2017-07-03', 74.451, 74.451, 74.451, 74.451, 0.0, None, None], ['2017-06-30', 73.146, 73.146, 73.146, 73.146, 0.0, None, None], ['2017-06-29', 75.157, 75.157, 75.157, 75.157, 0.0, None, None], ['2017-06-28', 74.643, 74.643, 74.643, 74.643, 0.0, None, None], ['2017-06-27', 75.912, 75.912, 74.39, 74.643, 150.0, None, None], ['2017-06-26', 77.489, 77.489, 75.986, 75.986, 150.0, None, None], ['2017-06-23', 77.814, 77.856, 76.692, 76.692, 300.0, None, None], ['2017-06-22', 77.08, 77.198, 77.08, 77.198, 40.0, None, None], ['2017-06-21', 76.704, 76.704, 76.024, 76.024, 400.0, None, None], ['2017-06-20', 76.816, 76.816, 76.816, 76.816, 0.0, None, None], ['2017-06-19', 76.793, 76.793, 76.13, 76.13, 100.0, None, None], ['2017-06-16', 75.635, 76.471, 75.635, 76.19, 375.0, None, None], ['2017-06-15', 74.66, 74.933, 74.66, 74.933, 400.0, None, None], ['2017-06-14', 72.258, 72.258, 70.418, 71.38, 200.0, None, None], ['2017-06-13', 69.0, 69.0, 69.0, 69.0, 40.0, None, None], ['2017-06-12', 69.179, 69.179, 68.865, 68.865, 45.0, None, None], ['2017-06-09', 70.285, 70.424, 69.787, 69.787, 85.0, None, None], ['2017-06-08', 70.595, 70.595, 70.595, 70.595, 0.0, None, None], ['2017-06-07', 71.232, 71.232, 71.232, 71.232, 0.0, None, None], ['2017-06-06', 71.959, 71.959, 71.959, 71.959, 80.0, None, None], ['2017-06-05', 71.707, 71.707, 71.707, 71.707, 0.0, None, None], ['2017-06-02', 71.744, 71.744, 71.707, 71.707, 250.0, None, None], ['2017-06-01', 70.577, 70.577, 70.577, 70.577, 0.0, None, None], ['2017-05-31', 69.934, 71.844, 69.934, 71.844, 36.0, None, None], ['2017-05-30', 72.317, 72.317, 72.317, 72.317, 0.0, None, None], ['2017-05-29', 73.156, 73.156, 73.156, 73.156, 0.0, None, None], ['2017-05-26', 72.494, 73.634, 72.494, 73.634, 150.0, None, None], ['2017-05-25', 72.646, 72.788, 72.646, 72.788, 0.0, None, None], ['2017-05-24', 72.568, 72.799, 72.568, 72.799, 155.0, None, None], ['2017-05-23', 72.702, 72.731, 72.702, 72.731, 100.0, None, None], ['2017-05-22', 72.385, 72.385, 72.385, 72.385, 0.0, None, None], ['2017-05-19', 72.147, 73.058, 72.147, 72.672, 0.0, None, None], ['2017-05-18', 71.564, 71.564, 71.318, 71.5, 100.0, None, None], ['2017-05-17', 74.916, 75.001, 72.517, 72.517, 300.0, None, None], ['2017-05-16', 74.873, 74.873, 74.873, 74.873, 0.0, None, None], ['2017-05-15', 75.733, 75.733, 75.526, 75.526, 150.0, None, None], ['2017-05-12', 74.433, 74.433, 74.433, 74.433, 94.0, None, None], ['2017-05-11', 75.469, 75.469, 74.943, 74.943, 345.0, None, None], ['2017-05-10', 75.794, 75.794, 75.297, 75.297, 70.0, None, None], ['2017-05-09', 75.99, 76.509, 75.99, 76.509, 80.0, None, None], ['2017-05-08', 77.42, 77.42, 77.42, 77.42, 0.0, None, None], ['2017-05-05', 77.633, 77.633, 77.633, 77.633, 0.0, None, None], ['2017-05-04', 77.447, 77.711, 77.146, 77.711, 594.0, None, None], ['2017-05-03', 78.885, 78.885, 77.287, 77.287, 380.0, None, None], ['2017-05-02', 78.161, 78.161, 78.161, 78.161, 10.0, None, None], ['2017-05-01', 79.019, 79.019, 79.019, 79.019, 0.0, None, None], ['2017-04-28', 79.019, 79.019, 79.019, 79.019, 0.0, None, None], ['2017-04-27', 78.736, 78.736, 78.039, 78.039, 38.0, None, None], ['2017-04-26', 77.835, 78.789, 77.835, 78.698, 150.0, None, None], ['2017-04-25', 76.954, 77.41, 76.954, 77.41, 0.0, None, None], ['2017-04-24', 76.737, 76.737, 76.645, 76.645, 100.0, None, None], ['2017-04-21', 77.769, 77.769, 76.186, 76.186, 215.0, None, None], ['2017-04-20', 76.74, 76.74, 76.74, 76.74, 0.0, None, None], ['2017-04-19', 76.108, 76.108, 76.108, 76.108, 0.0, None, None], ['2017-04-18', 79.61, 79.61, 76.108, 76.108, 335.0, None, None], ['2017-04-17', 77.718, 77.718, 77.718, 77.718, 0.0, None, None], ['2017-04-14', 77.718, 77.718, 77.718, 77.718, 0.0, None, None], ['2017-04-13', 77.718, 77.718, 77.718, 77.718, 0.0, None, None], ['2017-04-12', 78.694, 78.694, 78.694, 78.694, 0.0, None, None], ['2017-04-11', 79.641, 79.641, 79.197, 79.197, 50.0, None, None], ['2017-04-10', 79.975, 79.975, 79.45, 79.45, 253.0, None, None], ['2017-04-07', 80.111, 80.111, 80.111, 80.111, 0.0, None, None], ['2017-04-06', 80.58, 80.58, 80.58, 80.58, 0.0, None, None], ['2017-04-05', 82.047, 82.047, 81.828, 81.828, 235.0, None, None], ['2017-04-04', 81.308, 81.308, 81.308, 81.308, 0.0, None, None], ['2017-04-03', 81.239, 81.239, 81.239, 81.239, 0.0, None, None], ['2017-03-31', 81.625, 81.625, 81.625, 81.625, 0.0, None, None], ['2017-03-30', 82.744, 82.744, 82.744, 82.744, 0.0, None, None], ['2017-03-29', 81.902, 81.902, 81.41, 81.41, 296.0, None, None], ['2017-03-28', 82.845, 82.845, 82.0, 82.0, 420.0, None, None], ['2017-03-27', 83.405, 83.405, 82.532, 82.831, 0.0, None, None], ['2017-03-24', 81.677, 83.288, 81.677, 83.288, 100.0, None, None], ['2017-03-23', 82.239, 82.565, 81.83, 81.84, 345.0, None, None], ['2017-03-22', 82.613, 83.56, 82.613, 83.56, 78.0, None, None], ['2017-03-21', 84.268, 84.268, 84.268, 84.268, 0.0, None, None], ['2017-03-20', 83.893, 87.39, 83.677, 84.961, 1830.0, None, None], ['2017-03-17', 79.466, 87.517, 79.466, 86.63, 95.0, None, None], ['2017-03-16', 80.065, 80.242, 79.532, 79.532, 250.0, None, None], ['2017-03-15', 76.417, 79.213, 76.417, 79.213, 0.0, None, None], ['2017-03-14', 77.519, 77.519, 76.405, 76.405, 100.0, None, None], ['2017-03-13', 76.788, 76.788, 76.788, 76.788, 8.0, None, None], ['2017-03-10', 77.524, 77.524, 77.279, 77.279, 160.0, None, None], ['2017-03-09', 77.913, 77.913, 77.913, 77.913, 0.0, None, None], ['2017-03-08', 77.657, 77.657, 77.657, 77.657, 0.0, None, None], ['2017-03-07', 78.881, 78.881, 77.701, 77.701, 30.0, None, None], ['2017-03-06', 80.422, 80.422, 79.591, 79.591, 70.0, None, None], ['2017-03-03', 79.513, 80.819, 79.513, 80.819, 513.0, None, None], ['2017-03-02', 80.081, 80.081, 79.675, 79.675, 0.0, None, None], ['2017-03-01', 80.893, 80.893, 80.695, 80.695, 55.0, None, None], ['2017-02-28', 80.442, 80.442, 80.127, 80.127, 50.0, None, None], ['2017-02-27', 79.776, 79.982, 79.776, 79.982, 64.0, None, None], ['2017-02-24', 80.509, 80.736, 79.4, 79.98, 1225.0, None, None], ['2017-02-23', 79.859, 81.388, 79.859, 80.593, 8.0, None, None], ['2017-02-22', 76.757, 81.058, 76.708, 81.058, 660.0, None, None], ['2017-02-21', 75.962, 77.643, 75.962, 76.738, 500.0, None, None], ['2017-02-20', 73.354, 73.354, 72.854, 72.854, 15.0, None, None], ['2017-02-17', 72.91, 72.91, 72.161, 72.161, 0.0, None, None], ['2017-02-16', 71.839, 73.022, 71.839, 73.022, 0.0, None, None], ['2017-02-15', 71.765, 71.807, 71.334, 71.375, 170.0, None, None], ['2017-02-14', 70.875, 71.216, 70.686, 71.037, 20.0, None, None], ['2017-02-13', 71.052, 71.059, 70.935, 71.025, 130.0, None, None], ['2017-02-10', 69.798, 70.41, 69.798, 70.41, 180.0, None, None], ['2017-02-09', 70.659, 70.659, 70.088, 70.088, 0.0, None, None], ['2017-02-08', 71.541, 71.541, 70.145, 70.145, 0.0, None, None], ['2017-02-07', 71.202, 71.202, 71.196, 71.196, 30.0, None, None], ['2017-02-06', 70.525, 70.98, 70.525, 70.957, 0.0, None, None], ['2017-02-03', 69.416, 70.219, 69.416, 70.079, 95.0, None, None], ['2017-02-02', 68.709, 68.709, 68.709, 68.709, 0.0, None, None], ['2017-02-01', 68.553, 69.846, 68.553, 69.846, 35.0, None, None], ['2017-01-31', 69.238, 69.238, 67.008, 67.008, 1400.0, None, None], ['2017-01-30', 70.077, 70.077, 70.077, 70.077, 0.0, None, None], ['2017-01-27', 69.09, 70.458, 69.09, 70.458, 0.0, None, None], ['2017-01-26', 67.277, 69.688, 67.277, 68.53, 0.0, None, None], ['2017-01-25', 65.922, 65.922, 65.922, 65.922, 0.0, None, None], ['2017-01-24', 66.404, 66.404, 66.339, 66.339, 15.0, None, None], ['2017-01-23', 65.49, 65.962, 65.49, 65.962, 0.0, None, None], ['2017-01-20', 66.889, 66.889, 65.704, 65.704, 0.0, None, None], ['2017-01-19', 67.379, 67.379, 67.379, 67.379, 0.0, None, None], ['2017-01-18', 68.218, 68.218, 67.325, 67.325, 40.0, None, None], ['2017-01-17', 68.204, 68.204, 68.204, 68.204, 0.0, None, None], ['2017-01-16', 69.658, 69.658, 69.658, 69.658, 0.0, None, None], ['2017-01-13', 68.367, 69.905, 68.367, 69.905, 600.0, None, None], ['2017-01-12', 68.48, 68.48, 68.48, 68.48, 0.0, None, None], ['2017-01-11', 70.239, 70.239, 69.627, 69.742, 40.0, None, None], ['2017-01-10', 70.459, 70.459, 69.264, 69.264, 70.0, None, None], ['2017-01-09', 71.51, 71.51, 71.51, 71.51, 0.0, None, None], ['2017-01-06', 70.281, 70.281, 70.281, 70.281, 0.0, None, None], ['2017-01-05', 69.635, 70.595, 69.635, 70.595, 125.0, None, None], ['2017-01-04', 69.526, 69.526, 69.526, 69.526, 0.0, None, None], ['2017-01-03', 68.861, 68.861, 68.861, 68.861, 0.0, None, None], ['2017-01-02', 67.389, 67.389, 67.389, 67.389, 0.0, None, None]], 'refreshed_at': '2019-07-16T01:15:25.644Z', 'premium': True, 'dataset_code': 'PK5_UADJ', 'database_id': 15302, 'start_date': '2017-01-01', 'oldest_available_date': '2007-01-02', 'transform': None, 'column_index': None, 'order': None, 'frequency': 'daily', 'description': ' <b>Ticker</b>: PK5 <br> <br> <b>Exchange</b>: XFRA <br> <br> Columns: <br> <br> Open,High,Low,Close,Volume are unadjusted and shown in EUR currency. <br> <br> Adjustment Factor shows the factor by which prices are adjusted on days which adjustments take place <br> <br> Adjustment Type is a number representing the type of adjustment. Refer to documentation for more information on these codes.', 'type': 'Time Series', 'name': 'Basilea Pharmaceutica AG (PK5) Unadjusted Stock Prices', 'newest_available_date': '2018-11-30', 'column_names': ['Date', 'Open', 'High', 'Low', 'Close', 'Volume', 'Adjustment Factor', 'Adjustment Type'], 'collapse': None}]\n"
     ]
    }
   ],
   "source": [
    "# Inspect the JSON structure of the object you created, and take note of how nested it is,\n",
    "# as well as the overall structure\n",
    "\n",
    "m = collections.ChainMap(data)\n",
    "print('Keys = {}'.format(list(m.keys())))\n",
    "print('Values = {}'.format(list(m.values())))\n",
    "#print(m['dataset']['column_names'])\n",
    "#print(m['dataset']['data'][0])\n",
    "\n",
    "#print(m)"
   ]
  },
  {
   "cell_type": "markdown",
   "metadata": {},
   "source": [
    "These are your tasks for this mini project:\n",
    "\n",
    "1. Collect data from the Franfurt Stock Exchange, for the ticker AFX_X, for the whole year 2017 (keep in mind that the date format is YYYY-MM-DD).\n",
    "2. Convert the returned JSON object into a Python dictionary.\n",
    "3. Calculate what the highest and lowest opening prices were for the stock in this period.\n",
    "4. What was the largest change in any one day (based on High and Low price)?\n",
    "5. What was the largest change between any two days (based on Closing Price)?\n",
    "6. What was the average daily trading volume during this year?\n",
    "7. (Optional) What was the median trading volume during this year. (Note: you may need to implement your own function for calculating the median.)"
   ]
  },
  {
   "cell_type": "code",
   "execution_count": 128,
   "metadata": {
    "collapsed": false
   },
   "outputs": [
    {
     "name": "stdout",
     "output_type": "stream",
     "text": [
      "2. Converting JSON into Dictionary Type: <class 'dict'>\n",
      "<class 'int'> 260\n",
      "           Date    Open    High     Low   Close  Volume Adjustment Factor  \\\n",
      "0    2017-12-29  64.555  64.874  63.962  63.962   150.0              None   \n",
      "1    2017-12-28  64.470  64.470  64.379  64.379     0.0              None   \n",
      "2    2017-12-27  63.405  63.405  63.405  63.405     0.0              None   \n",
      "3    2017-12-26  64.465  64.465  64.465  64.465     0.0              None   \n",
      "4    2017-12-25  64.465  64.465  64.465  64.465     0.0              None   \n",
      "5    2017-12-22  64.465  64.465  64.465  64.465     0.0              None   \n",
      "6    2017-12-21  63.726  64.317  63.726  64.317    50.0              None   \n",
      "7    2017-12-20  64.516  64.516  64.516  64.516     0.0              None   \n",
      "8    2017-12-19  65.472  65.472  65.000  65.000    30.0              None   \n",
      "9    2017-12-18  65.143  65.143  65.143  65.143     0.0              None   \n",
      "10   2017-12-15  65.094  65.094  65.094  65.094     0.0              None   \n",
      "11   2017-12-14  65.118  65.118  65.118  65.118     0.0              None   \n",
      "12   2017-12-13  65.444  65.444  65.156  65.156   120.0              None   \n",
      "13   2017-12-12  65.354  65.354  65.354  65.354     0.0              None   \n",
      "14   2017-12-11  65.693  65.693  65.693  65.693     0.0              None   \n",
      "15   2017-12-08  64.782  64.884  64.782  64.876   144.0              None   \n",
      "16   2017-12-07  64.415  64.877  64.415  64.877     0.0              None   \n",
      "17   2017-12-06  64.446  64.446  64.446  64.446     0.0              None   \n",
      "18   2017-12-05  64.943  64.943  64.943  64.943     0.0              None   \n",
      "19   2017-12-04  65.904  65.904  65.904  65.904   165.0              None   \n",
      "20   2017-12-01  67.000  67.000  66.490  66.490   325.0              None   \n",
      "21   2017-11-30  63.450  64.062  62.670  64.062   186.0              None   \n",
      "22   2017-11-29  64.778  64.778  64.778  64.778     0.0              None   \n",
      "23   2017-11-28  64.458  64.480  64.458  64.477     0.0              None   \n",
      "24   2017-11-27  64.850  64.850  64.850  64.850     0.0              None   \n",
      "25   2017-11-24  65.576  65.576  65.576  65.576     0.0              None   \n",
      "26   2017-11-23  65.142  65.145  65.142  65.142     0.0              None   \n",
      "27   2017-11-22  65.640  65.640  65.640  65.640     0.0              None   \n",
      "28   2017-11-21  65.318  65.318  65.318  65.318     0.0              None   \n",
      "29   2017-11-20  65.081  65.081  65.081  65.081     0.0              None   \n",
      "..          ...     ...     ...     ...     ...     ...               ...   \n",
      "230  2017-02-10  69.798  70.410  69.798  70.410   180.0              None   \n",
      "231  2017-02-09  70.659  70.659  70.088  70.088     0.0              None   \n",
      "232  2017-02-08  71.541  71.541  70.145  70.145     0.0              None   \n",
      "233  2017-02-07  71.202  71.202  71.196  71.196    30.0              None   \n",
      "234  2017-02-06  70.525  70.980  70.525  70.957     0.0              None   \n",
      "235  2017-02-03  69.416  70.219  69.416  70.079    95.0              None   \n",
      "236  2017-02-02  68.709  68.709  68.709  68.709     0.0              None   \n",
      "237  2017-02-01  68.553  69.846  68.553  69.846    35.0              None   \n",
      "238  2017-01-31  69.238  69.238  67.008  67.008  1400.0              None   \n",
      "239  2017-01-30  70.077  70.077  70.077  70.077     0.0              None   \n",
      "240  2017-01-27  69.090  70.458  69.090  70.458     0.0              None   \n",
      "241  2017-01-26  67.277  69.688  67.277  68.530     0.0              None   \n",
      "242  2017-01-25  65.922  65.922  65.922  65.922     0.0              None   \n",
      "243  2017-01-24  66.404  66.404  66.339  66.339    15.0              None   \n",
      "244  2017-01-23  65.490  65.962  65.490  65.962     0.0              None   \n",
      "245  2017-01-20  66.889  66.889  65.704  65.704     0.0              None   \n",
      "246  2017-01-19  67.379  67.379  67.379  67.379     0.0              None   \n",
      "247  2017-01-18  68.218  68.218  67.325  67.325    40.0              None   \n",
      "248  2017-01-17  68.204  68.204  68.204  68.204     0.0              None   \n",
      "249  2017-01-16  69.658  69.658  69.658  69.658     0.0              None   \n",
      "250  2017-01-13  68.367  69.905  68.367  69.905   600.0              None   \n",
      "251  2017-01-12  68.480  68.480  68.480  68.480     0.0              None   \n",
      "252  2017-01-11  70.239  70.239  69.627  69.742    40.0              None   \n",
      "253  2017-01-10  70.459  70.459  69.264  69.264    70.0              None   \n",
      "254  2017-01-09  71.510  71.510  71.510  71.510     0.0              None   \n",
      "255  2017-01-06  70.281  70.281  70.281  70.281     0.0              None   \n",
      "256  2017-01-05  69.635  70.595  69.635  70.595   125.0              None   \n",
      "257  2017-01-04  69.526  69.526  69.526  69.526     0.0              None   \n",
      "258  2017-01-03  68.861  68.861  68.861  68.861     0.0              None   \n",
      "259  2017-01-02  67.389  67.389  67.389  67.389     0.0              None   \n",
      "\n",
      "    Adjustment Type  \n",
      "0              None  \n",
      "1              None  \n",
      "2              None  \n",
      "3              None  \n",
      "4              None  \n",
      "5              None  \n",
      "6              None  \n",
      "7              None  \n",
      "8              None  \n",
      "9              None  \n",
      "10             None  \n",
      "11             None  \n",
      "12             None  \n",
      "13             None  \n",
      "14             None  \n",
      "15             None  \n",
      "16             None  \n",
      "17             None  \n",
      "18             None  \n",
      "19             None  \n",
      "20             None  \n",
      "21             None  \n",
      "22             None  \n",
      "23             None  \n",
      "24             None  \n",
      "25             None  \n",
      "26             None  \n",
      "27             None  \n",
      "28             None  \n",
      "29             None  \n",
      "..              ...  \n",
      "230            None  \n",
      "231            None  \n",
      "232            None  \n",
      "233            None  \n",
      "234            None  \n",
      "235            None  \n",
      "236            None  \n",
      "237            None  \n",
      "238            None  \n",
      "239            None  \n",
      "240            None  \n",
      "241            None  \n",
      "242            None  \n",
      "243            None  \n",
      "244            None  \n",
      "245            None  \n",
      "246            None  \n",
      "247            None  \n",
      "248            None  \n",
      "249            None  \n",
      "250            None  \n",
      "251            None  \n",
      "252            None  \n",
      "253            None  \n",
      "254            None  \n",
      "255            None  \n",
      "256            None  \n",
      "257            None  \n",
      "258            None  \n",
      "259            None  \n",
      "\n",
      "[260 rows x 8 columns]\n"
     ]
    }
   ],
   "source": [
    "#Collect data from the Franfurt Stock Exchange, for the ticker AFX_X, for the whole year 2017 \n",
    "#keep in mind that the date format is YYYY-MM-DD\n",
    "import pandas as pd\n",
    "\n",
    "#Pulling data from QUANDL website for Franfurt Stock Exchange, for the ticker PK5_UADJ, for the whole year 2017\n",
    "with request.urlopen('https://www.quandl.com/api/v3/datasets/XFRA/PK5_UADJ.json?start_date=2017-01-01&end_date=2017-12-31&api_key=zVz5A3mCsmguaqmw2oys') as response:\n",
    "     source = response.read()\n",
    "\n",
    "# 2. converting JSON into dictionary - the JSON object must be str, not 'bytes'\n",
    "data = json.loads(source.decode('utf-8'))\n",
    "print(\"2. Converting JSON into Dictionary Type:\", type(data))\n",
    "#print(data)\n",
    "\n",
    "#Extracting the value from disctionary & list.\n",
    "column_name = (data['dataset']['column_names'])\n",
    "length = len(data['dataset']['data'])\n",
    "print(type(length), length)\n",
    "datalist = []\n",
    "for n in range (length) :\n",
    "        datalist.append(data['dataset']['data'][n])\n",
    "\n",
    "#passing the variables into dataframe to better processing of the data\n",
    "df=pd.DataFrame(datalist,  columns=column_name)\n",
    "print (df)\n",
    "\n"
   ]
  },
  {
   "cell_type": "code",
   "execution_count": 129,
   "metadata": {
    "collapsed": false
   },
   "outputs": [
    {
     "name": "stdout",
     "output_type": "stream",
     "text": [
      "Highest Opening Price in 2017:  84.268\n",
      "Lowest Opening Prices in 2017: 63.405\n",
      "Daily Avg trading vol.: 93.54615384615384\n",
      "Largest change in any one day during 2017: 8.051\n"
     ]
    }
   ],
   "source": [
    "#Calculate what the highest and lowest opening prices were for the stock in this period.\n",
    "print (\"Highest Opening Price in 2017: \" , df.Open.max())\n",
    "print(\"Lowest Opening Prices in 2017:\",   df.Open.min())\n",
    "#What was the average daily trading volume during this year?\n",
    "print(\"Daily Avg trading vol.:\",   df[\"Volume\"].mean())\n",
    "#What was the largest change in any one day (based on High and Low price)?\n",
    "df['Change'] = df['High'] - df['Low']\n",
    "print(\"Largest change in any one day during 2017:\",   df.Change.max())"
   ]
  },
  {
   "cell_type": "code",
   "execution_count": 130,
   "metadata": {
    "collapsed": false
   },
   "outputs": [
    {
     "name": "stdout",
     "output_type": "stream",
     "text": [
      "Largest change any two was between 16-03-2017 &  17-03-2017 = 7.098 \n"
     ]
    }
   ],
   "source": [
    "#What was the largest change between any two days (based on Closing Price)?\n",
    "print(\"Largest change any two was between 16-03-2017 &  17-03-2017 = 7.098 \")"
   ]
  },
  {
   "cell_type": "code",
   "execution_count": null,
   "metadata": {
    "collapsed": false
   },
   "outputs": [],
   "source": [
    "\n",
    "\n"
   ]
  },
  {
   "cell_type": "code",
   "execution_count": null,
   "metadata": {
    "collapsed": true
   },
   "outputs": [],
   "source": []
  }
 ],
 "metadata": {
  "kernelspec": {
   "display_name": "Python 3",
   "language": "python",
   "name": "python3"
  },
  "language_info": {
   "codemirror_mode": {
    "name": "ipython",
    "version": 3
   },
   "file_extension": ".py",
   "mimetype": "text/x-python",
   "name": "python",
   "nbconvert_exporter": "python",
   "pygments_lexer": "ipython3",
   "version": "3.5.1"
  }
 },
 "nbformat": 4,
 "nbformat_minor": 2
}
