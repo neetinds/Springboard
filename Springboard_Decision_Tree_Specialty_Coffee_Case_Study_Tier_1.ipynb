{
  "nbformat": 4,
  "nbformat_minor": 0,
  "metadata": {
    "colab": {
      "name": "Springboard Decision Tree Specialty Coffee Case Study - Tier 1.ipynb",
      "provenance": [],
      "collapsed_sections": [
        "uSpkk4Er27ly",
        "UuNUdVC027ly",
        "3pppAJIZ27l1",
        "XL6yGmQY27l8",
        "c3HLaOFk27mB",
        "GdigaqRI27mG",
        "dzZUinX-27mK",
        "4TxsvBr-27mN",
        "G4KbEX0827mV",
        "oe4kkpM027ma",
        "88xuZI4927mi",
        "Iy9DmgIG27mw"
      ],
      "include_colab_link": true
    },
    "kernelspec": {
      "display_name": "Python 3",
      "language": "python",
      "name": "python3"
    },
    "language_info": {
      "codemirror_mode": {
        "name": "ipython",
        "version": 3
      },
      "file_extension": ".py",
      "mimetype": "text/x-python",
      "name": "python",
      "nbconvert_exporter": "python",
      "pygments_lexer": "ipython3",
      "version": "3.7.4"
    }
  },
  "cells": [
    {
      "cell_type": "markdown",
      "metadata": {
        "id": "view-in-github",
        "colab_type": "text"
      },
      "source": [
        "<a href=\"https://colab.research.google.com/github/neetinds/Springboard/blob/master/Springboard_Decision_Tree_Specialty_Coffee_Case_Study_Tier_1.ipynb\" target=\"_parent\"><img src=\"https://colab.research.google.com/assets/colab-badge.svg\" alt=\"Open In Colab\"/></a>"
      ]
    },
    {
      "cell_type": "markdown",
      "metadata": {
        "id": "-iuRLRs_27ki"
      },
      "source": [
        "# **Springboard Decision Tree Specialty Coffee Case Study - Tier 1**"
      ]
    },
    {
      "cell_type": "markdown",
      "metadata": {
        "id": "JqX4KRR327kl"
      },
      "source": [
        "# The Scenario\n",
        "\n",
        "Imagine you've just finished the Springboard Data Science Career Track course, and have been hired by a rising popular specialty coffee company - RR Diner Coffee - as a data scientist. Congratulations!\n",
        "\n",
        "RR Diner Coffee sells two types of thing:\n",
        "- specialty coffee beans, in bulk (by the kilogram only) \n",
        "- coffee equipment and merchandise (grinders, brewing equipment, mugs, books, t-shirts).\n",
        "\n",
        "RR Diner Coffee has three stores, two in Europe and one in the USA. The flagshap store is in the USA, and everything is quality assessed there, before being shipped out. Customers further away from the USA flagship store have higher shipping charges. \n",
        "\n",
        "You've been taken on at RR Diner Coffee because the company are turning towards using data science and machine learning to systematically make decisions about which coffee farmers they should strike deals with. \n",
        "\n",
        "RR Diner Coffee typically buys coffee from farmers, processes it on site, brings it back to the USA, roasts it, packages it, markets it, and ships it (only in bulk, and after quality assurance) to customers internationally. These customers all own coffee shops in major cities like New York, Paris, London, Hong Kong, Tokyo, and Berlin. \n",
        "\n",
        "Now, RR Diner Coffee has a decision about whether to strike a deal with a legendary coffee farm (known as the **Hidden Farm**) in rural China: there are rumours their coffee tastes of lychee and dark chocolate, while also being as sweet as apple juice. \n",
        "\n",
        "It's a risky decision, as the deal will be expensive, and the coffee might not be bought by customers. The stakes are high: times are tough, stocks are low, farmers are reverting to old deals with the larger enterprises and the publicity of selling *Hidden Farm* coffee could save the RR Diner Coffee business. \n",
        "\n",
        "Your first job, then, is ***to build a decision tree to predict how many units of the Hidden Farm Chinese coffee will be purchased by RR Diner Coffee's most loyal customers.*** \n",
        "\n",
        "To this end, you and your team have conducted a survey of 710 of the most loyal RR Diner Coffee customers, collecting data on the customers':\n",
        "- age\n",
        "- gender \n",
        "- salary \n",
        "- whether they have bought at least one RR Diner Coffee product online\n",
        "- their distance from the flagship store in the USA (standardized to a number between 0 and 11) \n",
        "- how much they spent on RR Diner Coffee products on the week of the survey \n",
        "- how much they spent on RR Diner Coffee products in the month preeding the survey\n",
        "- the number of RR Diner coffee bean shipments each customer has ordered over the preceding year. \n",
        "\n",
        "You also asked each customer participating in the survey whether they would buy the Hidden Farm coffee, and some (but not all) of the customers gave responses to that question. \n",
        "\n",
        "You sit back and think: if more than 70% of the interviewed customers are likely to buy the Hidden Farm coffee, you will strike the deal with the local Hidden Farm farmers and sell the coffee. Otherwise, you won't strike the deal and the Hidden Farm coffee will remain in legends only. There's some doubt in your mind about whether 70% is a reasonable threshold, but it'll do for the moment. \n",
        "\n",
        "To solve the problem, then, you will build a decision tree to implement a classification solution. \n",
        "\n",
        "\n",
        "-------------------------------\n",
        "As ever, this notebook is **tiered**, meaning you can elect that tier that is right for your confidence and skill level. There are 3 tiers, with tier 1 being the easiest and tier 3 being the hardest. This is ***tier 1***, so a gentle introduction to classification models using decision trees. \n",
        "\n",
        "**1. Sourcing and loading** \n",
        "- Import packages\n",
        "- Load data\n",
        "- Explore the data\n",
        "\n",
        " \n",
        "**2. Cleaning, transforming and visualizing**\n",
        "- Cleaning the data\n",
        "- Train/test split\n",
        "  \n",
        "  \n",
        "**3. Modelling** \n",
        "- Model 1: Entropy model - no max_depth\n",
        "- Model 2: Gini impurity model - no max_depth\n",
        "- Model 3: Entropy model - max depth 3\n",
        "- Model 4: Gini impurity model - max depth 3\n",
        "\n",
        "\n",
        "**4. Evaluating and concluding** \n",
        "- How many customers will buy Hidden Farm coffee?\n",
        "- Decision\n",
        "\n",
        "**5. Random Forest** \n",
        "- Import necessary modules\n",
        "- Model\n",
        "- Revise conclusion\n",
        "    "
      ]
    },
    {
      "cell_type": "markdown",
      "metadata": {
        "id": "3zTlwi4M27km"
      },
      "source": [
        "# 0. Overview\n",
        "\n",
        "This notebook uses decision trees to determine whether the factors of salary, gender, age, how much money the customer spent last week and during the preceding month on RR Diner Coffee products, how many kilogram coffee bags the customer bought over the last year, whether they have bought at least one RR Diner Coffee product online, and their distance from the flagship store in the USA, could predict whether customers would purchase the Hidden Farm coffee if a deal with its farmers were struck. "
      ]
    },
    {
      "cell_type": "code",
      "metadata": {
        "colab": {
          "base_uri": "https://localhost:8080/"
        },
        "id": "XekYMG6ylfO6",
        "outputId": "e9ca358d-45d1-46b8-df3c-8724a2086a56"
      },
      "source": [
        "from google.colab import drive\n",
        "drive.mount('/content/gdrive')"
      ],
      "execution_count": 1,
      "outputs": [
        {
          "output_type": "stream",
          "text": [
            "Mounted at /content/gdrive\n"
          ],
          "name": "stdout"
        }
      ]
    },
    {
      "cell_type": "markdown",
      "metadata": {
        "id": "GuKgPSPS27ko"
      },
      "source": [
        "# 1. Sourcing and loading\n",
        "## 1a. Import Packages"
      ]
    },
    {
      "cell_type": "code",
      "metadata": {
        "id": "GsP21kkU27kq"
      },
      "source": [
        "import pandas as pd\n",
        "import numpy as np\n",
        "from sklearn import tree, metrics\n",
        "from sklearn.model_selection import train_test_split\n",
        "import seaborn as sns\n",
        "import matplotlib.pyplot as plt\n",
        "from io import StringIO  \n",
        "from IPython.display import Image  \n",
        "import pydotplus"
      ],
      "execution_count": 2,
      "outputs": []
    },
    {
      "cell_type": "markdown",
      "metadata": {
        "id": "eLV5cfvy27kx"
      },
      "source": [
        "## 1b. Load data "
      ]
    },
    {
      "cell_type": "code",
      "metadata": {
        "colab": {
          "base_uri": "https://localhost:8080/",
          "height": 204
        },
        "id": "iaAFg7J127kx",
        "outputId": "91942176-8bb0-4433-e817-0639e77805b6"
      },
      "source": [
        "# Read in the data to a variable called coffeeData\n",
        "coffee = pd.read_csv(\"/content/gdrive/MyDrive/Springboard-master/Decision_Tree_Specialty_Coffee_Case_Study/data/RRDinerCoffeeData.csv\")\n",
        "coffee.head()"
      ],
      "execution_count": 3,
      "outputs": [
        {
          "output_type": "execute_result",
          "data": {
            "text/html": [
              "<div>\n",
              "<style scoped>\n",
              "    .dataframe tbody tr th:only-of-type {\n",
              "        vertical-align: middle;\n",
              "    }\n",
              "\n",
              "    .dataframe tbody tr th {\n",
              "        vertical-align: top;\n",
              "    }\n",
              "\n",
              "    .dataframe thead th {\n",
              "        text-align: right;\n",
              "    }\n",
              "</style>\n",
              "<table border=\"1\" class=\"dataframe\">\n",
              "  <thead>\n",
              "    <tr style=\"text-align: right;\">\n",
              "      <th></th>\n",
              "      <th>Age</th>\n",
              "      <th>Gender</th>\n",
              "      <th>num_coffeeBags_per_year</th>\n",
              "      <th>spent_week</th>\n",
              "      <th>spent_month</th>\n",
              "      <th>SlrAY</th>\n",
              "      <th>Distance</th>\n",
              "      <th>Online</th>\n",
              "      <th>Decision</th>\n",
              "    </tr>\n",
              "  </thead>\n",
              "  <tbody>\n",
              "    <tr>\n",
              "      <th>0</th>\n",
              "      <td>36</td>\n",
              "      <td>Female</td>\n",
              "      <td>0</td>\n",
              "      <td>24</td>\n",
              "      <td>73</td>\n",
              "      <td>42789</td>\n",
              "      <td>0.003168</td>\n",
              "      <td>0</td>\n",
              "      <td>1.0</td>\n",
              "    </tr>\n",
              "    <tr>\n",
              "      <th>1</th>\n",
              "      <td>24</td>\n",
              "      <td>Male</td>\n",
              "      <td>0</td>\n",
              "      <td>44</td>\n",
              "      <td>164</td>\n",
              "      <td>74035</td>\n",
              "      <td>0.520906</td>\n",
              "      <td>0</td>\n",
              "      <td>NaN</td>\n",
              "    </tr>\n",
              "    <tr>\n",
              "      <th>2</th>\n",
              "      <td>24</td>\n",
              "      <td>Male</td>\n",
              "      <td>0</td>\n",
              "      <td>39</td>\n",
              "      <td>119</td>\n",
              "      <td>30563</td>\n",
              "      <td>0.916005</td>\n",
              "      <td>1</td>\n",
              "      <td>1.0</td>\n",
              "    </tr>\n",
              "    <tr>\n",
              "      <th>3</th>\n",
              "      <td>20</td>\n",
              "      <td>Male</td>\n",
              "      <td>0</td>\n",
              "      <td>30</td>\n",
              "      <td>107</td>\n",
              "      <td>13166</td>\n",
              "      <td>0.932098</td>\n",
              "      <td>1</td>\n",
              "      <td>NaN</td>\n",
              "    </tr>\n",
              "    <tr>\n",
              "      <th>4</th>\n",
              "      <td>24</td>\n",
              "      <td>Female</td>\n",
              "      <td>0</td>\n",
              "      <td>20</td>\n",
              "      <td>36</td>\n",
              "      <td>14244</td>\n",
              "      <td>0.965881</td>\n",
              "      <td>0</td>\n",
              "      <td>1.0</td>\n",
              "    </tr>\n",
              "  </tbody>\n",
              "</table>\n",
              "</div>"
            ],
            "text/plain": [
              "   Age  Gender  num_coffeeBags_per_year  ...  Distance  Online  Decision\n",
              "0   36  Female                        0  ...  0.003168       0       1.0\n",
              "1   24    Male                        0  ...  0.520906       0       NaN\n",
              "2   24    Male                        0  ...  0.916005       1       1.0\n",
              "3   20    Male                        0  ...  0.932098       1       NaN\n",
              "4   24  Female                        0  ...  0.965881       0       1.0\n",
              "\n",
              "[5 rows x 9 columns]"
            ]
          },
          "metadata": {
            "tags": []
          },
          "execution_count": 3
        }
      ]
    },
    {
      "cell_type": "markdown",
      "metadata": {
        "id": "tJJHzGb127k1"
      },
      "source": [
        "## 1c. Explore the data"
      ]
    },
    {
      "cell_type": "markdown",
      "metadata": {
        "id": "8B-HKvF627k1"
      },
      "source": [
        "As we've seen, exploration entails doing things like checking out the **initial appearance** of the data with head(), the **dimensions** of our data with .shape, the **data types** of the variables with .info(), the **number of non-null values**, how much **memory** is being used to store the data, and finally the major summary statistcs capturing **central tendancy, dispersion and the null-excluding shape of the dataset's distribution**. \n",
        "\n",
        "How much of this can you do yourself by this point in the course? Have a real go. "
      ]
    },
    {
      "cell_type": "code",
      "metadata": {
        "id": "5JmlDkE027k2"
      },
      "source": [
        "# Call head() on your data \n",
        "_ _ _._ _ _(8)"
      ],
      "execution_count": null,
      "outputs": []
    },
    {
      "cell_type": "code",
      "metadata": {
        "id": "XBGDWgCR27k6"
      },
      "source": [
        "# Call .shape on your data\n",
        "_ _ _"
      ],
      "execution_count": null,
      "outputs": []
    },
    {
      "cell_type": "code",
      "metadata": {
        "id": "UZH6lJWU27k8"
      },
      "source": [
        "# Call info() on your data\n",
        "_ _ _ "
      ],
      "execution_count": null,
      "outputs": []
    },
    {
      "cell_type": "code",
      "metadata": {
        "id": "jqSVLUm327k_"
      },
      "source": [
        "# Call describe() on your data with the parameter include = 'all' to get the relevant summary statistics for your data \n",
        "_ _ _ "
      ],
      "execution_count": null,
      "outputs": []
    },
    {
      "cell_type": "markdown",
      "metadata": {
        "id": "IKleHghD27lC"
      },
      "source": [
        "# 2. Cleaning, transforming and visualizing\n",
        "## 2a. Cleaning the data"
      ]
    },
    {
      "cell_type": "markdown",
      "metadata": {
        "id": "rrXQN3jK27lF"
      },
      "source": [
        "Some datasets don't require any cleaning, but almost all do. This one does. We need to replace '1.0' and '0.0' in the 'Decision' column by 'YES' and 'NO' respectively, clean up the values of the 'gender' column, and change the column names to words which maximize meaning and clarity. "
      ]
    },
    {
      "cell_type": "markdown",
      "metadata": {
        "id": "HZVP2hxf27lG"
      },
      "source": [
        "First, let's change the name of `spent_week`, `spent_month`, and `SlrAY` to `spent_last_week` and `spent_last_month` and `salary` respectively."
      ]
    },
    {
      "cell_type": "code",
      "metadata": {
        "id": "iiR6dxn427lH"
      },
      "source": [
        "# Call .columns on your data to check out the names of our data's columns \n",
        "_ __ "
      ],
      "execution_count": null,
      "outputs": []
    },
    {
      "cell_type": "code",
      "metadata": {
        "id": "AcGZ5jU527lK"
      },
      "source": [
        "# Using .rename(), make the relevant name changes to spent_week and spent_per_week.\n",
        "# Remember: you can either do a reassignment, or use inplace=True. Both will change the value of coffeeData\n",
        "coffeeData._ _ _(columns = {\"spent_month\":\"spent_last_month\", \"spent_week\":\"spent_last_week\", \"SlrAY\":\"Salary\"},\n",
        "            inplace = True)"
      ],
      "execution_count": null,
      "outputs": []
    },
    {
      "cell_type": "code",
      "metadata": {
        "id": "V4CHOpkA27lM"
      },
      "source": [
        "# Check out the column names\n",
        "_ _ _.columns"
      ],
      "execution_count": null,
      "outputs": []
    },
    {
      "cell_type": "code",
      "metadata": {
        "id": "6XuI18FV27lQ"
      },
      "source": [
        "# Let's have a closer look at the gender column. Its values need cleaning.\n",
        "# Call describe() on the gender column \n",
        "coffeeData[\"_ _ _\"].describe()"
      ],
      "execution_count": null,
      "outputs": []
    },
    {
      "cell_type": "code",
      "metadata": {
        "id": "ZPe4W_pM27lU"
      },
      "source": [
        "# Call unique() on the gender column to see its unique values \n",
        "coffeeData[\"Gender\"]._ _ _()"
      ],
      "execution_count": null,
      "outputs": []
    },
    {
      "cell_type": "markdown",
      "metadata": {
        "id": "NwEMG7MB27lY"
      },
      "source": [
        "We can see a bunch of inconsistency here.\n",
        "\n",
        "Use replace() to make the values of the `gender` column just `Female` and `Male`."
      ]
    },
    {
      "cell_type": "code",
      "metadata": {
        "id": "II50etW127lZ"
      },
      "source": [
        "# Use the function .replace() on the column \"gender\"; replace all alternate values with 'Female'\n",
        "coffeeData[\"Gender\"] = coffeeData[\"Gender\"]._ _ _([\"female\", \"f \", \"FEMALE\", \"F\"], \"Female\")"
      ],
      "execution_count": null,
      "outputs": []
    },
    {
      "cell_type": "code",
      "metadata": {
        "id": "5N3wcWjO27lb"
      },
      "source": [
        "# Let's check the unique values of the column \"gender\"\n",
        "coffeeData[\"Gender\"]._ _ _()"
      ],
      "execution_count": null,
      "outputs": []
    },
    {
      "cell_type": "code",
      "metadata": {
        "id": "nlpMhrAR27le"
      },
      "source": [
        "# Use the function .replace() on the column \"gender\"; replace all alternate values with \"Male\"\n",
        "coffeeData[\"Gender\"] = _ _ _._ _ _([\"MALE\", \"male\", \"M\"], \"_ _ _\")"
      ],
      "execution_count": null,
      "outputs": []
    },
    {
      "cell_type": "code",
      "metadata": {
        "id": "nAoMxGNb27lh"
      },
      "source": [
        "# Let's check the unique values of the column \"gender\"\n",
        "coffeeData[\"Gender\"].unique()"
      ],
      "execution_count": null,
      "outputs": []
    },
    {
      "cell_type": "code",
      "metadata": {
        "id": "VOurxC7n27lj"
      },
      "source": [
        "# Check out the unique values of the column 'Decision':\n",
        "_ _ _ "
      ],
      "execution_count": null,
      "outputs": []
    },
    {
      "cell_type": "markdown",
      "metadata": {
        "id": "13DjAqVR27lm"
      },
      "source": [
        "We now want to replace `1.0` and `0.0` in the `Decision` column by `YES` and `NO` respectively."
      ]
    },
    {
      "cell_type": "code",
      "metadata": {
        "id": "PZH3aTEt27lm"
      },
      "source": [
        "# Call replace() on the Decision column to replace 1.0 and 0.0 by 'Yes' and 'No'\n",
        "coffeeData[\"Decision\"] = coffeeData[\"Decision\"].replace(1.0, \"YES\")\n",
        "_ _ _ \n",
        "coffeeData.info()"
      ],
      "execution_count": null,
      "outputs": []
    },
    {
      "cell_type": "code",
      "metadata": {
        "id": "EfyWNmGu27lt"
      },
      "source": [
        "# Check that our replacing those values with 'YES' and 'NO' worked, with unique()\n",
        "coffeeData[\"Decision\"]._ _ _()"
      ],
      "execution_count": null,
      "outputs": []
    },
    {
      "cell_type": "markdown",
      "metadata": {
        "id": "uSpkk4Er27ly"
      },
      "source": [
        "## 2b. Train/test split\n",
        "To execute the train/test split properly, we need to do five things: \n",
        "1. Drop all rows with a null value in the `Decision` column, and save the result as NOPrediction: a dataset that will contain all known values for the decision \n",
        "2. Visualize the data using scatter and boxplots of several variables in the y-axis and the decision on the x-axis\n",
        "3. Get the subset of coffeeData with null values in the `Decision` column, and save that subset as Prediction\n",
        "4. Divide the NOPrediction subset into X and y, and then further divide those subsets into train and test subsets for X and y respectively\n",
        "5. Create dummy variables to deal with categorical inputs"
      ]
    },
    {
      "cell_type": "markdown",
      "metadata": {
        "id": "UuNUdVC027ly"
      },
      "source": [
        "### 1. Drop all null values within the `Decision` column, and save the result as NoPrediction"
      ]
    },
    {
      "cell_type": "code",
      "metadata": {
        "id": "kYEjdjQi27lz"
      },
      "source": [
        "# NoPrediction will contain all known values for the decision\n",
        "# Call dropna() on coffeeData, and store the result in a variable NOPrediction \n",
        "# Call describe() on the Decision column of NoPrediction after calling dropna() on coffeeData\n",
        "NOPrediction = _ _ _ \n",
        "NOPrediction[\"_ _ _\"].describe()"
      ],
      "execution_count": null,
      "outputs": []
    },
    {
      "cell_type": "markdown",
      "metadata": {
        "id": "3pppAJIZ27l1"
      },
      "source": [
        "### 2. Visualize the data using scatter and boxplots of several variables in the y-axis and the decision on the x-axis"
      ]
    },
    {
      "cell_type": "code",
      "metadata": {
        "id": "GpJlIyNU27l2"
      },
      "source": [
        "# Exploring our new NOPrediction dataset\n",
        "# Call boxplot() on our Seaborn object sns, and plug y=\"spent_today\", x= \"Decision\", data=NOPrediction\n",
        "# Don't forget to call plt.slow() after that \n",
        "sns._ _ _(y=\"spent_last_week\", x= \"Decision\", data=NOPrediction)\n",
        "plt.show()"
      ],
      "execution_count": null,
      "outputs": []
    },
    {
      "cell_type": "markdown",
      "metadata": {
        "id": "Ulje1R9b27l4"
      },
      "source": [
        "Can you admissibly conclude anything from this boxplot? Write your answer here:\n",
        "\n"
      ]
    },
    {
      "cell_type": "code",
      "metadata": {
        "id": "HWrGiTkW27l5"
      },
      "source": [
        "# Call scatterplot() on our Seaborn object sns, and plug in y=\"spent_last_month\", x= \"distance\", hue = \"Decision\", data =NOPrediction.\n",
        "sns._ _ _(y=\"spent_last_month\", x= \"Distance\", hue = \"Decision\", data =NOPrediction)"
      ],
      "execution_count": null,
      "outputs": []
    },
    {
      "cell_type": "markdown",
      "metadata": {
        "id": "JRNoE4Tb27l8"
      },
      "source": [
        "Can you admissibly conclude anything from this scatterplot? Remember: we are trying to build a tree to classify unseen examples. Write your answer here:"
      ]
    },
    {
      "cell_type": "markdown",
      "metadata": {
        "id": "XL6yGmQY27l8"
      },
      "source": [
        "### 3. Get the subset of coffeeData with null values in the Decision column, and save that subset as Prediction"
      ]
    },
    {
      "cell_type": "code",
      "metadata": {
        "id": "EO9pctLS27l9"
      },
      "source": [
        "# Get just those rows whose value for the Decision column is null. There are lots of ways to do this.\n",
        "# One way is to subset on pd.isnull(data['Decision']). Use square brackets, and plug that in as parameter.\n",
        "# Store the result in a variable called Prediction \n",
        "# Call a head() on the result to see it's worked out alright \n",
        "_ _ _ = coffeeData[pd._ _ _(coffeeData[\"Decision\"])]\n",
        "Prediction.head()"
      ],
      "execution_count": null,
      "outputs": []
    },
    {
      "cell_type": "code",
      "metadata": {
        "id": "LAEU5mem27l_"
      },
      "source": [
        "# Call describe() on Prediction\n",
        "_ _ _._ _ _()"
      ],
      "execution_count": null,
      "outputs": []
    },
    {
      "cell_type": "markdown",
      "metadata": {
        "id": "c3HLaOFk27mB"
      },
      "source": [
        "### 4. Divide the NOPrediction subset into X and y"
      ]
    },
    {
      "cell_type": "code",
      "metadata": {
        "id": "bkD9WISM27mC"
      },
      "source": [
        "# First of all, let's check the names of the columns of NOPrediction\n",
        "_ _ _.columns"
      ],
      "execution_count": null,
      "outputs": []
    },
    {
      "cell_type": "code",
      "metadata": {
        "id": "O8ndj3ZB27mE"
      },
      "source": [
        "# Let's do our feature selection.\n",
        "# Make a variable called 'features', and a list containing the strings of every column except \"Decision\"; that is:\n",
        "# [\"age\", \"gender\", \"num_coffeeBags_per_year\", \"spent_last_week\", \"spent_last_month\", \"Salary\", \"Distance\", \"Online\"]\n",
        "_ _ _ = [\"Age\", \"Gender\", \"num_coffeeBags_per_year\", \"spent_last_week\", \"spent_last_month\",\n",
        "       \"Salary\", \"Distance\", \"Online\"]\n",
        "\n",
        "\n",
        "# Make an explanatory variable called X, and assign it: NoPrediction[features]\n",
        "X = _ _ _[features]\n",
        "\n",
        "# Make a dependent variable called y, and assign it: NoPrediction.Decision\n",
        "y = NOPrediction._ _ _"
      ],
      "execution_count": null,
      "outputs": []
    },
    {
      "cell_type": "markdown",
      "metadata": {
        "id": "dzZUinX-27mK"
      },
      "source": [
        "### 5. Create dummy variables to deal with categorical inputs\n",
        "One-hot encoding replaces each unique value of a given column with a new column, and puts a 1 in the new column for a given row just if its initial value for the original column matches the new column. Check out [this resource](https://hackernoon.com/what-is-one-hot-encoding-why-and-when-do-you-have-to-use-it-e3c6186d008f) if you haven't seen one-hot-encoding before. \n",
        "\n",
        "**Note**: We will do this before we do our train/test split as to do it after could mean that some categories only end up in the train or test split of our data by chance and this would then lead to different shapes of data for our `X_train` and `X_test` which could/would cause downstream issues when fitting or predicting using a trained model."
      ]
    },
    {
      "cell_type": "code",
      "metadata": {
        "id": "pZTpJpBX27mL"
      },
      "source": [
        "# One-hot encoding all features in training set.\n",
        "# Call get_dummies() on our Pandas objet pd, and pass X to it. Reassign the result back to X. \n",
        "_ = pd.get_dummies(_)"
      ],
      "execution_count": null,
      "outputs": []
    },
    {
      "cell_type": "markdown",
      "metadata": {
        "id": "GdigaqRI27mG"
      },
      "source": [
        "### 6. Further divide those subsets into train and test subsets for X and y respectively: X_train, X_test, y_train, y_test"
      ]
    },
    {
      "cell_type": "code",
      "metadata": {
        "id": "E8aJs3PL27mG"
      },
      "source": [
        "# Call train_test_split on X, y, test_size = 0.25, and random_state = 246\n",
        "# Make new variables called X_train, X_test, y_train, and y_test\n",
        "X_train, X_test, y_train, y_test=_ _ _(X, y, \n",
        "                                                  test_size = 0.25,\n",
        "                                                  random_state = 246)"
      ],
      "execution_count": null,
      "outputs": []
    },
    {
      "cell_type": "markdown",
      "metadata": {
        "id": "cp0ibTlP27mN"
      },
      "source": [
        "# 3. Modelling\n",
        "It's useful to look at the scikit-learn documentation on decision trees https://scikit-learn.org/stable/modules/tree.html before launching into applying them. If you haven't seen them before, take a look at that link, in particular the section `1.10.5.` "
      ]
    },
    {
      "cell_type": "markdown",
      "metadata": {
        "id": "4TxsvBr-27mN"
      },
      "source": [
        "## Model 1: Entropy model - no max_depth\n",
        "\n",
        "We'll give you a little more guidance here, as the Python is hard to deduce, and scikitlearn takes some getting used to.\n",
        "\n",
        "Theoretically, let's remind ourselves of what's going on with a decision tree implementing an entropy model.\n",
        "\n",
        "Ross Quinlan's **ID3 Algorithm** was one of the first, and one of the most basic, to use entropy as a metric.\n",
        "\n",
        "**Entropy** is a measure of how uncertain we are about which category the data-points fall into at a given point in the tree. The **Information gain** of a specific feature with a threshold (such as 'spent_last_month <= 138.0') is the difference in entropy that exists before and after splitting on that feature; i.e., the information we gain about the categories of the data-points by splitting on that feature and that threshold. \n",
        "\n",
        "Naturally, we want to minimize entropy and maximize information gain. Quinlan's ID3 algorithm is designed to output a tree such that the features at each node, starting from the root, and going all the way down to the leaves, have maximial information gain. We want a tree whose leaves have elements that are *homogeneous*, that is, all of the same category. \n",
        "\n",
        "The first model will be the hardest. Persevere and you'll reap the rewards: you can use almost exactly the same code for the other models. "
      ]
    },
    {
      "cell_type": "code",
      "metadata": {
        "id": "dn_gV-_k27mO"
      },
      "source": [
        "# Declare a variable called entr_model, and assign it: tree.DecisionTreeClassifier(criterion=\"entropy\", random_state = 1234)\n",
        "_ _ _ = tree.DecisionTreeClassifier(criterion=\"_ _ _\", random_state = 1234)\n",
        "\n",
        "# Call fit() on entr_model, and pass in X_train and y_train, in that order \n",
        "entr_model._ _ _(X_train, y_train)\n",
        "\n",
        "# Call predict() on entr_model with X_test passed to it, and assign the result to a variable y_pred \n",
        "y_pred = entr_model._ _ _(X_test)\n",
        "\n",
        "# Assign y_pred the following: pd.Series(y_pred)\n",
        "y_pred = pd.Series(_ _ _)\n",
        "\n",
        "# Check out entr_model\n",
        "entr_model"
      ],
      "execution_count": null,
      "outputs": []
    },
    {
      "cell_type": "code",
      "metadata": {
        "id": "Bk61p9Bu27mQ"
      },
      "source": [
        "# Now we want to visualize the tree\n",
        "dot_data = StringIO()\n",
        "\n",
        "# We can do so with export_graphviz\n",
        "tree._ _ _(entr_model, out_file=dot_data,  \n",
        "                filled=True, rounded=True,\n",
        "                special_characters=True, feature_names=X_train.columns,class_names = [\"NO\", \"YES\"]) \n",
        "\n",
        "# Alternatively for class_names use entr_model.classes_\n",
        "graph = pydotplus.graph_from_dot_data(dot_data.getvalue())  \n",
        "Image(graph.create_png())"
      ],
      "execution_count": null,
      "outputs": []
    },
    {
      "cell_type": "markdown",
      "metadata": {
        "id": "G4KbEX0827mV"
      },
      "source": [
        "## Model 1: Entropy model - no max_depth: Interpretation and evaluation"
      ]
    },
    {
      "cell_type": "code",
      "metadata": {
        "id": "O7wTOJqo27mW"
      },
      "source": [
        "# Run this block for model evaluation metrics \n",
        "print(\"Model Entropy - no max depth\")\n",
        "print(\"Accuracy:\", metrics.accuracy_score(y_test,y_pred))\n",
        "print(\"Balanced accuracy:\", metrics.balanced_accuracy_score(y_test,y_pred))\n",
        "print('Precision score for \"Yes\"' , metrics.precision_score(y_test,y_pred, pos_label = \"YES\"))\n",
        "print('Precision score for \"No\"' , metrics.precision_score(y_test,y_pred, pos_label = \"NO\"))\n",
        "print('Recall score for \"Yes\"' , metrics.recall_score(y_test,y_pred, pos_label = \"YES\"))\n",
        "print('Recall score for \"No\"' , metrics.recall_score(y_test,y_pred, pos_label = \"NO\"))"
      ],
      "execution_count": null,
      "outputs": []
    },
    {
      "cell_type": "markdown",
      "metadata": {
        "id": "ptzUYFpt27mY"
      },
      "source": [
        "What can you infer from these results? Write your conclusions here:"
      ]
    },
    {
      "cell_type": "markdown",
      "metadata": {
        "id": "oe4kkpM027ma"
      },
      "source": [
        "## Model 2: Gini impurity model - no max_depth\n",
        "\n",
        "Gini impurity, like entropy, is a measure of how well a given feature (and threshold) splits the data into categories.\n",
        "\n",
        "Their equations are similar, but Gini impurity doesn't require logorathmic functions, which can be computationally expensive. "
      ]
    },
    {
      "cell_type": "code",
      "metadata": {
        "id": "9d4WO4lt27ma"
      },
      "source": [
        "# Make a variable called gini_model, and assign it exactly what you assigned entr_model with above, but with the\n",
        "# criterion changed to 'gini'\n",
        "_ _ _ = tree.DecisionTreeClassifier(_ _ _=\"_ _ _\", _ _ _ = 1234)\n",
        "\n",
        "# Call fit() on the gini_model as you did with the entr_model\n",
        "gini_model._ _ _(_ _ _, y_train)\n",
        "\n",
        "# Call predict() on the gini_model as you did with the entr_model \n",
        "y_pred = _ _ _.predict(X_test)\n",
        "\n",
        "# Turn y_pred into a series, as before\n",
        "y_pred = pd.Series(_ _ _)\n",
        "\n",
        "# Check out gini_model\n",
        "gini_model"
      ],
      "execution_count": null,
      "outputs": []
    },
    {
      "cell_type": "code",
      "metadata": {
        "id": "cdWfcr7n27mc"
      },
      "source": [
        "# As before, but make the model name gini_model\n",
        "dot_data = StringIO()\n",
        "tree._ _ _ (_ _ _ , out_file=dot_data,  \n",
        "                filled=True, rounded=True,\n",
        "                special_characters=True, feature_names=X_train.columns,class_names = [\"NO\", \"YES\"])\n",
        "\n",
        "# Alternatively for class_names use gini_model.classes_\n",
        "graph = pydotplus.graph_from_dot_data(dot_data.getvalue())  \n",
        "Image(graph.create_png())"
      ],
      "execution_count": null,
      "outputs": []
    },
    {
      "cell_type": "code",
      "metadata": {
        "id": "yCgKCQEM27me"
      },
      "source": [
        "# Run this block for model evaluation\n",
        "print(\"Model Gini impurity model\")\n",
        "print(\"Accuracy:\", metrics.accuracy_score(y_test,y_pred))\n",
        "print(\"Balanced accuracy:\", metrics.balanced_accuracy_score(y_test,y_pred))\n",
        "print('Precision score' , metrics.precision_score(y_test,y_pred, pos_label = \"YES\"))\n",
        "print('Recall score' , metrics.recall_score(y_test,y_pred, pos_label = \"NO\"))"
      ],
      "execution_count": null,
      "outputs": []
    },
    {
      "cell_type": "markdown",
      "metadata": {
        "id": "FgCPZf0c27mh"
      },
      "source": [
        "How do the results here compare to the previous model? Write your judgements here: "
      ]
    },
    {
      "cell_type": "markdown",
      "metadata": {
        "id": "88xuZI4927mi"
      },
      "source": [
        "## Model 3: Entropy model - max depth 3\n",
        "We're going to try to limit the depth of our decision tree, using entropy first.  \n",
        "\n",
        "As you know, we need to strike a balance with tree depth. \n",
        "\n",
        "Insufficiently deep, and we're not giving the tree the opportunity to spot the right patterns in the training data.\n",
        "\n",
        "Excessively deep, and we're probably going to make a tree that overfits to the training data, at the cost of very high error on the (hitherto unseen) test data. \n",
        "\n",
        "Sophisticated data scientists use methods like random search with cross-validation to systematically find a good depth for their tree. We'll start with picking 3, and see how that goes. "
      ]
    },
    {
      "cell_type": "code",
      "metadata": {
        "id": "sIqsFSm127mj"
      },
      "source": [
        "# Made a model as before, but call it entr_model2, and make the max_depth parameter equal to 3. \n",
        "# Execute the fitting, predicting, and Series operations as before\n",
        "_ _ _ = _ _ _._ _ _(criterion=\"entropy\", max_depth = _ _ _, random_state = 1234)\n",
        "entr_model2._ _ _(X_train, y_train)\n",
        "y_pred = entr_model2._ _ _(X_test)\n",
        "y_pred = pd._ _ _(y_pred)\n",
        "entr_model2"
      ],
      "execution_count": null,
      "outputs": []
    },
    {
      "cell_type": "code",
      "metadata": {
        "id": "jQMihcyY27ml"
      },
      "source": [
        "# As before, we need to visualize the tree to grasp its nature\n",
        "dot_data = StringIO()\n",
        "tree.export_graphviz(entr_model2, out_file=dot_data,  \n",
        "                filled=True, rounded=True,\n",
        "                special_characters=True, feature_names=X_train.columns,class_names = [\"NO\", \"YES\"])\n",
        "\n",
        "# Alternatively for class_names use entr_model2.classes_\n",
        "graph = pydotplus.graph_from_dot_data(dot_data.getvalue())  \n",
        "Image(graph.create_png())"
      ],
      "execution_count": null,
      "outputs": []
    },
    {
      "cell_type": "code",
      "metadata": {
        "id": "FUnwNy3w27mn"
      },
      "source": [
        "# Run this block for model evaluation \n",
        "print(\"Model Entropy model max depth 3\")\n",
        "print(\"Accuracy:\", metrics.accuracy_score(y_test,y_pred))\n",
        "print(\"Balanced accuracy:\", metrics.balanced_accuracy_score(y_test,y_pred))\n",
        "print('Precision score for \"Yes\"' , metrics.precision_score(y_test,y_pred, pos_label = \"YES\"))\n",
        "print('Recall score for \"No\"' , metrics.recall_score(y_test,y_pred, pos_label = \"NO\"))"
      ],
      "execution_count": null,
      "outputs": []
    },
    {
      "cell_type": "markdown",
      "metadata": {
        "id": "d5U22BCW27mv"
      },
      "source": [
        "So our accuracy decreased, but is this certainly an inferior tree to the max depth original tree we did with Model 1? Write your conclusions here: "
      ]
    },
    {
      "cell_type": "markdown",
      "metadata": {
        "id": "Iy9DmgIG27mw"
      },
      "source": [
        "## Model 4: Gini impurity  model - max depth 3\n",
        "We're now going to try the same with the Gini impurity model. "
      ]
    },
    {
      "cell_type": "code",
      "metadata": {
        "id": "QB-UrxQv27mw"
      },
      "source": [
        "# As before, make a variable, but call it gini_model2, and ensure the max_depth parameter is set to 3\n",
        "_ _ _ = _ _ _._ _ _(criterion='gini', _ _ _ = 1234, max_depth = 3)\n",
        "\n",
        "# Do the fit, predict, and series transformations as before. \n",
        "gini_model2._ _ _(X_train, y_train)\n",
        "y_pred = gini_model2._ _ _(X_test)\n",
        "_ _ _ = pd.Series(y_pred)\n",
        "gini_model2"
      ],
      "execution_count": null,
      "outputs": []
    },
    {
      "cell_type": "code",
      "metadata": {
        "id": "xgAGJ8Aw27mz"
      },
      "source": [
        "dot_data = StringIO()\n",
        "tree._ _ _(gini_model2, out_file=dot_data,  \n",
        "                filled=True, rounded=True,\n",
        "                special_characters=True, feature_names=X_train.columns,class_names = [\"NO\", \"YES\"])\n",
        "\n",
        "# Alternatively for class_names use gini_model2.classes_\n",
        "graph = pydotplus.graph_from_dot_data(dot_data.getvalue())  \n",
        "Image(graph.create_png())"
      ],
      "execution_count": null,
      "outputs": []
    },
    {
      "cell_type": "code",
      "metadata": {
        "id": "HKNGp4-127m0"
      },
      "source": [
        "print(\"Gini impurity  model - max depth 3\")\n",
        "print(\"Accuracy:\", metrics.accuracy_score(y_test,y_pred))\n",
        "print(\"Balanced accuracy:\", metrics.balanced_accuracy_score(y_test,y_pred))\n",
        "print('Precision score' , metrics.precision_score(y_test,y_pred, pos_label = \"YES\"))\n",
        "print('Recall score' , metrics.recall_score(y_test,y_pred, pos_label = \"NO\"))"
      ],
      "execution_count": null,
      "outputs": []
    },
    {
      "cell_type": "markdown",
      "metadata": {
        "id": "KCgp_QEh27m2"
      },
      "source": [
        "Now this is an elegant tree. Its accuracy might not be the highest, but it's still the best model we've produced so far. Why is that? Write your answer here: "
      ]
    },
    {
      "cell_type": "markdown",
      "metadata": {
        "id": "XNwLDdpq27m3"
      },
      "source": [
        "# 4. Evaluating and concluding\n",
        "## 4a. How many customers will buy Hidden Farm coffee? \n",
        "Let's first ascertain how many loyal customers claimed, in the survey, that they will purchase the Hidden Farm coffee. "
      ]
    },
    {
      "cell_type": "code",
      "metadata": {
        "id": "pxCzly1T27m7"
      },
      "source": [
        "# Call value_counts() on the 'Decision' column of the original coffeeData\n",
        "coffeeData[\"Decision\"]._ _ _()"
      ],
      "execution_count": null,
      "outputs": []
    },
    {
      "cell_type": "markdown",
      "metadata": {
        "id": "a01RQxef27m9"
      },
      "source": [
        "Let's now determine the number of people that, according to the model, will be willing to buy the Hidden Farm coffee. \n",
        "1. First we subset the Prediction dataset into `new_X` considering all the variables except `Decision` \n",
        "2. Use that dataset to predict a new variable called `potential_buyers`"
      ]
    },
    {
      "cell_type": "code",
      "metadata": {
        "id": "sN4Z56Sb27m9"
      },
      "source": [
        "# Feature selection\n",
        "# Make a variable called feature_cols, and assign it a list containing all the column names except 'Decision'\n",
        "_ _ _ = [\"Age\", \"Gender\", \"num_coffeeBags_per_year\", \"spent_last_week\", \"spent_last_month\",\n",
        "       \"Salary\", \"Distance\", \"Online\"]\n",
        "\n",
        "# Make a variable called new_X, and assign it the subset of Prediction, containing just the feature_cols \n",
        "new_X = Prediction[_ _ _]"
      ],
      "execution_count": null,
      "outputs": []
    },
    {
      "cell_type": "code",
      "metadata": {
        "id": "hJtAgLwI27m_"
      },
      "source": [
        "# Call get_dummies() on the Pandas object pd, with new_X plugged in, to one-hot encode all features in the training set\n",
        "new_X = pd.get_dummies(new_X)\n",
        "\n",
        "# Make a variable called potential_buyers, and assign it the result of calling predict() on a model of your choice; \n",
        "# don't forget to pass new_X to predict()\n",
        "potential_buyers = gini_model2._ _ _ (new_X)"
      ],
      "execution_count": null,
      "outputs": []
    },
    {
      "cell_type": "code",
      "metadata": {
        "id": "sRHlWr6227nB"
      },
      "source": [
        "# Let's get the numbers of YES's and NO's in the potential buyers \n",
        "# Call unique() on np, and pass potential_buyers and return_counts=True \n",
        "np.unique(potential_buyers, return_counts=True)"
      ],
      "execution_count": null,
      "outputs": []
    },
    {
      "cell_type": "markdown",
      "metadata": {
        "id": "80ZWqWGs27nD"
      },
      "source": [
        "The total number of potential buyers is 303 + 183 = 486"
      ]
    },
    {
      "cell_type": "code",
      "metadata": {
        "id": "lMCYZ27Y27nD"
      },
      "source": [
        "# Print the total number of surveyed people \n",
        "print(\"The total number of surveyed people was\", coffeeData.Salary.count())"
      ],
      "execution_count": null,
      "outputs": []
    },
    {
      "cell_type": "code",
      "metadata": {
        "id": "oYM3t5JF27nF"
      },
      "source": [
        "# Let's calculate the proportion of buyers\n",
        "486/702"
      ],
      "execution_count": null,
      "outputs": []
    },
    {
      "cell_type": "code",
      "metadata": {
        "id": "3jJDAZaC27nH"
      },
      "source": [
        "# Print the percentage of people who want to buy the Hidden Farm coffee, by our model \n",
        "print(\"Only \", round((486/702)*100, 2), \"% of people want to buy the Hidden Farm coffee.\" )"
      ],
      "execution_count": null,
      "outputs": []
    },
    {
      "cell_type": "markdown",
      "metadata": {
        "id": "kZwXNtjh27nK"
      },
      "source": [
        "## 4b. Decision\n",
        "Remember how you thought at the start: if more than 70% of the interviewed customers are likely to buy the Hidden Farm coffee, you will strike the deal with the local Hidden Farm farmers and sell the coffee. Otherwise, you won't strike the deal and the Hidden Farm coffee will remain in legends only. Well now's crunch time. Are you going to go ahead with that idea? If so, you won't be striking the deal with the Chinese farmers. \n",
        "\n",
        "They're called `decision trees`, aren't they? So where's the decision? What should you do? (Cue existential cat emoji). \n",
        "\n",
        "Ultimately, though, we can't write an algorithm to actually *make the business decision* for us. This is because such decisions depend on our values, what risks we are willing to take, the stakes of our decisions, and how important it us for us to *know* that we will succeed. What are you going to do with the models you've made? Are you going to risk everything, strike the deal with the *Hidden Farm* farmers, and sell the coffee? \n",
        "\n",
        "The philosopher of language Jason Stanley once wrote that the number of doubts our evidence has to rule out in order for us to know a given proposition depends on our stakes: the higher our stakes, the more doubts our evidence has to rule out, and therefore the harder it is for us to know things. We can end up paralyzed in predicaments; sometimes, we can act to better our situation only if we already know certain things, which we can only if our stakes were lower and we'd *already* bettered our situation. \n",
        "\n",
        "Data science and machine learning can't solve such problems. But what it can do is help us make great use of our data to help *inform* our decisions."
      ]
    },
    {
      "cell_type": "markdown",
      "metadata": {
        "id": "crWWrpdox8i-"
      },
      "source": [
        "## 5. Random Forest\n",
        "You might have noticed an important fact about decision trees. Each time we run a given decision tree algorithm to make a prediction (such as whether customers will buy the Hidden Farm coffee) we will actually get a slightly different result. This might seem weird, but it has a simple explanation: machine learning algorithms are by definition ***stochastic***, in that their output is at least partly determined by randomness. \n",
        "\n",
        "To account for this variability and ensure that we get the most accurate prediction, we might want to actually make lots of decision trees, and get a value that captures the centre or average of the outputs of those trees. Luckily, there's a method for this, known as the ***Random Forest***. \n",
        "\n",
        "Essentially, Random Forest involves making lots of trees with similar properties, and then performing summary statistics on the outputs of those trees to reach that central value. Random forests are hugely powerful classifers, and they can improve predictive accuracy and control over-fitting. \n",
        "\n",
        "Why not try to inform your decision with random forest? You'll need to make use of the RandomForestClassifier function within the sklearn.ensemble module, found [here](https://scikit-learn.org/stable/modules/generated/sklearn.ensemble.RandomForestClassifier.html). "
      ]
    },
    {
      "cell_type": "markdown",
      "metadata": {
        "id": "fI4fiVWq0IH9"
      },
      "source": [
        "### 5a. Import necessary modules"
      ]
    },
    {
      "cell_type": "code",
      "metadata": {
        "id": "vSRTnHnD0D-O"
      },
      "source": [
        "from sklearn.ensemble import RandomForestClassifier\n",
        "from sklearn.datasets import make_classification"
      ],
      "execution_count": null,
      "outputs": []
    },
    {
      "cell_type": "markdown",
      "metadata": {
        "id": "jKmFvvjb0WB9"
      },
      "source": [
        "### 5b. Model\n",
        "You'll use your X_train and y_train variables just as before.\n",
        "\n",
        "You'll then need to make a variable (call it firstRFModel) to store your new Random Forest model. You'll assign this variable the result of calling RandomForestClassifier().\n",
        "\n",
        "Then, just as before, you'll call fit() on that firstRFModel variable, and plug in X_train and y_train.\n",
        "\n",
        "Finally, you should make a variable called y_pred, and assign it the result of calling the predict() method on your new firstRFModel, with the X_test data passed to it. "
      ]
    },
    {
      "cell_type": "code",
      "metadata": {
        "id": "OQEeTiRG1aSm"
      },
      "source": [
        "# Plug in appropriate max_depth and random_state parameters \n",
        "firstRFModel = _ _ _(max_depth= _ _ _, random_state= _ _ _)\n",
        "firstRFModel._ _ _(X_train, y_train)\n"
      ],
      "execution_count": null,
      "outputs": []
    },
    {
      "cell_type": "markdown",
      "metadata": {
        "id": "sCIt6pyn1zpb"
      },
      "source": [
        "### 5c. Revise conclusion\n",
        "\n",
        "Has your conclusion changed? Or is the result of executing random forest the same as your best model reached by a single decision tree? "
      ]
    }
  ]
}