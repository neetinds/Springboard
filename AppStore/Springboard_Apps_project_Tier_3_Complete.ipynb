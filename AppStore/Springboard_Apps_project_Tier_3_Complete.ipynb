{
  "nbformat": 4,
  "nbformat_minor": 0,
  "metadata": {
    "colab": {
      "name": "Springboard Apps project - Tier 3 - Complete.ipynb",
      "provenance": [],
      "collapsed_sections": [
        "5fbRq2MZFcvq",
        "4RTofY9wFcwI",
        "Cu_eh7fTFcwJ"
      ],
      "toc_visible": true
    },
    "kernelspec": {
      "display_name": "Python 3",
      "language": "python",
      "name": "python3"
    },
    "language_info": {
      "codemirror_mode": {
        "name": "ipython",
        "version": 3
      },
      "file_extension": ".py",
      "mimetype": "text/x-python",
      "name": "python",
      "nbconvert_exporter": "python",
      "pygments_lexer": "ipython3",
      "version": "3.5.6"
    }
  },
  "cells": [
    {
      "cell_type": "markdown",
      "metadata": {
        "id": "i2RUFW7TFcuh"
      },
      "source": [
        "# Springboard Apps project - Tier 3 - Complete\n",
        "\n",
        "Welcome to the Apps project! To give you a taste of your future career, we're going to walk through exactly the kind of notebook that you'd write as a data scientist. In the process, we'll be sure to signpost the general framework for our investigation - the Data Science Pipeline - as well as give reasons for why we're doing what we're doing. We're also going to apply some of the skills and knowledge you've built up in the previous unit when reading Professor Spiegelhalter's *The Art of Statistics* (hereinafter *AoS*). \n",
        "\n",
        "So let's get cracking!\n",
        "\n",
        "**Brief**\n",
        "\n",
        "Did Apple Store apps receive better reviews than Google Play apps?\n",
        "\n",
        "## Stages of the project\n",
        "\n",
        "1. Sourcing and loading \n",
        "    * Load the two datasets\n",
        "    * Pick the columns that we are going to work with \n",
        "    * Subsetting the data on this basis \n",
        " \n",
        " \n",
        "2. Cleaning, transforming and visualizing\n",
        "    * Check the data types and fix them\n",
        "    * Add a `platform` column to both the `Apple` and the `Google` dataframes\n",
        "    * Changing the column names to prepare for a join \n",
        "    * Join the two data sets\n",
        "    * Eliminate the `NaN` values\n",
        "    * Filter only those apps that have been reviewed at least once\n",
        "    * Summarize the data visually and analytically (by the column `platform`)  \n",
        "  \n",
        "  \n",
        "3. Modelling \n",
        "    * Hypothesis formulation\n",
        "    * Getting the distribution of the data\n",
        "    * Permutation test \n",
        "\n",
        "\n",
        "4. Evaluating and concluding \n",
        "    * What is our conclusion?\n",
        "    * What is our decision?\n",
        "    * Other models we could have used. \n",
        "    "
      ]
    },
    {
      "cell_type": "markdown",
      "metadata": {
        "id": "QLUAXtl1Fcuk"
      },
      "source": [
        "## Importing the libraries\n",
        "\n",
        "In this case we are going to import pandas, numpy, scipy, random and matplotlib.pyplot"
      ]
    },
    {
      "cell_type": "code",
      "metadata": {
        "colab": {
          "base_uri": "https://localhost:8080/"
        },
        "id": "XeXJOlGiFcum",
        "outputId": "abbc60b7-273e-42f0-9b43-d7172e452c71"
      },
      "source": [
        "import pandas as pd\n",
        "!pip show pandas\n",
        "print(pd.__version__) \n",
        "import numpy as np\n",
        "!pip show numpy\n",
        "print(pd.__version__) \n",
        "import matplotlib.pyplot as plt\n",
        "!pip show matplotlib\n",
        "print(pd.__version__) \n",
        "# scipi is a library for statistical tests and visualizations \n",
        "from scipy import stats\n",
        "# random enables us to generate random numbers\n",
        "import random"
      ],
      "execution_count": 1,
      "outputs": [
        {
          "output_type": "stream",
          "text": [
            "Name: pandas\n",
            "Version: 1.1.5\n",
            "Summary: Powerful data structures for data analysis, time series, and statistics\n",
            "Home-page: https://pandas.pydata.org\n",
            "Author: None\n",
            "Author-email: None\n",
            "License: BSD\n",
            "Location: /usr/local/lib/python3.7/dist-packages\n",
            "Requires: numpy, python-dateutil, pytz\n",
            "Required-by: xarray, vega-datasets, statsmodels, sklearn-pandas, seaborn, pymc3, plotnine, pandas-profiling, pandas-gbq, pandas-datareader, mlxtend, mizani, holoviews, gspread-dataframe, google-colab, fix-yahoo-finance, fbprophet, fastai, cufflinks, cmdstanpy, altair\n",
            "1.1.5\n",
            "Name: numpy\n",
            "Version: 1.19.5\n",
            "Summary: NumPy is the fundamental package for array computing with Python.\n",
            "Home-page: https://www.numpy.org\n",
            "Author: Travis E. Oliphant et al.\n",
            "Author-email: None\n",
            "License: BSD\n",
            "Location: /usr/local/lib/python3.7/dist-packages\n",
            "Requires: \n",
            "Required-by: yellowbrick, xgboost, xarray, wordcloud, umap-learn, torchvision, torchtext, torch, tifffile, thinc, Theano, tensorflow, tensorflow-probability, tensorflow-hub, tensorflow-datasets, tensorboard, tables, statsmodels, spacy, sklearn-pandas, seaborn, scs, scipy, scikit-learn, resampy, qdldl, PyWavelets, python-louvain, pystan, pysndfile, pymc3, pyerfa, pyemd, pyarrow, plotnine, patsy, pandas, osqp, opt-einsum, opencv-python, opencv-contrib-python, numexpr, numba, np-utils, nibabel, moviepy, mlxtend, mizani, missingno, matplotlib, matplotlib-venn, lucid, lightgbm, librosa, knnimpute, Keras, Keras-Preprocessing, kapre, jpeg4py, jaxlib, jax, imgaug, imbalanced-learn, imageio, hyperopt, holoviews, h5py, gym, gensim, folium, fix-yahoo-finance, fbprophet, fastprogress, fastdtw, fastai, fancyimpute, fa2, ecos, daft, cvxpy, cufflinks, cmdstanpy, chainer, Bottleneck, bokeh, blis, autograd, atari-py, astropy, altair, albumentations\n",
            "1.1.5\n",
            "Name: matplotlib\n",
            "Version: 3.2.2\n",
            "Summary: Python plotting package\n",
            "Home-page: https://matplotlib.org\n",
            "Author: John D. Hunter, Michael Droettboom\n",
            "Author-email: matplotlib-users@python.org\n",
            "License: PSF\n",
            "Location: /usr/local/lib/python3.7/dist-packages\n",
            "Requires: python-dateutil, kiwisolver, cycler, numpy, pyparsing\n",
            "Required-by: yellowbrick, seaborn, scikit-image, pycocotools, plotnine, pandas-profiling, mlxtend, mizani, missingno, matplotlib-venn, keras-vis, imgaug, fbprophet, fastai, descartes, daft\n",
            "1.1.5\n"
          ],
          "name": "stdout"
        }
      ]
    },
    {
      "cell_type": "markdown",
      "metadata": {
        "id": "zVD7NlPAFcup"
      },
      "source": [
        "## Stage 1 -  Sourcing and loading data"
      ]
    },
    {
      "cell_type": "markdown",
      "metadata": {
        "id": "KU8bdbImFcuq"
      },
      "source": [
        "### 1a. Source and load the data\n",
        "Let's download the data from Kaggle. Kaggle is a fantastic resource: a kind of social medium for data scientists, it boasts projects, datasets and news on the freshest libraries and technologies all in one place. The data from the Apple Store can be found [here](https://www.kaggle.com/ramamet4/app-store-apple-data-set-10k-apps) and the data from Google Store can be found [here](https://www.kaggle.com/lava18/google-play-store-apps).\n",
        "Download the datasets and save them in your working directory."
      ]
    },
    {
      "cell_type": "code",
      "metadata": {
        "colab": {
          "base_uri": "https://localhost:8080/"
        },
        "id": "XBoslkRnlBJj",
        "outputId": "2f388fb3-a9a8-445b-c0bd-3ede2d1edc29"
      },
      "source": [
        "from google.colab import drive\n",
        "drive.mount('/content/gdrive')\n",
        "%cd /content/drive/My Drive/springboard-master/AppStore/"
      ],
      "execution_count": 10,
      "outputs": [
        {
          "output_type": "stream",
          "text": [
            "Drive already mounted at /content/gdrive; to attempt to forcibly remount, call drive.mount(\"/content/gdrive\", force_remount=True).\n",
            "[Errno 2] No such file or directory: '/content/drive/My Drive/springboard-master/AppStore/'\n",
            "/content\n"
          ],
          "name": "stdout"
        }
      ]
    },
    {
      "cell_type": "code",
      "metadata": {
        "colab": {
          "base_uri": "https://localhost:8080/",
          "height": 400
        },
        "id": "laM1PB76Fcur",
        "outputId": "81e9d80b-dbd4-4f51-9099-d20eecb68db8"
      },
      "source": [
        "# Now that the files are saved, we want to load them into Python using read_csv and pandas.\n",
        "\n",
        "# Create a variable called google, and store in it the path of the csv file that contains your google dataset. \n",
        "# If your dataset is in the same folder as this notebook, the path will simply be the name of the file. \n",
        "google_dataset = \"/content/gdrive/MyDrive/Springboard-master/AppStore/googleplaystore.csv\"\n",
        "\n",
        "# Read the csv file into a data frame called Google using the read_csv() pandas method.\n",
        "#print(pd) \n",
        "google = pd.read_csv(google_dataset)\n",
        "\n",
        "# Using the head() pandas method, observe the first three entries.\n",
        "google.head(3)\n"
      ],
      "execution_count": 17,
      "outputs": [
        {
          "output_type": "execute_result",
          "data": {
            "text/html": [
              "<div>\n",
              "<style scoped>\n",
              "    .dataframe tbody tr th:only-of-type {\n",
              "        vertical-align: middle;\n",
              "    }\n",
              "\n",
              "    .dataframe tbody tr th {\n",
              "        vertical-align: top;\n",
              "    }\n",
              "\n",
              "    .dataframe thead th {\n",
              "        text-align: right;\n",
              "    }\n",
              "</style>\n",
              "<table border=\"1\" class=\"dataframe\">\n",
              "  <thead>\n",
              "    <tr style=\"text-align: right;\">\n",
              "      <th></th>\n",
              "      <th>App</th>\n",
              "      <th>Category</th>\n",
              "      <th>Rating</th>\n",
              "      <th>Reviews</th>\n",
              "      <th>Size</th>\n",
              "      <th>Installs</th>\n",
              "      <th>Type</th>\n",
              "      <th>Price</th>\n",
              "      <th>Content Rating</th>\n",
              "      <th>Genres</th>\n",
              "      <th>Last Updated</th>\n",
              "      <th>Current Ver</th>\n",
              "      <th>Android Ver</th>\n",
              "    </tr>\n",
              "  </thead>\n",
              "  <tbody>\n",
              "    <tr>\n",
              "      <th>0</th>\n",
              "      <td>Photo Editor &amp; Candy Camera &amp; Grid &amp; ScrapBook</td>\n",
              "      <td>ART_AND_DESIGN</td>\n",
              "      <td>4.1</td>\n",
              "      <td>159</td>\n",
              "      <td>19M</td>\n",
              "      <td>10,000+</td>\n",
              "      <td>Free</td>\n",
              "      <td>0</td>\n",
              "      <td>Everyone</td>\n",
              "      <td>Art &amp; Design</td>\n",
              "      <td>January 7, 2018</td>\n",
              "      <td>1.0.0</td>\n",
              "      <td>4.0.3 and up</td>\n",
              "    </tr>\n",
              "    <tr>\n",
              "      <th>1</th>\n",
              "      <td>Coloring book moana</td>\n",
              "      <td>ART_AND_DESIGN</td>\n",
              "      <td>3.9</td>\n",
              "      <td>967</td>\n",
              "      <td>14M</td>\n",
              "      <td>500,000+</td>\n",
              "      <td>Free</td>\n",
              "      <td>0</td>\n",
              "      <td>Everyone</td>\n",
              "      <td>Art &amp; Design;Pretend Play</td>\n",
              "      <td>January 15, 2018</td>\n",
              "      <td>2.0.0</td>\n",
              "      <td>4.0.3 and up</td>\n",
              "    </tr>\n",
              "    <tr>\n",
              "      <th>2</th>\n",
              "      <td>U Launcher Lite – FREE Live Cool Themes, Hide ...</td>\n",
              "      <td>ART_AND_DESIGN</td>\n",
              "      <td>4.7</td>\n",
              "      <td>87510</td>\n",
              "      <td>8.7M</td>\n",
              "      <td>5,000,000+</td>\n",
              "      <td>Free</td>\n",
              "      <td>0</td>\n",
              "      <td>Everyone</td>\n",
              "      <td>Art &amp; Design</td>\n",
              "      <td>August 1, 2018</td>\n",
              "      <td>1.2.4</td>\n",
              "      <td>4.0.3 and up</td>\n",
              "    </tr>\n",
              "  </tbody>\n",
              "</table>\n",
              "</div>"
            ],
            "text/plain": [
              "                                                 App  ...   Android Ver\n",
              "0     Photo Editor & Candy Camera & Grid & ScrapBook  ...  4.0.3 and up\n",
              "1                                Coloring book moana  ...  4.0.3 and up\n",
              "2  U Launcher Lite – FREE Live Cool Themes, Hide ...  ...  4.0.3 and up\n",
              "\n",
              "[3 rows x 13 columns]"
            ]
          },
          "metadata": {
            "tags": []
          },
          "execution_count": 17
        }
      ]
    },
    {
      "cell_type": "code",
      "metadata": {
        "colab": {
          "base_uri": "https://localhost:8080/",
          "height": 298
        },
        "id": "3AW8EA1wFcuu",
        "outputId": "9ef40f2e-1962-432b-88a9-da7b94b83846"
      },
      "source": [
        "# Create a variable called apple, and store in it the path of the csv file that contains your apple dataset. \n",
        "apple_dataset = '/content/gdrive/MyDrive/Springboard-master/AppStore/AppleStore.csv'\n",
        "\n",
        "# Read the csv file into a pandas DataFrame object called Apple.\n",
        "apple = pd.read_csv(apple_dataset)\n",
        "\n",
        "# Observe the first three entries like you did with your other data. \n",
        "apple.head(3)"
      ],
      "execution_count": 12,
      "outputs": [
        {
          "output_type": "execute_result",
          "data": {
            "text/html": [
              "<div>\n",
              "<style scoped>\n",
              "    .dataframe tbody tr th:only-of-type {\n",
              "        vertical-align: middle;\n",
              "    }\n",
              "\n",
              "    .dataframe tbody tr th {\n",
              "        vertical-align: top;\n",
              "    }\n",
              "\n",
              "    .dataframe thead th {\n",
              "        text-align: right;\n",
              "    }\n",
              "</style>\n",
              "<table border=\"1\" class=\"dataframe\">\n",
              "  <thead>\n",
              "    <tr style=\"text-align: right;\">\n",
              "      <th></th>\n",
              "      <th>Unnamed: 0</th>\n",
              "      <th>id</th>\n",
              "      <th>track_name</th>\n",
              "      <th>size_bytes</th>\n",
              "      <th>currency</th>\n",
              "      <th>price</th>\n",
              "      <th>rating_count_tot</th>\n",
              "      <th>rating_count_ver</th>\n",
              "      <th>user_rating</th>\n",
              "      <th>user_rating_ver</th>\n",
              "      <th>ver</th>\n",
              "      <th>cont_rating</th>\n",
              "      <th>prime_genre</th>\n",
              "      <th>sup_devices.num</th>\n",
              "      <th>ipadSc_urls.num</th>\n",
              "      <th>lang.num</th>\n",
              "      <th>vpp_lic</th>\n",
              "    </tr>\n",
              "  </thead>\n",
              "  <tbody>\n",
              "    <tr>\n",
              "      <th>0</th>\n",
              "      <td>1</td>\n",
              "      <td>281656475</td>\n",
              "      <td>PAC-MAN Premium</td>\n",
              "      <td>100788224</td>\n",
              "      <td>USD</td>\n",
              "      <td>3.99</td>\n",
              "      <td>21292</td>\n",
              "      <td>26</td>\n",
              "      <td>4.0</td>\n",
              "      <td>4.5</td>\n",
              "      <td>6.3.5</td>\n",
              "      <td>4+</td>\n",
              "      <td>Games</td>\n",
              "      <td>38</td>\n",
              "      <td>5</td>\n",
              "      <td>10</td>\n",
              "      <td>1</td>\n",
              "    </tr>\n",
              "    <tr>\n",
              "      <th>1</th>\n",
              "      <td>2</td>\n",
              "      <td>281796108</td>\n",
              "      <td>Evernote - stay organized</td>\n",
              "      <td>158578688</td>\n",
              "      <td>USD</td>\n",
              "      <td>0.00</td>\n",
              "      <td>161065</td>\n",
              "      <td>26</td>\n",
              "      <td>4.0</td>\n",
              "      <td>3.5</td>\n",
              "      <td>8.2.2</td>\n",
              "      <td>4+</td>\n",
              "      <td>Productivity</td>\n",
              "      <td>37</td>\n",
              "      <td>5</td>\n",
              "      <td>23</td>\n",
              "      <td>1</td>\n",
              "    </tr>\n",
              "    <tr>\n",
              "      <th>2</th>\n",
              "      <td>3</td>\n",
              "      <td>281940292</td>\n",
              "      <td>WeatherBug - Local Weather, Radar, Maps, Alerts</td>\n",
              "      <td>100524032</td>\n",
              "      <td>USD</td>\n",
              "      <td>0.00</td>\n",
              "      <td>188583</td>\n",
              "      <td>2822</td>\n",
              "      <td>3.5</td>\n",
              "      <td>4.5</td>\n",
              "      <td>5.0.0</td>\n",
              "      <td>4+</td>\n",
              "      <td>Weather</td>\n",
              "      <td>37</td>\n",
              "      <td>5</td>\n",
              "      <td>3</td>\n",
              "      <td>1</td>\n",
              "    </tr>\n",
              "  </tbody>\n",
              "</table>\n",
              "</div>"
            ],
            "text/plain": [
              "   Unnamed: 0         id  ... lang.num  vpp_lic\n",
              "0           1  281656475  ...       10        1\n",
              "1           2  281796108  ...       23        1\n",
              "2           3  281940292  ...        3        1\n",
              "\n",
              "[3 rows x 17 columns]"
            ]
          },
          "metadata": {
            "tags": []
          },
          "execution_count": 12
        }
      ]
    },
    {
      "cell_type": "markdown",
      "metadata": {
        "id": "vljOHKNTFcuw"
      },
      "source": [
        "### 1b. Pick the columns we'll work with\n",
        "\n",
        "From the documentation of these datasets, we can infer that the most appropriate columns to answer the brief are:\n",
        "\n",
        "1. Google:\n",
        "    * `Category` # Do we need this?\n",
        "    * `Rating`\n",
        "    * `Reviews`\n",
        "    * `Price` (maybe)\n",
        "2. Apple:    \n",
        "    * `prime_genre` # Do we need this?\n",
        "    * `user_rating` \n",
        "    * `rating_count_tot`\n",
        "    * `price` (maybe)"
      ]
    },
    {
      "cell_type": "markdown",
      "metadata": {
        "id": "uf69AeTvFcux"
      },
      "source": [
        "### 1c. Subsetting accordingly\n",
        "\n",
        "Let's select only those columns that we want to work with from both datasets. We'll overwrite the subsets in the original variables."
      ]
    },
    {
      "cell_type": "code",
      "metadata": {
        "colab": {
          "base_uri": "https://localhost:8080/",
          "height": 142
        },
        "id": "LNSDXyjdFcuy",
        "outputId": "fbcae0ae-c804-4a4d-f43c-9c804002e2d5"
      },
      "source": [
        "# Subset our DataFrame object Google by selecting just the variables ['Category', 'Rating', 'Reviews', 'Price']\n",
        "google = google[['Category', 'Rating', 'Reviews', 'Price']]\n",
        "\n",
        "# Check the first three entries\n",
        "google.head(3)"
      ],
      "execution_count": 19,
      "outputs": [
        {
          "output_type": "execute_result",
          "data": {
            "text/html": [
              "<div>\n",
              "<style scoped>\n",
              "    .dataframe tbody tr th:only-of-type {\n",
              "        vertical-align: middle;\n",
              "    }\n",
              "\n",
              "    .dataframe tbody tr th {\n",
              "        vertical-align: top;\n",
              "    }\n",
              "\n",
              "    .dataframe thead th {\n",
              "        text-align: right;\n",
              "    }\n",
              "</style>\n",
              "<table border=\"1\" class=\"dataframe\">\n",
              "  <thead>\n",
              "    <tr style=\"text-align: right;\">\n",
              "      <th></th>\n",
              "      <th>Category</th>\n",
              "      <th>Rating</th>\n",
              "      <th>Reviews</th>\n",
              "      <th>Price</th>\n",
              "    </tr>\n",
              "  </thead>\n",
              "  <tbody>\n",
              "    <tr>\n",
              "      <th>0</th>\n",
              "      <td>ART_AND_DESIGN</td>\n",
              "      <td>4.1</td>\n",
              "      <td>159</td>\n",
              "      <td>0</td>\n",
              "    </tr>\n",
              "    <tr>\n",
              "      <th>1</th>\n",
              "      <td>ART_AND_DESIGN</td>\n",
              "      <td>3.9</td>\n",
              "      <td>967</td>\n",
              "      <td>0</td>\n",
              "    </tr>\n",
              "    <tr>\n",
              "      <th>2</th>\n",
              "      <td>ART_AND_DESIGN</td>\n",
              "      <td>4.7</td>\n",
              "      <td>87510</td>\n",
              "      <td>0</td>\n",
              "    </tr>\n",
              "  </tbody>\n",
              "</table>\n",
              "</div>"
            ],
            "text/plain": [
              "         Category  Rating Reviews Price\n",
              "0  ART_AND_DESIGN     4.1     159     0\n",
              "1  ART_AND_DESIGN     3.9     967     0\n",
              "2  ART_AND_DESIGN     4.7   87510     0"
            ]
          },
          "metadata": {
            "tags": []
          },
          "execution_count": 19
        }
      ]
    },
    {
      "cell_type": "code",
      "metadata": {
        "colab": {
          "base_uri": "https://localhost:8080/",
          "height": 142
        },
        "id": "AVCtENPtFcu0",
        "outputId": "46641e48-0b3a-4460-daf3-ff70f8942708"
      },
      "source": [
        "# Do the same with our Apple object, selecting just the variables ['prime_genre', 'user_rating', 'rating_count_tot', 'price']\n",
        "apple = apple[['prime_genre', 'user_rating', 'rating_count_tot', 'price']]\n",
        "\n",
        "# Let's check the first three entries\n",
        "apple.head(3)"
      ],
      "execution_count": 20,
      "outputs": [
        {
          "output_type": "execute_result",
          "data": {
            "text/html": [
              "<div>\n",
              "<style scoped>\n",
              "    .dataframe tbody tr th:only-of-type {\n",
              "        vertical-align: middle;\n",
              "    }\n",
              "\n",
              "    .dataframe tbody tr th {\n",
              "        vertical-align: top;\n",
              "    }\n",
              "\n",
              "    .dataframe thead th {\n",
              "        text-align: right;\n",
              "    }\n",
              "</style>\n",
              "<table border=\"1\" class=\"dataframe\">\n",
              "  <thead>\n",
              "    <tr style=\"text-align: right;\">\n",
              "      <th></th>\n",
              "      <th>prime_genre</th>\n",
              "      <th>user_rating</th>\n",
              "      <th>rating_count_tot</th>\n",
              "      <th>price</th>\n",
              "    </tr>\n",
              "  </thead>\n",
              "  <tbody>\n",
              "    <tr>\n",
              "      <th>0</th>\n",
              "      <td>Games</td>\n",
              "      <td>4.0</td>\n",
              "      <td>21292</td>\n",
              "      <td>3.99</td>\n",
              "    </tr>\n",
              "    <tr>\n",
              "      <th>1</th>\n",
              "      <td>Productivity</td>\n",
              "      <td>4.0</td>\n",
              "      <td>161065</td>\n",
              "      <td>0.00</td>\n",
              "    </tr>\n",
              "    <tr>\n",
              "      <th>2</th>\n",
              "      <td>Weather</td>\n",
              "      <td>3.5</td>\n",
              "      <td>188583</td>\n",
              "      <td>0.00</td>\n",
              "    </tr>\n",
              "  </tbody>\n",
              "</table>\n",
              "</div>"
            ],
            "text/plain": [
              "    prime_genre  user_rating  rating_count_tot  price\n",
              "0         Games          4.0             21292   3.99\n",
              "1  Productivity          4.0            161065   0.00\n",
              "2       Weather          3.5            188583   0.00"
            ]
          },
          "metadata": {
            "tags": []
          },
          "execution_count": 20
        }
      ]
    },
    {
      "cell_type": "markdown",
      "metadata": {
        "id": "wwK2wH-rFcu2"
      },
      "source": [
        "## Stage 2 -  Cleaning, transforming and visualizing"
      ]
    },
    {
      "cell_type": "markdown",
      "metadata": {
        "id": "NsoE5x0JFcu3"
      },
      "source": [
        "### 2a. Check the data types for both Apple and Google, and fix them\n",
        "\n",
        "Types are crucial for data science in Python. Let's determine whether the variables we selected in the previous section belong to the types they should do, or whether there are any errors here. "
      ]
    },
    {
      "cell_type": "code",
      "metadata": {
        "colab": {
          "base_uri": "https://localhost:8080/"
        },
        "id": "ymw10SaWFcu4",
        "outputId": "5e9b685c-9518-4d03-8a29-ce516b9ea60e"
      },
      "source": [
        "# Using the dtypes feature of pandas DataFrame objects, check out the data types within our Apple dataframe.\n",
        "# Are they what you expect?\n",
        "apple.dtypes"
      ],
      "execution_count": 21,
      "outputs": [
        {
          "output_type": "execute_result",
          "data": {
            "text/plain": [
              "prime_genre          object\n",
              "user_rating         float64\n",
              "rating_count_tot      int64\n",
              "price               float64\n",
              "dtype: object"
            ]
          },
          "metadata": {
            "tags": []
          },
          "execution_count": 21
        }
      ]
    },
    {
      "cell_type": "markdown",
      "metadata": {
        "id": "VAiM6jIxFcu6"
      },
      "source": [
        "This is looking healthy. But what about our Google data frame?"
      ]
    },
    {
      "cell_type": "code",
      "metadata": {
        "colab": {
          "base_uri": "https://localhost:8080/"
        },
        "id": "kmP8MhqyFcu7",
        "outputId": "9625da33-a13c-4d2c-a8dc-5b57a7880011"
      },
      "source": [
        "# Using the same dtypes feature, check out the data types of our Google dataframe. \n",
        "google.dtypes"
      ],
      "execution_count": 22,
      "outputs": [
        {
          "output_type": "execute_result",
          "data": {
            "text/plain": [
              "Category     object\n",
              "Rating      float64\n",
              "Reviews      object\n",
              "Price        object\n",
              "dtype: object"
            ]
          },
          "metadata": {
            "tags": []
          },
          "execution_count": 22
        }
      ]
    },
    {
      "cell_type": "markdown",
      "metadata": {
        "id": "O-dxAy0WFcu9"
      },
      "source": [
        "Weird. The data type for the column 'Price' is 'object', not a numeric data type like a float or an integer. Let's investigate the unique values of this column. "
      ]
    },
    {
      "cell_type": "code",
      "metadata": {
        "colab": {
          "base_uri": "https://localhost:8080/"
        },
        "id": "Hu08K9y7Fcu9",
        "outputId": "8a5adb34-338a-4d66-87a4-676a5dd032fd"
      },
      "source": [
        "# Use the unique() pandas method on the Price column to check its unique values. \n",
        "google.Price.unique()"
      ],
      "execution_count": 23,
      "outputs": [
        {
          "output_type": "execute_result",
          "data": {
            "text/plain": [
              "array(['0', '$4.99', '$3.99', '$6.99', '$1.49', '$2.99', '$7.99', '$5.99',\n",
              "       '$3.49', '$1.99', '$9.99', '$7.49', '$0.99', '$9.00', '$5.49',\n",
              "       '$10.00', '$24.99', '$11.99', '$79.99', '$16.99', '$14.99',\n",
              "       '$1.00', '$29.99', '$12.99', '$2.49', '$10.99', '$1.50', '$19.99',\n",
              "       '$15.99', '$33.99', '$74.99', '$39.99', '$3.95', '$4.49', '$1.70',\n",
              "       '$8.99', '$2.00', '$3.88', '$25.99', '$399.99', '$17.99',\n",
              "       '$400.00', '$3.02', '$1.76', '$4.84', '$4.77', '$1.61', '$2.50',\n",
              "       '$1.59', '$6.49', '$1.29', '$5.00', '$13.99', '$299.99', '$379.99',\n",
              "       '$37.99', '$18.99', '$389.99', '$19.90', '$8.49', '$1.75',\n",
              "       '$14.00', '$4.85', '$46.99', '$109.99', '$154.99', '$3.08',\n",
              "       '$2.59', '$4.80', '$1.96', '$19.40', '$3.90', '$4.59', '$15.46',\n",
              "       '$3.04', '$4.29', '$2.60', '$3.28', '$4.60', '$28.99', '$2.95',\n",
              "       '$2.90', '$1.97', '$200.00', '$89.99', '$2.56', '$30.99', '$3.61',\n",
              "       '$394.99', '$1.26', 'Everyone', '$1.20', '$1.04'], dtype=object)"
            ]
          },
          "metadata": {
            "tags": []
          },
          "execution_count": 23
        }
      ]
    },
    {
      "cell_type": "markdown",
      "metadata": {
        "id": "w_7nkogFFcu_"
      },
      "source": [
        "Aha! Fascinating. There are actually two issues here. \n",
        "\n",
        "- Firstly, there's a price called `Everyone`. That is a massive mistake! \n",
        "- Secondly, there are dollar symbols everywhere! \n",
        "\n",
        "\n",
        "Let's address the first issue first. Let's check the datapoints that have the price value `Everyone`"
      ]
    },
    {
      "cell_type": "code",
      "metadata": {
        "colab": {
          "base_uri": "https://localhost:8080/",
          "height": 80
        },
        "id": "E75WWmhdFcvA",
        "outputId": "28ea3a62-6029-4449-8839-8655d278b6a1"
      },
      "source": [
        "# Let's check which data points have the value 'Everyone' for the 'Price' column by subsetting our Google dataframe.\n",
        "\n",
        "# Subset the Google dataframe on the price column. \n",
        "# To be sure: you want to pick out just those rows whose value for the 'Price' column is just 'Everyone'. \n",
        "google.loc[google['Price'] == \"Everyone\"]"
      ],
      "execution_count": 24,
      "outputs": [
        {
          "output_type": "execute_result",
          "data": {
            "text/html": [
              "<div>\n",
              "<style scoped>\n",
              "    .dataframe tbody tr th:only-of-type {\n",
              "        vertical-align: middle;\n",
              "    }\n",
              "\n",
              "    .dataframe tbody tr th {\n",
              "        vertical-align: top;\n",
              "    }\n",
              "\n",
              "    .dataframe thead th {\n",
              "        text-align: right;\n",
              "    }\n",
              "</style>\n",
              "<table border=\"1\" class=\"dataframe\">\n",
              "  <thead>\n",
              "    <tr style=\"text-align: right;\">\n",
              "      <th></th>\n",
              "      <th>Category</th>\n",
              "      <th>Rating</th>\n",
              "      <th>Reviews</th>\n",
              "      <th>Price</th>\n",
              "    </tr>\n",
              "  </thead>\n",
              "  <tbody>\n",
              "    <tr>\n",
              "      <th>10472</th>\n",
              "      <td>1.9</td>\n",
              "      <td>19.0</td>\n",
              "      <td>3.0M</td>\n",
              "      <td>Everyone</td>\n",
              "    </tr>\n",
              "  </tbody>\n",
              "</table>\n",
              "</div>"
            ],
            "text/plain": [
              "      Category  Rating Reviews     Price\n",
              "10472      1.9    19.0    3.0M  Everyone"
            ]
          },
          "metadata": {
            "tags": []
          },
          "execution_count": 24
        }
      ]
    },
    {
      "cell_type": "markdown",
      "metadata": {
        "id": "ezfLshdRFcvC"
      },
      "source": [
        "Thankfully, it's just one row. We've gotta get rid of it. "
      ]
    },
    {
      "cell_type": "code",
      "metadata": {
        "colab": {
          "base_uri": "https://localhost:8080/"
        },
        "id": "DBmjUQUkFcvD",
        "outputId": "eefec75c-058b-458a-feb9-c5b6410154bd"
      },
      "source": [
        "# Let's eliminate that row. \n",
        "\n",
        "# Subset our Google dataframe to pick out just those rows whose value for the 'Price' column is NOT 'Everyone'. \n",
        "# Reassign that subset to the Google variable. \n",
        "# You can do this in two lines or one. Your choice! \n",
        "google = google[google.Price != 'Everyone']\n",
        "# Check again the unique values of Google\n",
        "google.Price.unique()"
      ],
      "execution_count": 25,
      "outputs": [
        {
          "output_type": "execute_result",
          "data": {
            "text/plain": [
              "array(['0', '$4.99', '$3.99', '$6.99', '$1.49', '$2.99', '$7.99', '$5.99',\n",
              "       '$3.49', '$1.99', '$9.99', '$7.49', '$0.99', '$9.00', '$5.49',\n",
              "       '$10.00', '$24.99', '$11.99', '$79.99', '$16.99', '$14.99',\n",
              "       '$1.00', '$29.99', '$12.99', '$2.49', '$10.99', '$1.50', '$19.99',\n",
              "       '$15.99', '$33.99', '$74.99', '$39.99', '$3.95', '$4.49', '$1.70',\n",
              "       '$8.99', '$2.00', '$3.88', '$25.99', '$399.99', '$17.99',\n",
              "       '$400.00', '$3.02', '$1.76', '$4.84', '$4.77', '$1.61', '$2.50',\n",
              "       '$1.59', '$6.49', '$1.29', '$5.00', '$13.99', '$299.99', '$379.99',\n",
              "       '$37.99', '$18.99', '$389.99', '$19.90', '$8.49', '$1.75',\n",
              "       '$14.00', '$4.85', '$46.99', '$109.99', '$154.99', '$3.08',\n",
              "       '$2.59', '$4.80', '$1.96', '$19.40', '$3.90', '$4.59', '$15.46',\n",
              "       '$3.04', '$4.29', '$2.60', '$3.28', '$4.60', '$28.99', '$2.95',\n",
              "       '$2.90', '$1.97', '$200.00', '$89.99', '$2.56', '$30.99', '$3.61',\n",
              "       '$394.99', '$1.26', '$1.20', '$1.04'], dtype=object)"
            ]
          },
          "metadata": {
            "tags": []
          },
          "execution_count": 25
        }
      ]
    },
    {
      "cell_type": "markdown",
      "metadata": {
        "id": "T43TB4qFFcvF"
      },
      "source": [
        "Our second problem remains: I'm seeing dollar symbols when I close my eyes! (And not in a good way). \n",
        "\n",
        "This is a problem because Python actually considers these values strings. So we can't do mathematical and statistical operations on them until we've made them into numbers. "
      ]
    },
    {
      "cell_type": "code",
      "metadata": {
        "collapsed": true,
        "id": "W87gVS9BFcvG"
      },
      "source": [
        "# Let's create a variable called nosymb.\n",
        "# This variable will take the Price column of Google and apply the str.replace() method. \n",
        "nosymb = google['Price'].str.replace('$','')\n",
        "# Now we need to do two things:\n",
        "# i. Make the values in the nosymb variable numeric using the to_numeric() pandas method.\n",
        "# ii. Assign this new set of numeric, dollar-sign-less values to Google['Price']. \n",
        "# You can do this in one line if you wish.\n",
        "google['Price'] = pd.to_numeric(nosymb)"
      ],
      "execution_count": 26,
      "outputs": []
    },
    {
      "cell_type": "markdown",
      "metadata": {
        "id": "LxpJQ9yyFcvI"
      },
      "source": [
        "Now let's check the data types for our Google dataframe again, to verify that the 'Price' column really is numeric now."
      ]
    },
    {
      "cell_type": "code",
      "metadata": {
        "colab": {
          "base_uri": "https://localhost:8080/"
        },
        "id": "Fn5Gt-QbFcvI",
        "outputId": "bae0bf0a-c0ed-4273-c567-93aa49991809"
      },
      "source": [
        "# Use the function dtypes. \n",
        "google.dtypes"
      ],
      "execution_count": 27,
      "outputs": [
        {
          "output_type": "execute_result",
          "data": {
            "text/plain": [
              "Category     object\n",
              "Rating      float64\n",
              "Reviews      object\n",
              "Price       float64\n",
              "dtype: object"
            ]
          },
          "metadata": {
            "tags": []
          },
          "execution_count": 27
        }
      ]
    },
    {
      "cell_type": "markdown",
      "metadata": {
        "id": "FgfuiVo0FcvK"
      },
      "source": [
        "Notice that the column `Reviews` is still an object column. We actually need this column to be a numeric column, too. "
      ]
    },
    {
      "cell_type": "code",
      "metadata": {
        "id": "MiVEWsWBFcvL"
      },
      "source": [
        "# Convert the 'Reviews' column to a numeric data type. \n",
        "google[\"Reviews\"] = pd.to_numeric(google[\"Reviews\"])"
      ],
      "execution_count": 28,
      "outputs": []
    },
    {
      "cell_type": "code",
      "metadata": {
        "colab": {
          "base_uri": "https://localhost:8080/"
        },
        "id": "wWJdXXTTFcvN",
        "outputId": "c865be98-152d-4fcc-bff3-60b8f0821c18"
      },
      "source": [
        "# Let's check the data types of Google again\n",
        "google.dtypes"
      ],
      "execution_count": 29,
      "outputs": [
        {
          "output_type": "execute_result",
          "data": {
            "text/plain": [
              "Category     object\n",
              "Rating      float64\n",
              "Reviews       int64\n",
              "Price       float64\n",
              "dtype: object"
            ]
          },
          "metadata": {
            "tags": []
          },
          "execution_count": 29
        }
      ]
    },
    {
      "cell_type": "markdown",
      "metadata": {
        "id": "OiLm2GEKFcvP"
      },
      "source": [
        "### 2b. Add a `platform` column to both the `Apple` and the `Google` dataframes\n",
        "Let's add a new column to both dataframe objects called `platform`: all of its values in the Google dataframe will be just 'google', and all of its values for the Apple dataframe will be just 'apple'. \n",
        "\n",
        "The reason we're making this column is so that we can ultimately join our Apple and Google data together, and actually test out some hypotheses to solve the problem in our brief. "
      ]
    },
    {
      "cell_type": "code",
      "metadata": {
        "collapsed": true,
        "id": "mF-sOcx2FcvQ"
      },
      "source": [
        "# Create a column called 'platform' in both the Apple and Google dataframes. \n",
        "# Add the value 'apple' and the value 'google' as appropriate. \n",
        "google['platform'] = 'google'\n",
        "apple['platform'] = 'apple'"
      ],
      "execution_count": 30,
      "outputs": []
    },
    {
      "cell_type": "markdown",
      "metadata": {
        "id": "EJcry17IFcvS"
      },
      "source": [
        "### 2c. Changing the column names to prepare for our join of the two datasets \n",
        "Since the easiest way to join two datasets is if they have both:\n",
        "- the same number of columns\n",
        "- the same column names\n",
        "we need to rename the columns of `Apple` so that they're the same as the ones of `Google`, or vice versa.\n",
        "\n",
        "In this case, we're going to change the `Apple` columns names to the names of the `Google` columns. \n",
        "\n",
        "This is an important step to unify the two datasets!"
      ]
    },
    {
      "cell_type": "code",
      "metadata": {
        "collapsed": true,
        "id": "bdt9XH2KFcvT"
      },
      "source": [
        "# Create a variable called old_names where you'll store the column names of the Apple dataframe. \n",
        "# Use the feature .columns.\n",
        "old_names = apple.columns\n",
        "\n",
        "# Create a variable called new_names where you'll store the column names of the Google dataframe. \n",
        "new_names = google.columns\n",
        "\n",
        "# Use the rename() DataFrame method to change the columns names. \n",
        "apple = apple.rename(columns=dict(zip(old_names,new_names)))"
      ],
      "execution_count": 32,
      "outputs": []
    },
    {
      "cell_type": "markdown",
      "metadata": {
        "id": "qewPiLrRFcvX"
      },
      "source": [
        "### 2d. Join the two datasets \n",
        "Let's combine the two datasets into a single data frame called `df`."
      ]
    },
    {
      "cell_type": "code",
      "metadata": {
        "colab": {
          "base_uri": "https://localhost:8080/",
          "height": 421
        },
        "id": "jq6fGfvyFcvY",
        "outputId": "442a5dc6-cce0-47cb-d573-dd94a43e3c1f"
      },
      "source": [
        "# Let's use the append() method to append Apple to Google. \n",
        "df = apple.append(google)\n",
        "\n",
        "# Using the sample() method with the number 12 passed to it, check 12 random points of your dataset.\n",
        "df.sample(12)"
      ],
      "execution_count": 33,
      "outputs": [
        {
          "output_type": "execute_result",
          "data": {
            "text/html": [
              "<div>\n",
              "<style scoped>\n",
              "    .dataframe tbody tr th:only-of-type {\n",
              "        vertical-align: middle;\n",
              "    }\n",
              "\n",
              "    .dataframe tbody tr th {\n",
              "        vertical-align: top;\n",
              "    }\n",
              "\n",
              "    .dataframe thead th {\n",
              "        text-align: right;\n",
              "    }\n",
              "</style>\n",
              "<table border=\"1\" class=\"dataframe\">\n",
              "  <thead>\n",
              "    <tr style=\"text-align: right;\">\n",
              "      <th></th>\n",
              "      <th>Category</th>\n",
              "      <th>Rating</th>\n",
              "      <th>Reviews</th>\n",
              "      <th>Price</th>\n",
              "      <th>platform</th>\n",
              "    </tr>\n",
              "  </thead>\n",
              "  <tbody>\n",
              "    <tr>\n",
              "      <th>6946</th>\n",
              "      <td>Music</td>\n",
              "      <td>3.5</td>\n",
              "      <td>123</td>\n",
              "      <td>4.99</td>\n",
              "      <td>apple</td>\n",
              "    </tr>\n",
              "    <tr>\n",
              "      <th>375</th>\n",
              "      <td>COMMUNICATION</td>\n",
              "      <td>3.7</td>\n",
              "      <td>13761</td>\n",
              "      <td>0.00</td>\n",
              "      <td>google</td>\n",
              "    </tr>\n",
              "    <tr>\n",
              "      <th>5980</th>\n",
              "      <td>Games</td>\n",
              "      <td>4.5</td>\n",
              "      <td>136</td>\n",
              "      <td>0.00</td>\n",
              "      <td>apple</td>\n",
              "    </tr>\n",
              "    <tr>\n",
              "      <th>9370</th>\n",
              "      <td>FINANCE</td>\n",
              "      <td>NaN</td>\n",
              "      <td>0</td>\n",
              "      <td>0.00</td>\n",
              "      <td>google</td>\n",
              "    </tr>\n",
              "    <tr>\n",
              "      <th>7618</th>\n",
              "      <td>GAME</td>\n",
              "      <td>4.1</td>\n",
              "      <td>4107</td>\n",
              "      <td>4.99</td>\n",
              "      <td>google</td>\n",
              "    </tr>\n",
              "    <tr>\n",
              "      <th>6164</th>\n",
              "      <td>Photo &amp; Video</td>\n",
              "      <td>4.5</td>\n",
              "      <td>807</td>\n",
              "      <td>0.00</td>\n",
              "      <td>apple</td>\n",
              "    </tr>\n",
              "    <tr>\n",
              "      <th>359</th>\n",
              "      <td>Music</td>\n",
              "      <td>4.5</td>\n",
              "      <td>3909</td>\n",
              "      <td>9.99</td>\n",
              "      <td>apple</td>\n",
              "    </tr>\n",
              "    <tr>\n",
              "      <th>5070</th>\n",
              "      <td>PHOTOGRAPHY</td>\n",
              "      <td>3.8</td>\n",
              "      <td>6</td>\n",
              "      <td>0.00</td>\n",
              "      <td>google</td>\n",
              "    </tr>\n",
              "    <tr>\n",
              "      <th>5506</th>\n",
              "      <td>FAMILY</td>\n",
              "      <td>5.0</td>\n",
              "      <td>4</td>\n",
              "      <td>0.00</td>\n",
              "      <td>google</td>\n",
              "    </tr>\n",
              "    <tr>\n",
              "      <th>6957</th>\n",
              "      <td>FINANCE</td>\n",
              "      <td>4.6</td>\n",
              "      <td>83</td>\n",
              "      <td>0.00</td>\n",
              "      <td>google</td>\n",
              "    </tr>\n",
              "    <tr>\n",
              "      <th>10584</th>\n",
              "      <td>BUSINESS</td>\n",
              "      <td>3.8</td>\n",
              "      <td>17</td>\n",
              "      <td>0.00</td>\n",
              "      <td>google</td>\n",
              "    </tr>\n",
              "    <tr>\n",
              "      <th>4931</th>\n",
              "      <td>Games</td>\n",
              "      <td>4.5</td>\n",
              "      <td>7518</td>\n",
              "      <td>0.00</td>\n",
              "      <td>apple</td>\n",
              "    </tr>\n",
              "  </tbody>\n",
              "</table>\n",
              "</div>"
            ],
            "text/plain": [
              "            Category  Rating  Reviews  Price platform\n",
              "6946           Music     3.5      123   4.99    apple\n",
              "375    COMMUNICATION     3.7    13761   0.00   google\n",
              "5980           Games     4.5      136   0.00    apple\n",
              "9370         FINANCE     NaN        0   0.00   google\n",
              "7618            GAME     4.1     4107   4.99   google\n",
              "6164   Photo & Video     4.5      807   0.00    apple\n",
              "359            Music     4.5     3909   9.99    apple\n",
              "5070     PHOTOGRAPHY     3.8        6   0.00   google\n",
              "5506          FAMILY     5.0        4   0.00   google\n",
              "6957         FINANCE     4.6       83   0.00   google\n",
              "10584       BUSINESS     3.8       17   0.00   google\n",
              "4931           Games     4.5     7518   0.00    apple"
            ]
          },
          "metadata": {
            "tags": []
          },
          "execution_count": 33
        }
      ]
    },
    {
      "cell_type": "markdown",
      "metadata": {
        "id": "FjqsHugWFcvb"
      },
      "source": [
        "### 2e. Eliminate the NaN values\n",
        "\n",
        "As you can see there are some `NaN` values. We want to eliminate all these `NaN` values from the table."
      ]
    },
    {
      "cell_type": "code",
      "metadata": {
        "colab": {
          "base_uri": "https://localhost:8080/"
        },
        "id": "Gp2q6GLyFcvb",
        "outputId": "e8ab7d90-9788-49bb-a4c2-51c3ab2c1590"
      },
      "source": [
        "# Lets check first the dimesions of df before droping `NaN` values. Use the .shape feature. \n",
        "print(df.shape)\n",
        "\n",
        "# Use the dropna() method to eliminate all the NaN values, and overwrite the same dataframe with the result. \n",
        "df.dropna(inplace=True)\n",
        "\n",
        "# Check the new dimesions of our dataframe. \n",
        "print(df.shape)"
      ],
      "execution_count": 34,
      "outputs": [
        {
          "output_type": "stream",
          "text": [
            "(18037, 5)\n",
            "(16563, 5)\n"
          ],
          "name": "stdout"
        }
      ]
    },
    {
      "cell_type": "markdown",
      "metadata": {
        "id": "qtfeQKtAFcvd"
      },
      "source": [
        "### 2f. Filter the data so that we only see whose apps that have been reviewed at least once\n",
        "\n",
        "Apps that haven't been reviewed yet can't help us solve our brief. \n",
        "\n",
        "So let's check to see if any apps have no reviews at all. "
      ]
    },
    {
      "cell_type": "code",
      "metadata": {
        "colab": {
          "base_uri": "https://localhost:8080/"
        },
        "id": "Ge9OKXLNFcvd",
        "outputId": "b0382316-e9f1-4a9b-9423-4a3e35ba859b"
      },
      "source": [
        "# Subset your df to pick out just those rows whose value for 'Reviews' is equal to 0. \n",
        "# Do a count() on the result. \n",
        "df[df['Reviews'] == 0].count()"
      ],
      "execution_count": 35,
      "outputs": [
        {
          "output_type": "execute_result",
          "data": {
            "text/plain": [
              "Category    929\n",
              "Rating      929\n",
              "Reviews     929\n",
              "Price       929\n",
              "platform    929\n",
              "dtype: int64"
            ]
          },
          "metadata": {
            "tags": []
          },
          "execution_count": 35
        }
      ]
    },
    {
      "cell_type": "markdown",
      "metadata": {
        "id": "05f7H0kAFcvg"
      },
      "source": [
        "929 apps do not have reviews, we need to eliminate these points!"
      ]
    },
    {
      "cell_type": "code",
      "metadata": {
        "collapsed": true,
        "id": "pD8vmPjkFcvg"
      },
      "source": [
        "# Eliminate the points that have 0 reviews.\n",
        "df = df[df['Reviews'] != 0]"
      ],
      "execution_count": 36,
      "outputs": []
    },
    {
      "cell_type": "markdown",
      "metadata": {
        "id": "ApnKES_bFcvi"
      },
      "source": [
        "### 2g. Summarize the data visually and analytically (by the column `platform`)"
      ]
    },
    {
      "cell_type": "markdown",
      "metadata": {
        "id": "2smt9UocFcvj"
      },
      "source": [
        "What we need to solve our brief is a summary of the `Rating` column, but separated by the different platforms."
      ]
    },
    {
      "cell_type": "code",
      "metadata": {
        "colab": {
          "base_uri": "https://localhost:8080/",
          "height": 372
        },
        "id": "Vqckt347Fcvj",
        "outputId": "0d68740c-3888-4818-df15-1454dd75726b"
      },
      "source": [
        "# To summarize analytically, let's use the groupby() method on our df.\n",
        "df.groupby('platform').mean()\n",
        "%matplotlib inline\n",
        "df.boxplot(by='platform', column='Reviews')\n"
      ],
      "execution_count": 50,
      "outputs": [
        {
          "output_type": "stream",
          "text": [
            "/usr/local/lib/python3.7/dist-packages/numpy/core/_asarray.py:83: VisibleDeprecationWarning: Creating an ndarray from ragged nested sequences (which is a list-or-tuple of lists-or-tuples-or ndarrays with different lengths or shapes) is deprecated. If you meant to do this, you must specify 'dtype=object' when creating the ndarray\n",
            "  return array(a, dtype, copy=False, order=order)\n"
          ],
          "name": "stderr"
        },
        {
          "output_type": "execute_result",
          "data": {
            "text/plain": [
              "<matplotlib.axes._subplots.AxesSubplot at 0x7f26f63e4610>"
            ]
          },
          "metadata": {
            "tags": []
          },
          "execution_count": 50
        },
        {
          "output_type": "display_data",
          "data": {
            "image/png": "[encoded data removed]",
            "text/plain": [
              "<Figure size 432x288 with 1 Axes>"
            ]
          },
          "metadata": {
            "tags": [],
            "needs_background": "light"
          }
        }
      ]
    },
    {
      "cell_type": "markdown",
      "metadata": {
        "id": "8f9TqMtKFcvl"
      },
      "source": [
        "Interesting! Our means of 4.049697 and 4.191757 don't **seem** all that different! Perhaps we've solved our brief already: there's no significant difference between Google Play app reviews and Apple Store app reviews. We have an ***observed difference*** here: which is simply (4.191757 - 4.049697) = 0.14206. This is just the actual difference that we observed between the mean rating for apps from Google Play, and the mean rating for apps from the Apple Store. Let's look at how we're going to use this observed difference to solve our problem using a statistical test. \n",
        "\n",
        "**Outline of our method:**\n",
        "1. We'll assume that platform (i.e, whether the app was Google or Apple) really doesn’t impact on ratings. \n",
        "\n",
        "\n",
        "2. Given this assumption, we should actually be able to get a difference in mean rating for Apple apps and mean rating for Google apps that's pretty similar to the one we actually got (0.14206) just by: \n",
        "a. shuffling the ratings column, \n",
        "b. keeping the platform column the same,\n",
        "c. calculating the difference between the mean rating for Apple and the mean rating for Google. \n",
        "\n",
        "\n",
        "3. We can make the shuffle more useful by doing it many times, each time calculating the mean rating for Apple apps and the mean rating for Google apps, and the difference between these means. \n",
        "\n",
        "\n",
        "4. We can then take the mean of all these differences, and this will be called our permutation difference. This permutation difference will be great indicator of what the difference would be if our initial assumption were true and platform really doesn’t impact on ratings. \n",
        "\n",
        "\n",
        "5. Now we do a comparison. If the observed difference looks just like the permutation difference, then we stick with the claim that actually, platform doesn’t impact on ratings. If instead, however, the permutation difference differs significantly from the observed difference, we'll conclude: something's going on; the platform does in fact impact on ratings. \n",
        "\n",
        "\n",
        "6. As for what the definition of *significantly* is, we'll get to that. But there’s a brief summary of what we're going to do. Exciting!\n",
        "\n",
        "If you want to look more deeply at the statistics behind this project, check out [this resource](https://www.springboard.com/archeio/download/4ea4d453b0b84014bcef287c50f47f00/)."
      ]
    },
    {
      "cell_type": "markdown",
      "metadata": {
        "id": "d6EhTxArFcvm"
      },
      "source": [
        "Let's also get a **visual summary** of the `Rating` column, separated by the different platforms. \n",
        "\n",
        "A good tool to use here is the boxplot!"
      ]
    },
    {
      "cell_type": "code",
      "metadata": {
        "colab": {
          "base_uri": "https://localhost:8080/",
          "height": 372
        },
        "id": "hFKjrlWgFcvm",
        "outputId": "4835c269-9472-4f4a-cd84-e0f4ba31a1b1"
      },
      "source": [
        "# Call the boxplot() method on our df.\n",
        "%matplotlib inline\n",
        "df.boxplot(by='platform', column='Rating')"
      ],
      "execution_count": 51,
      "outputs": [
        {
          "output_type": "stream",
          "text": [
            "/usr/local/lib/python3.7/dist-packages/numpy/core/_asarray.py:83: VisibleDeprecationWarning: Creating an ndarray from ragged nested sequences (which is a list-or-tuple of lists-or-tuples-or ndarrays with different lengths or shapes) is deprecated. If you meant to do this, you must specify 'dtype=object' when creating the ndarray\n",
            "  return array(a, dtype, copy=False, order=order)\n"
          ],
          "name": "stderr"
        },
        {
          "output_type": "execute_result",
          "data": {
            "text/plain": [
              "<matplotlib.axes._subplots.AxesSubplot at 0x7f26f63c11d0>"
            ]
          },
          "metadata": {
            "tags": []
          },
          "execution_count": 51
        },
        {
          "output_type": "display_data",
          "data": {
            "image/png": "[encoded data removed]",
            "text/plain": [
              "<Figure size 432x288 with 1 Axes>"
            ]
          },
          "metadata": {
            "tags": [],
            "needs_background": "light"
          }
        }
      ]
    },
    {
      "cell_type": "markdown",
      "metadata": {
        "id": "FqTlAjnmFcvo"
      },
      "source": [
        "Here we see the same information as in the analytical summary, but with a boxplot. Can you see how the boxplot is working here? If you need to revise your boxplots, check out this this [link](https://www.kaggle.com/ramamet4/app-store-apple-data-set-10k-apps). "
      ]
    },
    {
      "cell_type": "markdown",
      "metadata": {
        "id": "O8L-s1fgFcvp"
      },
      "source": [
        "## Stage 3 - Modelling"
      ]
    },
    {
      "cell_type": "markdown",
      "metadata": {
        "id": "5fbRq2MZFcvq"
      },
      "source": [
        "### 3a. Hypothesis formulation\n",
        "\n",
        "Our **Null hypothesis** is just:\n",
        "\n",
        "**H<sub>null</sub>**: the observed difference in the mean rating of Apple Store and Google Play apps is due to chance (and thus not due to the platform).\n",
        "\n",
        "The more interesting hypothesis is called the **Alternate hypothesis**:\n",
        "\n",
        "**H<sub>alternative</sub>**: the observed difference in the average ratings of apple and google users is not due to chance (and is actually due to platform)\n",
        "\n",
        "We're also going to pick a **significance level** of 0.05. "
      ]
    },
    {
      "cell_type": "markdown",
      "metadata": {
        "id": "TjBqkabaFcvq"
      },
      "source": [
        "### 3b. Getting the distribution of the data\n",
        "Now that the hypotheses and significance level are defined, we can select a statistical test to determine which hypothesis to accept. \n",
        "\n",
        "There are many different statistical tests, all with different assumptions. You'll generate an excellent judgement about when to use which statistical tests over the Data Science Career Track course. But in general, one of the most important things to determine is the **distribution of the data**.   "
      ]
    },
    {
      "cell_type": "code",
      "metadata": {
        "collapsed": true,
        "id": "bFwVhkeWFcvr"
      },
      "source": [
        "# Create a subset of the column 'Rating' by the different platforms.\n",
        "# Call the subsets 'apple' and 'google' \n",
        "apple = df[df['platform'] == 'apple']['Rating']\n",
        "google = df[df['platform']== 'google']['Rating']"
      ],
      "execution_count": 39,
      "outputs": []
    },
    {
      "cell_type": "code",
      "metadata": {
        "colab": {
          "base_uri": "https://localhost:8080/"
        },
        "id": "oPPFpwPvFcvu",
        "outputId": "00879e44-61b1-42df-ff38-fbeab2f104ba"
      },
      "source": [
        "# Using the stats.normaltest() method, get an indication of whether the apple data are normally distributed\n",
        "# Save the result in a variable called apple_normal, and print it out\n",
        "apple_normal = stats.normaltest(apple)\n",
        "print(apple_normal)"
      ],
      "execution_count": 40,
      "outputs": [
        {
          "output_type": "stream",
          "text": [
            "NormaltestResult(statistic=1778.9974234584017, pvalue=0.0)\n"
          ],
          "name": "stdout"
        }
      ]
    },
    {
      "cell_type": "code",
      "metadata": {
        "colab": {
          "base_uri": "https://localhost:8080/"
        },
        "id": "rCdh8a8KFcvw",
        "outputId": "3d8ea8a9-8b11-461c-9579-adb7d9abaa4d"
      },
      "source": [
        "# Do the same with the google data. \n",
        "google_normal = stats.normaltest(google)\n",
        "print(google_normal)"
      ],
      "execution_count": 41,
      "outputs": [
        {
          "output_type": "stream",
          "text": [
            "NormaltestResult(statistic=3678.6157187516856, pvalue=0.0)\n"
          ],
          "name": "stdout"
        }
      ]
    },
    {
      "cell_type": "markdown",
      "metadata": {
        "id": "9gDqu21yFcv0"
      },
      "source": [
        "Since the null hypothesis of the normaltest() is that the data are normally distributed, the lower the p-value in the result of this test, the more likely the data are to be non-normal. \n",
        "\n",
        "Since the p-values is 0 for both tests, regardless of what we pick for the significance level, our conclusion is that the data are not normally distributed. \n",
        "\n",
        "We can actually also check out the distribution of the data visually with a histogram. A normal distribution has the following visual characteristics:\n",
        "    - symmetric\n",
        "    - unimodal (one hump)\n",
        "As well as a roughly identical mean, median and mode. "
      ]
    },
    {
      "cell_type": "code",
      "metadata": {
        "colab": {
          "base_uri": "https://localhost:8080/",
          "height": 333
        },
        "id": "P9tT9RjNFcv1",
        "outputId": "4b8354f6-6548-41af-b553-6fb0cd713a68"
      },
      "source": [
        "# Create a histogram of the apple reviews distribution\n",
        "plt.hist(apple)"
      ],
      "execution_count": 42,
      "outputs": [
        {
          "output_type": "execute_result",
          "data": {
            "text/plain": [
              "(array([  44.,   56.,  106.,  196.,    0.,  383.,  702., 1626., 2663.,\n",
              "         492.]),\n",
              " array([1. , 1.4, 1.8, 2.2, 2.6, 3. , 3.4, 3.8, 4.2, 4.6, 5. ]),\n",
              " <a list of 10 Patch objects>)"
            ]
          },
          "metadata": {
            "tags": []
          },
          "execution_count": 42
        },
        {
          "output_type": "display_data",
          "data": {
            "image/png": "[encoded data removed]",
            "text/plain": [
              "<Figure size 432x288 with 1 Axes>"
            ]
          },
          "metadata": {
            "tags": [],
            "needs_background": "light"
          }
        }
      ]
    },
    {
      "cell_type": "code",
      "metadata": {
        "colab": {
          "base_uri": "https://localhost:8080/",
          "height": 333
        },
        "id": "8dE1uC5iFcv2",
        "outputId": "1837ce82-91e1-4503-e3c1-6fcff89236a2"
      },
      "source": [
        "# Create a histogram of the google data\n",
        "plt.hist(google)"
      ],
      "execution_count": 43,
      "outputs": [
        {
          "output_type": "execute_result",
          "data": {
            "text/plain": [
              "(array([  17.,   18.,   41.,   74.,  137.,  446.,  879., 1662., 4175.,\n",
              "        1917.]),\n",
              " array([1. , 1.4, 1.8, 2.2, 2.6, 3. , 3.4, 3.8, 4.2, 4.6, 5. ]),\n",
              " <a list of 10 Patch objects>)"
            ]
          },
          "metadata": {
            "tags": []
          },
          "execution_count": 43
        },
        {
          "output_type": "display_data",
          "data": {
            "image/png": "[encoded data removed]",
            "text/plain": [
              "<Figure size 432x288 with 1 Axes>"
            ]
          },
          "metadata": {
            "tags": [],
            "needs_background": "light"
          }
        }
      ]
    },
    {
      "cell_type": "markdown",
      "metadata": {
        "id": "QhZV89FzFcv5"
      },
      "source": [
        "### 3c. Permutation test\n",
        "Since the data aren't normally distributed, we're using a *non-parametric* test here. This is simply a label for statistical tests used when the data aren't normally distributed. These tests are extraordinarily powerful due to how few assumptions we need to make.  \n",
        "\n",
        "Check out more about permutations [here.](http://rasbt.github.io/mlxtend/user_guide/evaluate/permutation_test/)"
      ]
    },
    {
      "cell_type": "code",
      "metadata": {
        "colab": {
          "base_uri": "https://localhost:8080/"
        },
        "id": "bxNhQgpqFcv6",
        "outputId": "593a583b-a811-43e1-c62d-3a251046216f"
      },
      "source": [
        "# Create a column called `Permutation1`, and assign to it the result of permuting (shuffling) the Rating column\n",
        "# This assignment will use our numpy object's random.permutation() method\n",
        "df['Permutation1'] = np.random.permutation(df['Rating'])\n",
        "\n",
        "# Call the describe() method on our permutation grouped by 'platform'. \n",
        "gb = df.groupby('platform')\n",
        "print(df)"
      ],
      "execution_count": 44,
      "outputs": [
        {
          "output_type": "stream",
          "text": [
            "                  Category  Rating  Reviews  Price platform  Permutation1\n",
            "0                    Games     4.0    21292   3.99    apple           3.5\n",
            "1             Productivity     4.0   161065   0.00    apple           4.5\n",
            "2                  Weather     3.5   188583   0.00    apple           4.5\n",
            "3                 Shopping     4.0   262241   0.00    apple           4.0\n",
            "4                Reference     4.5   985920   0.00    apple           3.8\n",
            "...                    ...     ...      ...    ...      ...           ...\n",
            "10834               FAMILY     4.0        7   0.00   google           4.4\n",
            "10836               FAMILY     4.5       38   0.00   google           4.5\n",
            "10837               FAMILY     5.0        4   0.00   google           4.1\n",
            "10839  BOOKS_AND_REFERENCE     4.5      114   0.00   google           1.5\n",
            "10840            LIFESTYLE     4.5   398307   0.00   google           4.6\n",
            "\n",
            "[15634 rows x 6 columns]\n"
          ],
          "name": "stdout"
        }
      ]
    },
    {
      "cell_type": "code",
      "metadata": {
        "colab": {
          "base_uri": "https://localhost:8080/",
          "height": 142
        },
        "id": "AaGNfPGTFcv7",
        "outputId": "08bf28bf-e677-4e2d-8877-5bcec1129a09"
      },
      "source": [
        "# Lets compare with the previous analytical summary:\n",
        "df.groupby(by='platform')['Rating'].describe()"
      ],
      "execution_count": 45,
      "outputs": [
        {
          "output_type": "execute_result",
          "data": {
            "text/html": [
              "<div>\n",
              "<style scoped>\n",
              "    .dataframe tbody tr th:only-of-type {\n",
              "        vertical-align: middle;\n",
              "    }\n",
              "\n",
              "    .dataframe tbody tr th {\n",
              "        vertical-align: top;\n",
              "    }\n",
              "\n",
              "    .dataframe thead th {\n",
              "        text-align: right;\n",
              "    }\n",
              "</style>\n",
              "<table border=\"1\" class=\"dataframe\">\n",
              "  <thead>\n",
              "    <tr style=\"text-align: right;\">\n",
              "      <th></th>\n",
              "      <th>count</th>\n",
              "      <th>mean</th>\n",
              "      <th>std</th>\n",
              "      <th>min</th>\n",
              "      <th>25%</th>\n",
              "      <th>50%</th>\n",
              "      <th>75%</th>\n",
              "      <th>max</th>\n",
              "    </tr>\n",
              "    <tr>\n",
              "      <th>platform</th>\n",
              "      <th></th>\n",
              "      <th></th>\n",
              "      <th></th>\n",
              "      <th></th>\n",
              "      <th></th>\n",
              "      <th></th>\n",
              "      <th></th>\n",
              "      <th></th>\n",
              "    </tr>\n",
              "  </thead>\n",
              "  <tbody>\n",
              "    <tr>\n",
              "      <th>apple</th>\n",
              "      <td>6268.0</td>\n",
              "      <td>4.049697</td>\n",
              "      <td>0.726943</td>\n",
              "      <td>1.0</td>\n",
              "      <td>4.0</td>\n",
              "      <td>4.5</td>\n",
              "      <td>4.5</td>\n",
              "      <td>5.0</td>\n",
              "    </tr>\n",
              "    <tr>\n",
              "      <th>google</th>\n",
              "      <td>9366.0</td>\n",
              "      <td>4.191757</td>\n",
              "      <td>0.515219</td>\n",
              "      <td>1.0</td>\n",
              "      <td>4.0</td>\n",
              "      <td>4.3</td>\n",
              "      <td>4.5</td>\n",
              "      <td>5.0</td>\n",
              "    </tr>\n",
              "  </tbody>\n",
              "</table>\n",
              "</div>"
            ],
            "text/plain": [
              "           count      mean       std  min  25%  50%  75%  max\n",
              "platform                                                     \n",
              "apple     6268.0  4.049697  0.726943  1.0  4.0  4.5  4.5  5.0\n",
              "google    9366.0  4.191757  0.515219  1.0  4.0  4.3  4.5  5.0"
            ]
          },
          "metadata": {
            "tags": []
          },
          "execution_count": 45
        }
      ]
    },
    {
      "cell_type": "code",
      "metadata": {
        "id": "aJPNpX0JFcv-"
      },
      "source": [
        "# The difference in the means for Permutation1 (0.001103) now looks hugely different to our observed difference of 0.14206. \n",
        "# It's sure starting to look like our observed difference is significant, and that the Null is false; platform does impact on ratings\n",
        "# But to be sure, let's create 10,000 permutations, calculate the mean ratings for Google and Apple apps and the difference between these for each one, and then take the average of all of these differences.\n",
        "# Let's create a vector with the differences - that will be the distibution of the Null.\n",
        "\n",
        "# First, make a list called difference.\n",
        "difference = list()\n",
        "# Now make a for loop that does the following 10,000 times:\n",
        "# 1. makes a permutation of the 'Rating' as you did above\n",
        "# 2. calculates the difference in the mean rating for apple and the mean rating for google. \n",
        "for _ in range(10000):\n",
        "    permutation = np.random.permutation(df['Rating'])\n",
        "    difference.append(np.mean(permutation[df['platform']=='apple']) - np.mean(permutation[df['platform']=='google']))"
      ],
      "execution_count": 46,
      "outputs": []
    },
    {
      "cell_type": "code",
      "metadata": {
        "colab": {
          "base_uri": "https://localhost:8080/",
          "height": 265
        },
        "id": "VlzpYTkYFcv_",
        "outputId": "27bd8772-0f80-4288-cc35-b27c1d86e608"
      },
      "source": [
        "# Make a variable called 'histo', and assign to it the result of plotting a histogram of the difference list. \n",
        "histo = plt.hist(difference)"
      ],
      "execution_count": 47,
      "outputs": [
        {
          "output_type": "display_data",
          "data": {
            "image/png": "[encoded data removed]",
            "text/plain": [
              "<Figure size 432x288 with 1 Axes>"
            ]
          },
          "metadata": {
            "tags": [],
            "needs_background": "light"
          }
        }
      ]
    },
    {
      "cell_type": "code",
      "metadata": {
        "colab": {
          "base_uri": "https://localhost:8080/"
        },
        "id": "KhqgDFd3FcwB",
        "outputId": "46dbb735-ef4c-433c-a105-0d0526627098"
      },
      "source": [
        "# Now make a variable called obs_difference, and assign it the result of the mean of our 'apple' variable and the mean of our 'google variable'\n",
        "obs_difference = np.mean(apple) - np.mean(google)\n",
        "\n",
        "# Make this difference absolute with the built-in abs() function. \n",
        "obs_difference = abs(obs_difference)\n",
        "# Print out this value; it should be 0.1420605474512291. \n",
        "print(obs_difference)"
      ],
      "execution_count": 48,
      "outputs": [
        {
          "output_type": "stream",
          "text": [
            "0.14206054745123442\n"
          ],
          "name": "stdout"
        }
      ]
    },
    {
      "cell_type": "markdown",
      "metadata": {
        "id": "QUNuuSgDFcwE"
      },
      "source": [
        "## Stage 4 -  Evaluating and concluding\n",
        "### 4a. What is our conclusion?"
      ]
    },
    {
      "cell_type": "code",
      "metadata": {
        "colab": {
          "base_uri": "https://localhost:8080/"
        },
        "id": "XMQHnqx1FcwF",
        "outputId": "6df5904d-eb7b-4e97-a2ff-1753e80230cb"
      },
      "source": [
        "'''\n",
        "What do we know? \n",
        "\n",
        "Recall: The p-value of our observed data is just the proportion of the data given the null that's at least as extreme as that observed data.\n",
        "\n",
        "As a result, we're going to count how many of the differences in our difference list are at least as extreme as our observed difference.\n",
        "\n",
        "If less than or equal to 5% of them are, then we will reject the Null. \n",
        "'''\n",
        "positive = []\n",
        "negative = []\n",
        "for i in range(len(difference)):\n",
        "    if (difference[i] >= obs_difference):\n",
        "        positive.append(difference[i])\n",
        "    elif (difference[i] <= -obs_difference):\n",
        "        negative.append(difference[i])\n",
        "\n",
        "print(len(positive))\n",
        "print(len(negative))"
      ],
      "execution_count": 49,
      "outputs": [
        {
          "output_type": "stream",
          "text": [
            "0\n",
            "0\n"
          ],
          "name": "stdout"
        }
      ]
    },
    {
      "cell_type": "markdown",
      "metadata": {
        "id": "4RTofY9wFcwI"
      },
      "source": [
        "### 4b. What is our decision?\n",
        "So actually, zero differences are at least as extreme as our observed difference!\n",
        "\n",
        "So the p-value of our observed data is 0. \n",
        "\n",
        "It doesn't matter which significance level we pick; our observed data is statistically significant, and we reject the Null.\n",
        "\n",
        "We conclude that platform does impact on ratings. Specifically, we should advise our client to integrate **only Google Play** into their operating system interface. "
      ]
    },
    {
      "cell_type": "markdown",
      "metadata": {
        "id": "Cu_eh7fTFcwJ"
      },
      "source": [
        "### 4c. Other statistical tests, and next steps\n",
        "The test we used here is the Permutation test. This was appropriate because our data were not normally distributed! \n",
        "\n",
        "As we've seen in Professor Spiegelhalter's book, there are actually many different statistical tests, all with different assumptions. How many of these different statistical tests can you remember? How much do you remember about what the appropriate conditions are under which to use them? \n",
        "\n",
        "Make a note of your answers to these questions, and discuss them with your mentor at your next call. \n"
      ]
    }
  ]
}